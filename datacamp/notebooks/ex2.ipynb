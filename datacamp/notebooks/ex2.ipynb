{
 "cells": [
  {
   "cell_type": "markdown",
   "metadata": {},
   "source": [
    "# Exercise 2\n",
    "\n",
    "Created on Thu Jul  7 15:46:10 2022\n",
    "Exercises # 2\n",
    "\n",
    "Version 2: Problem 6. Value changed from 30250545001 to  3025054999\n",
    "Objective:\n",
    "    \n",
    "    This short set of exercises aims to make you practice basic\n",
    "    programmning skills\n",
    "@author: Alejandro Murrieta Mendoza"
   ]
  },
  {
   "cell_type": "markdown",
   "metadata": {},
   "source": [
    "1. Declare two numbers and print:\n",
    "\n",
    "a) their sum\n",
    "\n",
    "b) their substraction\n",
    "\n",
    "c) multiplication\n",
    "\n",
    "d) division"
   ]
  },
  {
   "cell_type": "code",
   "execution_count": 1,
   "metadata": {},
   "outputs": [
    {
     "name": "stdout",
     "output_type": "stream",
     "text": [
      "9\n",
      "1\n",
      "20\n",
      "1.25\n"
     ]
    }
   ],
   "source": [
    "x = 5\n",
    "y = 4\n",
    "\n",
    "print(x + y)\n",
    "print(x - y)\n",
    "print(x * y)\n",
    "print(x / y)"
   ]
  },
  {
   "cell_type": "markdown",
   "metadata": {},
   "source": [
    "2. Use IF statements to define which number is smaller. Print the value of\n",
    "both numbers and print the solution"
   ]
  },
  {
   "cell_type": "code",
   "execution_count": 2,
   "metadata": {},
   "outputs": [
    {
     "name": "stdout",
     "output_type": "stream",
     "text": [
      "y (4) is smaller than x (5)\n"
     ]
    }
   ],
   "source": [
    "if x < y:\n",
    "    print(f\"x ({x}) is smaller than y (y{y})\")\n",
    "else:\n",
    "    print(f\"y ({y}) is smaller than x ({x})\")"
   ]
  },
  {
   "cell_type": "markdown",
   "metadata": {},
   "source": [
    "3. Ask for a number between 0 and 10.\n",
    "\n",
    "Define the list (vector)\n",
    "\n",
    "numbers = [0,2,4,10]\n",
    "\n",
    "define if the provided number is in that listl"
   ]
  },
  {
   "cell_type": "code",
   "execution_count": 3,
   "metadata": {},
   "outputs": [
    {
     "name": "stdout",
     "output_type": "stream",
     "text": [
      "The input number is not in the list\n"
     ]
    }
   ],
   "source": [
    "input_number = int(input(\"Input a number between 0 and 10: \"))\n",
    "numbers = [0, 2, 4, 10]\n",
    "\n",
    "if input_number in numbers:\n",
    "    print(\"The input number is in the list\")\n",
    "else:\n",
    "    print(\"The input number is not in the list\")"
   ]
  },
  {
   "cell_type": "markdown",
   "metadata": {},
   "source": [
    "4. Ask for any animal.\n",
    "\n",
    "Define the list ( or vector) animals shown below\n",
    "\n",
    "animals = ['dog', 'cat', 'fish', 'horse', 'tiger']\n",
    "\n",
    "define if the provided animal is in that list"
   ]
  },
  {
   "cell_type": "code",
   "execution_count": 4,
   "metadata": {},
   "outputs": [
    {
     "name": "stdout",
     "output_type": "stream",
     "text": [
      "The animal is in the list\n"
     ]
    }
   ],
   "source": [
    "animal = input(\"Enter an animal: \")\n",
    "animals = [\"dog\", \"cat\", \"fish\", \"horse\", \"tiger\"]\n",
    "\n",
    "if animal in animals:\n",
    "    print(\"The animal is in the list\")\n",
    "else:\n",
    "    print(\"The animal is not in the list\")"
   ]
  },
  {
   "cell_type": "markdown",
   "metadata": {},
   "source": [
    "5. Create a For loop that iterates from 0 to 100 and only print the values multiple of 2. Hint: You might want to use modulus (%)"
   ]
  },
  {
   "cell_type": "code",
   "execution_count": 5,
   "metadata": {},
   "outputs": [
    {
     "name": "stdout",
     "output_type": "stream",
     "text": [
      "0\n",
      "2\n",
      "4\n",
      "6\n",
      "8\n",
      "10\n",
      "12\n",
      "14\n",
      "16\n",
      "18\n",
      "20\n",
      "22\n",
      "24\n",
      "26\n",
      "28\n",
      "30\n",
      "32\n",
      "34\n",
      "36\n",
      "38\n",
      "40\n",
      "42\n",
      "44\n",
      "46\n",
      "48\n",
      "50\n",
      "52\n",
      "54\n",
      "56\n",
      "58\n",
      "60\n",
      "62\n",
      "64\n",
      "66\n",
      "68\n",
      "70\n",
      "72\n",
      "74\n",
      "76\n",
      "78\n",
      "80\n",
      "82\n",
      "84\n",
      "86\n",
      "88\n",
      "90\n",
      "92\n",
      "94\n",
      "96\n",
      "98\n",
      "100\n"
     ]
    }
   ],
   "source": [
    "for i in range(0, 101):\n",
    "    if i % 2 == 0:\n",
    "        print(i)"
   ]
  },
  {
   "cell_type": "markdown",
   "metadata": {},
   "source": [
    "6. Introduce the next equation x^2 + 3x + 1. Set a while loop and evaluate the function increasing x per unit per loop (increase x + 1 per loop)\n",
    "\n",
    "Example Iteration 1 (x = 0): 0^2 + 3*0 + 1.\n",
    "\n",
    "Iteration 2 (x = 1): 1^2 + 3 * 1 + 1,\n",
    "\n",
    "Iteration 3 (x = 2): 2^2+ 2*1 + 1, iteration 4 (x = 3): 3^2 + 3*3 + 1....\n",
    "\n",
    "the while loop must stop when the solution equals 3025054999\n",
    "\n",
    "Print the value of x that provides 3025054999\n",
    "\n",
    "The initial value of x must be 0 (iterations begins at 0)"
   ]
  },
  {
   "cell_type": "code",
   "execution_count": 6,
   "metadata": {},
   "outputs": [],
   "source": [
    "solution = 0\n",
    "x = 0\n",
    "\n",
    "while solution != 3025054999:\n",
    "    solution = x**2 + 3 * x + 1\n",
    "    x += 1"
   ]
  },
  {
   "cell_type": "markdown",
   "metadata": {},
   "source": [
    "7. Create the next vector/list:\n",
    "\n",
    "numbers = [10, 3, 6, 9, 12, 66, 103, 43, 14, 125, 4, 1, 0]\n",
    "\n",
    "In this vector, 10 is in the position 0, 3 in the position 1 and so on...\n",
    "\n",
    "Develop a code that can define:\n",
    "\n",
    "1.- At which position is the value 103?\n",
    "\n",
    "2.- At which position is the value 125?"
   ]
  },
  {
   "cell_type": "code",
   "execution_count": 8,
   "metadata": {},
   "outputs": [
    {
     "name": "stdout",
     "output_type": "stream",
     "text": [
      "6\n",
      "9\n"
     ]
    }
   ],
   "source": [
    "numbers = [10, 3, 6, 9, 12, 66, 103, 43, 14, 125, 4, 1, 0]\n",
    "\n",
    "\n",
    "def get_index(list, value):\n",
    "    return list.index(value)\n",
    "\n",
    "\n",
    "print(get_index(numbers, 103))\n",
    "print(get_index(numbers, 125))"
   ]
  },
  {
   "cell_type": "markdown",
   "metadata": {},
   "source": [
    "8. With the same vector/list numbers, using the form:  print(numbers[x])\n",
    "print the numbers 10, 66, 14, and 0."
   ]
  },
  {
   "cell_type": "code",
   "execution_count": 9,
   "metadata": {},
   "outputs": [
    {
     "name": "stdout",
     "output_type": "stream",
     "text": [
      "10\n",
      "66\n",
      "14\n",
      "0\n"
     ]
    }
   ],
   "source": [
    "print(numbers[get_index(numbers, 10)])\n",
    "print(numbers[get_index(numbers, 66)])\n",
    "print(numbers[get_index(numbers, 14)])\n",
    "print(numbers[get_index(numbers, 0)])"
   ]
  },
  {
   "cell_type": "markdown",
   "metadata": {},
   "source": [
    "# **** Excercises 2 Ends ****"
   ]
  }
 ],
 "metadata": {
  "kernelspec": {
   "display_name": "venv",
   "language": "python",
   "name": "python3"
  },
  "language_info": {
   "codemirror_mode": {
    "name": "ipython",
    "version": 3
   },
   "file_extension": ".py",
   "mimetype": "text/x-python",
   "name": "python",
   "nbconvert_exporter": "python",
   "pygments_lexer": "ipython3",
   "version": "3.11.5"
  },
  "orig_nbformat": 4
 },
 "nbformat": 4,
 "nbformat_minor": 2
}
