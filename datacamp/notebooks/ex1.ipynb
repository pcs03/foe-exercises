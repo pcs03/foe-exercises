{
 "cells": [
  {
   "cell_type": "markdown",
   "metadata": {},
   "source": [
    "# Exercise 1 \n",
    "\n",
    "Created on Fri Jul 22 2022\n",
    "Exercices # 1\n",
    "Objective:\n",
    "    \n",
    "    This script contains a series of simple exercises to help you practice\n",
    "    the different initial concepts\n",
    "    \n",
    "@author: Alejandro Murrieta-Mendooza"
   ]
  },
  {
   "cell_type": "markdown",
   "metadata": {},
   "source": [
    "1. Declare two variables x = 7 and y = 5"
   ]
  },
  {
   "cell_type": "code",
   "execution_count": 1,
   "metadata": {},
   "outputs": [],
   "source": [
    "x = 7\n",
    "y = 5"
   ]
  },
  {
   "cell_type": "markdown",
   "metadata": {},
   "source": [
    "2. Print y+x, y*x, y/w, y**x, and y%2.\n",
    "\n",
    "What does y**x and y%2 do?"
   ]
  },
  {
   "cell_type": "code",
   "execution_count": 2,
   "metadata": {},
   "outputs": [
    {
     "name": "stdout",
     "output_type": "stream",
     "text": [
      "12\n",
      "35\n",
      "0.7142857142857143\n",
      "78125\n",
      "1\n"
     ]
    }
   ],
   "source": [
    "print(y + x)\n",
    "print(y * x)\n",
    "print(y / x)\n",
    "print(y**x)  # y to the power of x\n",
    "print(y % 2)  # remainder of y / 2. 1 in this case"
   ]
  },
  {
   "cell_type": "markdown",
   "metadata": {},
   "source": [
    "3. Create a List with the numbers from 0 to 10."
   ]
  },
  {
   "cell_type": "code",
   "execution_count": 3,
   "metadata": {},
   "outputs": [],
   "source": [
    "range_list = list(range(0, 11))"
   ]
  },
  {
   "cell_type": "markdown",
   "metadata": {},
   "source": [
    "4. Using a for loop, print each element in the list"
   ]
  },
  {
   "cell_type": "code",
   "execution_count": 4,
   "metadata": {},
   "outputs": [
    {
     "name": "stdout",
     "output_type": "stream",
     "text": [
      "list element: 0\n",
      "list element: 1\n",
      "list element: 2\n",
      "list element: 3\n",
      "list element: 4\n",
      "list element: 5\n",
      "list element: 6\n",
      "list element: 7\n",
      "list element: 8\n",
      "list element: 9\n",
      "list element: 10\n"
     ]
    }
   ],
   "source": [
    "for element in range_list:\n",
    "    print(f\"list element: {element}\")"
   ]
  },
  {
   "cell_type": "markdown",
   "metadata": {},
   "source": [
    "5. Print the value of the 3rd value of your list plus the 8th value of your list."
   ]
  },
  {
   "cell_type": "code",
   "execution_count": 5,
   "metadata": {},
   "outputs": [
    {
     "name": "stdout",
     "output_type": "stream",
     "text": [
      "Sum of 3rd element and 8th element: 9\n"
     ]
    }
   ],
   "source": [
    "print(f\"Sum of 3rd element and 8th element: {range_list[2] + range_list[7]}\")"
   ]
  },
  {
   "cell_type": "markdown",
   "metadata": {},
   "source": [
    "6.- Define x = 3 and y = 7, and ask for a number z = 10. Using IF statements, define which one is the largest one."
   ]
  },
  {
   "cell_type": "code",
   "execution_count": 6,
   "metadata": {},
   "outputs": [
    {
     "name": "stdout",
     "output_type": "stream",
     "text": [
      "y (7) is the highest number\n"
     ]
    }
   ],
   "source": [
    "x = 3\n",
    "y = 7\n",
    "z = int(input(\"Input an integer for the variable z: \"))\n",
    "\n",
    "if z > max(x, y):\n",
    "    print(f\"z ({z}) is the highest number\")\n",
    "elif y > max(x, z):\n",
    "    print(f\"y ({y}) is the highest number\")\n",
    "else:\n",
    "    print(f\"x ({x}) is the highest number\")"
   ]
  },
  {
   "cell_type": "markdown",
   "metadata": {},
   "source": [
    "7. Extract each digit from an integer in the reverse order.\n",
    "\n",
    "Example, given x  = 1234, x should be x = 4321"
   ]
  },
  {
   "cell_type": "code",
   "execution_count": 7,
   "metadata": {},
   "outputs": [
    {
     "name": "stdout",
     "output_type": "stream",
     "text": [
      "For the integer '7765', the reverse is '5677'\n"
     ]
    }
   ],
   "source": [
    "from random import randrange\n",
    "\n",
    "integer = randrange(12000)\n",
    "\n",
    "print(f\"For the integer '{integer}', the reverse is '{str(integer)[::-1]}'\")"
   ]
  },
  {
   "cell_type": "markdown",
   "metadata": {},
   "source": [
    "8. Write a function called addition(x, y) that returns the sum of two numbers.\n"
   ]
  },
  {
   "cell_type": "code",
   "execution_count": 8,
   "metadata": {},
   "outputs": [],
   "source": [
    "def addition(x, y):\n",
    "    return x + y"
   ]
  },
  {
   "cell_type": "markdown",
   "metadata": {},
   "source": [
    "9. Put your name in a variable\n",
    "\n",
    "a. print all letters as capital letters\n",
    "\n",
    "b. print all leters in lower scape\n",
    "\n",
    "c. Ask for a name\n",
    "\n",
    "d. Only print the variable name if the answer is correct (your name)"
   ]
  },
  {
   "cell_type": "code",
   "execution_count": 9,
   "metadata": {},
   "outputs": [
    {
     "name": "stdout",
     "output_type": "stream",
     "text": [
      "PAOLO\n",
      "paolo\n",
      "Paolo\n"
     ]
    }
   ],
   "source": [
    "name = \"Paolo\"\n",
    "print(name.upper())\n",
    "print(name.lower())\n",
    "\n",
    "input_name = input(\"Input your name: \")\n",
    "if input_name.lower() == name.lower():\n",
    "    print(name)"
   ]
  },
  {
   "cell_type": "markdown",
   "metadata": {},
   "source": [
    "10.- Write a program to iterate from 0 to 15 and in each iteration, print the sum of the current and previous number (Use For or While).\n",
    "\n",
    "The first iteration (for 0), the output must be 0."
   ]
  },
  {
   "cell_type": "code",
   "execution_count": 10,
   "metadata": {},
   "outputs": [
    {
     "name": "stdout",
     "output_type": "stream",
     "text": [
      "0\n",
      "1\n",
      "3\n",
      "5\n",
      "7\n",
      "9\n",
      "11\n",
      "13\n",
      "15\n",
      "17\n",
      "19\n",
      "21\n",
      "23\n",
      "25\n",
      "27\n",
      "29\n"
     ]
    }
   ],
   "source": [
    "for i in range(0, 16):\n",
    "    print(i + i - 1 if i != 0 else 0)"
   ]
  },
  {
   "cell_type": "markdown",
   "metadata": {},
   "source": [
    "11.- Write a program to iterate the first 15 numbers and in each iteration, print the sum of the current and next number (Use For or While)"
   ]
  },
  {
   "cell_type": "code",
   "execution_count": 11,
   "metadata": {},
   "outputs": [
    {
     "name": "stdout",
     "output_type": "stream",
     "text": [
      "1\n",
      "3\n",
      "5\n",
      "7\n",
      "9\n",
      "11\n",
      "13\n",
      "15\n",
      "17\n",
      "19\n",
      "21\n",
      "23\n",
      "25\n",
      "27\n",
      "29\n",
      "31\n"
     ]
    }
   ],
   "source": [
    "for i in range(0, 16):\n",
    "    print(i + i + 1)"
   ]
  },
  {
   "cell_type": "markdown",
   "metadata": {},
   "source": [
    "12.- Write a function that converts the input (Farenhaits) to Celcius and print the result."
   ]
  },
  {
   "cell_type": "code",
   "execution_count": 12,
   "metadata": {},
   "outputs": [
    {
     "name": "stdout",
     "output_type": "stream",
     "text": [
      "-40.0\n"
     ]
    }
   ],
   "source": [
    "def f_to_c(temp_f):\n",
    "    return 5 / 9 * (temp_f - 32)\n",
    "\n",
    "\n",
    "print(f_to_c(-40))"
   ]
  },
  {
   "cell_type": "markdown",
   "metadata": {},
   "source": [
    "# ***** Excercises 1 Ends *****\n",
    "\n",
    "\n",
    "\n",
    "\n",
    "\n",
    "\n",
    "\n",
    "\n",
    "\n",
    "\n",
    "\n",
    "\n",
    "\n"
   ]
  }
 ],
 "metadata": {
  "kernelspec": {
   "display_name": "venv",
   "language": "python",
   "name": "python3"
  },
  "language_info": {
   "codemirror_mode": {
    "name": "ipython",
    "version": 3
   },
   "file_extension": ".py",
   "mimetype": "text/x-python",
   "name": "python",
   "nbconvert_exporter": "python",
   "pygments_lexer": "ipython3",
   "version": "3.11.5"
  },
  "orig_nbformat": 4
 },
 "nbformat": 4,
 "nbformat_minor": 2
}
