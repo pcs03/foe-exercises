{
 "cells": [
  {
   "cell_type": "markdown",
   "metadata": {},
   "source": [
    "# Exercise 3\n",
    "\n",
    "Version 2: Now a part of the exercises. \n",
    "Version 3: Corrected exercise \n",
    "FOE 3 - Year 4\n",
    "@author: Alejandro Murrieta-Mendoza\n",
    "\n",
    "This script is a refresher of lists and special functions\n",
    "Please help your colleagues and friends if they need assistance. \n",
    "\n",
    "This script is not graded.\n",
    "The line codes here are just a proposed solution. Youcan implement your own solution \n",
    "\n",
    "Objectives:\n",
    "    1.- Refresh previous basic skills from the last workshops.\n",
    "    2.- Make your logic using for loops and ifs stronger\n",
    "    3.- Use pre-defined functions.\n",
    "    4.- Compute the distance and initial azimuth between two cities <-- Directly \n",
    "        related to the assignment\n"
   ]
  },
  {
   "cell_type": "code",
   "execution_count": 1,
   "metadata": {},
   "outputs": [],
   "source": [
    "import numpy as np"
   ]
  },
  {
   "cell_type": "markdown",
   "metadata": {},
   "source": [
    "1. Create a list named my_list with 10 different numeric elements\n"
   ]
  },
  {
   "cell_type": "code",
   "execution_count": 2,
   "metadata": {},
   "outputs": [],
   "source": [
    "my_list = np.random.randint(1, 1000, 10)"
   ]
  },
  {
   "cell_type": "markdown",
   "metadata": {},
   "source": [
    "2. Use a for loop, range(), and len() to print the content of that list"
   ]
  },
  {
   "cell_type": "code",
   "execution_count": 3,
   "metadata": {},
   "outputs": [
    {
     "name": "stdout",
     "output_type": "stream",
     "text": [
      "My list is 10 elements long\n",
      "654\n",
      "172\n",
      "107\n",
      "671\n",
      "262\n",
      "771\n",
      "479\n",
      "618\n",
      "386\n",
      "931\n"
     ]
    }
   ],
   "source": [
    "print(f\"My list is {len(my_list)} elements long\")\n",
    "\n",
    "for i in my_list:\n",
    "    print(i)"
   ]
  },
  {
   "cell_type": "markdown",
   "metadata": {},
   "source": [
    "3.- Find and print the maximal value contained in your list. Print the index\n",
    "    as well. Print the value from your list using the index.\n",
    "    print(list[index]).\n",
    "    For this you can use numpy functions \"argmax()\" and \"np.amax()\""
   ]
  },
  {
   "cell_type": "code",
   "execution_count": 4,
   "metadata": {},
   "outputs": [
    {
     "name": "stdout",
     "output_type": "stream",
     "text": [
      "The highest value in the list is 931 with and index of 9\n"
     ]
    }
   ],
   "source": [
    "max_value = np.amax(my_list)\n",
    "max_value_index = np.argmax(my_list)\n",
    "\n",
    "print(\n",
    "    f\"The highest value in the list is {max_value} with and index of {max_value_index}\"\n",
    ")"
   ]
  },
  {
   "cell_type": "markdown",
   "metadata": {},
   "source": [
    "4. Use a for loop,  methods \".append\", and \".size\" (this one is a numpy\n",
    "    method) to pass the numpy array to a list called my_new_list\n"
   ]
  },
  {
   "cell_type": "code",
   "execution_count": 5,
   "metadata": {},
   "outputs": [
    {
     "name": "stdout",
     "output_type": "stream",
     "text": [
      "[1, 2, 3, 4, 5]\n"
     ]
    }
   ],
   "source": [
    "a = np.array([1, 2, 3, 4, 5])\n",
    "my_new_list = []\n",
    "for i in a:\n",
    "    my_new_list.append(i)\n",
    "\n",
    "print(my_new_list)"
   ]
  },
  {
   "cell_type": "markdown",
   "metadata": {},
   "source": [
    "5. Reverse the content of my_new_list to my_new_inverted_list using for loops.\n",
    "Output should be : [5,4,3,2,1]"
   ]
  },
  {
   "cell_type": "code",
   "execution_count": 6,
   "metadata": {},
   "outputs": [
    {
     "name": "stdout",
     "output_type": "stream",
     "text": [
      "[5, 4, 3, 2, 1]\n"
     ]
    }
   ],
   "source": [
    "my_new_inverted_list = [my_new_list[-i - 1] for i in range(len(my_new_list))]\n",
    "\n",
    "print(my_new_inverted_list)"
   ]
  },
  {
   "cell_type": "markdown",
   "metadata": {},
   "source": [
    "6. Observe the code below"
   ]
  },
  {
   "cell_type": "code",
   "execution_count": 7,
   "metadata": {},
   "outputs": [
    {
     "name": "stdout",
     "output_type": "stream",
     "text": [
      "Hello\n",
      "World!\n",
      "How is it going?\n",
      "Hello World! How is it going?\n",
      "Hello World!\n",
      "How is it going?\n"
     ]
    }
   ],
   "source": [
    "print(\"Hello\")\n",
    "print(\"World!\")\n",
    "print(\"How is it going?\")\n",
    "# Now look at this\n",
    "print(\"Hello\", end=\" \")\n",
    "print(\"World!\", end=\" \")\n",
    "print(\"How is it going?\")\n",
    "# Now look at this\n",
    "print(\"Hello\", end=\" \")\n",
    "print(\"World!\")\n",
    "print(\"How is it going?\")\n",
    "# Do you see what end = ' ' do?\n",
    "# Python adds a new line after every print() statement.. end = ' ' replaces this\n",
    "# for anything that we desire. https://www.geeksforgeeks.org/gfact-50-python-end-parameter-in-print/"
   ]
  },
  {
   "cell_type": "markdown",
   "metadata": {},
   "source": [
    "7. Print the perimeter side of a rectangle. First ask for the side size. Then print\n",
    "    the border of the square with that area.\n",
    "    Hint: you DO NOT want python to make a new line after each print()."
   ]
  },
  {
   "cell_type": "code",
   "execution_count": 9,
   "metadata": {},
   "outputs": [],
   "source": [
    "# * * * * *\n",
    "# *       *\n",
    "# *       *\n",
    "# *       *\n",
    "# * * * * *"
   ]
  },
  {
   "cell_type": "code",
   "execution_count": 10,
   "metadata": {},
   "outputs": [
    {
     "name": "stdout",
     "output_type": "stream",
     "text": [
      "* * * * * \n",
      "*       * \n",
      "*       * \n",
      "*       * \n",
      "* * * * * \n"
     ]
    }
   ],
   "source": [
    "side = int(input(\"Input the desired rectangle side size: \"))\n",
    "for i in range(side):\n",
    "    for j in range(side):\n",
    "        if i == 0 or i == side - 1 or j == 0 or j == side - 1:\n",
    "            print(\"*\", end=\" \")\n",
    "        else:\n",
    "            print(\" \", end=\" \")\n",
    "    print()"
   ]
  },
  {
   "cell_type": "markdown",
   "metadata": {},
   "source": [
    "8. Print a Triangle. Introduce the base size and make a solid\n",
    "    triangle in python. This is the desired output:"
   ]
  },
  {
   "cell_type": "code",
   "execution_count": 11,
   "metadata": {},
   "outputs": [],
   "source": [
    "#     *\n",
    "#     * *\n",
    "#     * * *\n",
    "#     * * * *\n",
    "#     * * * * *\n",
    "#     * * * * * *\n",
    "#     * * * * * * *\n",
    "#     * * * * * * * *\n",
    "#     * * * * * * * * *\n",
    "#     * * * * * * * * * *\n",
    "#     * * * * * * * * * * *\n",
    "#     * * * * * * * * * * * *"
   ]
  },
  {
   "cell_type": "code",
   "execution_count": 12,
   "metadata": {},
   "outputs": [
    {
     "name": "stdout",
     "output_type": "stream",
     "text": [
      "* \n",
      "* * \n",
      "* * * \n",
      "* * * * \n",
      "* * * * * \n",
      "* * * * * * \n",
      "* * * * * * * \n",
      "* * * * * * * * \n",
      "* * * * * * * * * \n",
      "* * * * * * * * * * \n"
     ]
    }
   ],
   "source": [
    "base = 10\n",
    "for i in range(base):\n",
    "    print(\"* \" * (i + 1))"
   ]
  },
  {
   "cell_type": "markdown",
   "metadata": {},
   "source": [
    "9. Do the same triangle, but instead of typying *, type the number of\n",
    "    rows. Base should be beteewn 2 and 9\n",
    "    triangle in python. This is the desired output:"
   ]
  },
  {
   "cell_type": "code",
   "execution_count": 13,
   "metadata": {},
   "outputs": [],
   "source": [
    "#     0\n",
    "#     1 1\n",
    "#     2 2 2\n",
    "#     3 3 3 3\n",
    "#     4 4 4 4 4\n",
    "#     5 5 5 5 5 5\n",
    "#     6 6 6 6 6 6 6\n",
    "#     7 7 7 7 7 7 7 7"
   ]
  },
  {
   "cell_type": "code",
   "execution_count": 15,
   "metadata": {},
   "outputs": [
    {
     "name": "stdout",
     "output_type": "stream",
     "text": [
      "0 \n",
      "1 1 \n",
      "2 2 2 \n",
      "3 3 3 3 \n",
      "4 4 4 4 4 \n",
      "5 5 5 5 5 5 \n",
      "6 6 6 6 6 6 6 \n",
      "7 7 7 7 7 7 7 7 \n",
      "8 8 8 8 8 8 8 8 8 \n",
      "9 9 9 9 9 9 9 9 9 9 \n"
     ]
    }
   ],
   "source": [
    "base = 10\n",
    "for i in range(base):\n",
    "    print(f\"{i} \" * (i + 1))"
   ]
  },
  {
   "cell_type": "markdown",
   "metadata": {},
   "source": [
    "# *** EXERCISES 3 ENDS ***"
   ]
  }
 ],
 "metadata": {
  "kernelspec": {
   "display_name": "venv",
   "language": "python",
   "name": "python3"
  },
  "language_info": {
   "codemirror_mode": {
    "name": "ipython",
    "version": 3
   },
   "file_extension": ".py",
   "mimetype": "text/x-python",
   "name": "python",
   "nbconvert_exporter": "python",
   "pygments_lexer": "ipython3",
   "version": "3.11.5"
  },
  "orig_nbformat": 4
 },
 "nbformat": 4,
 "nbformat_minor": 2
}
