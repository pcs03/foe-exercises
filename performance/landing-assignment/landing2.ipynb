{
 "cells": [
  {
   "cell_type": "code",
   "execution_count": 38,
   "metadata": {},
   "outputs": [],
   "source": [
    "import math\n",
    "import numpy as np\n",
    "import pandas as pd\n",
    "\n",
    "from avipy import qty, atmosphere as atm"
   ]
  },
  {
   "cell_type": "markdown",
   "metadata": {},
   "source": [
    "# Landing Performance Assignment\n",
    "## Deliberable 2: Actual Landing Distance\n",
    "\n",
    "Calculate the actual landing distance for a landing weight of 250000 kg at sea level.\n",
    "\n",
    "Values:\n",
    "- Final approach speed, $ v_{ref} + 5 Kts $\n",
    "- Flare time, $ t_f = 5.2 s $\n",
    "- Flare speed ratio, $ FSR = 0.978 $\n",
    "- Transition time, $t_{tr} = 1.8 s$\n",
    "- Transition speed decay, $decay = 0.982 $\n",
    "- Thrust at touchdown per engine, $ T_{td} = 3400 lbs $\n",
    "\n",
    "Assumptions:\n",
    "- No reverse thrust, no slope, no wind\n",
    "- 1 second to apply maximum braking power\n",
    "- Ground idle reverse thrust as follows:\n",
    "- Any flare height is negligible, thus  $TAS_{stall} = IAS_{stall} = 122 Kts$\n",
    "- Stall speed to ref speed, $ v_{ref} = v_{stall} \\cdot 1.23 $\n",
    "- Stall speed to touchdown speed, $ v_{td} = v_{stall} \\cdot 1.18 $\n",
    "\n",
    "\n",
    "| TAS [kts] | Total Idle Forward Thrust [lbs] |\n",
    "|-----------|---------------------------------|\n",
    "| 130 | 4896 |\n",
    "| 120 | 5266 |\n",
    "| 110 | 5517 |\n",
    "| 100 | 5949 |\n",
    "| 80 | 6580 |\n",
    "| 60 | 7235 |\n",
    "| 40 | 8157 |\n",
    "| 20 | 8991 |\n",
    "| 0 | 9875 |"
   ]
  },
  {
   "cell_type": "markdown",
   "metadata": {},
   "source": [
    "First, let's define these values in Python. As well as some aircraft related constants from deliverable 1 of the landing assignment. This is viable, as the aircraft between the two assignments is the same."
   ]
  },
  {
   "cell_type": "code",
   "execution_count": 39,
   "metadata": {},
   "outputs": [
    {
     "name": "stdout",
     "output_type": "stream",
     "text": [
      "62.76 m/s\n",
      "62.76 m/s\n"
     ]
    }
   ],
   "source": [
    "mass = qty.Mass(250000)\n",
    "weight = qty.Force.Kg(mass)\n",
    "v_stall = qty.Velocity.Kts(122)\n",
    "v_stall_to_ref = 1.23\n",
    "v_stall_to_td = 1.18\n",
    "t_flare = qty.Time(5.2)\n",
    "fsr = 0.978\n",
    "t_trans = qty.Time(1.8)\n",
    "speed_decay = 0.982\n",
    "thrust_td = qty.Force.Kg(qty.Mass.Lbs(3400 * 2))\n",
    "mu_dry = 0.54\n",
    "density = 1.2252\n",
    "cl_gnd = 0.126\n",
    "cd_gnd = 0.213\n",
    "surface = qty.Area(436.8)\n",
    "\n",
    "speed_thrust_segments = [\n",
    "    (qty.Velocity.Kts(130), qty.Force.Kg(qty.Mass.Lbs(4896))),\n",
    "    (qty.Velocity.Kts(120), qty.Force.Kg(qty.Mass.Lbs(5266))),\n",
    "    (qty.Velocity.Kts(110), qty.Force.Kg(qty.Mass.Lbs(5517))),\n",
    "    (qty.Velocity.Kts(100), qty.Force.Kg(qty.Mass.Lbs(5949))),\n",
    "    (qty.Velocity.Kts(80), qty.Force.Kg(qty.Mass.Lbs(6580))),\n",
    "    (qty.Velocity.Kts(60), qty.Force.Kg(qty.Mass.Lbs(7235))),\n",
    "    (qty.Velocity.Kts(40), qty.Force.Kg(qty.Mass.Lbs(8157))),\n",
    "    (qty.Velocity.Kts(20), qty.Force.Kg(qty.Mass.Lbs(8991))),\n",
    "    (qty.Velocity.Kts(0), qty.Force.Kg(qty.Mass.Lbs(9875))),\n",
    "]\n",
    "\n",
    "print(v_stall)\n"
   ]
  },
  {
   "cell_type": "markdown",
   "metadata": {},
   "source": [
    "The first thing that needs to be calculated is the value for $ C_{L_{max}} $, since many equations use this value. This is obtained by\n",
    "\n",
    "$ \\large C_{L_{max}} = \\frac{2 \\cdot W}{\\rho \\cdot {TAS}_{stall}^2 \\cdot S} $"
   ]
  },
  {
   "cell_type": "code",
   "execution_count": 40,
   "metadata": {},
   "outputs": [
    {
     "name": "stdout",
     "output_type": "stream",
     "text": [
      "62.76 m/s\n"
     ]
    },
    {
     "data": {
      "text/plain": [
       "1.8617169631927402"
      ]
     },
     "execution_count": 40,
     "metadata": {},
     "output_type": "execute_result"
    }
   ],
   "source": [
    "print(v_stall)\n",
    "\n",
    "\n",
    "cl_max = (2 * 9.81 * 200000) / (1.225 * v_stall**2 * surface)\n",
    "\n",
    "cl_max"
   ]
  },
  {
   "cell_type": "code",
   "execution_count": 41,
   "metadata": {},
   "outputs": [],
   "source": [
    "\n",
    "\n",
    "def get_tas(weight: qty.Force) -> tuple[qty.Velocity, qty.Velocity, qty.Velocity, qty.Velocity]:\n",
    "    \"\"\"\n",
    "    Returns the true air speed of (Ref Speed, Touchdown Speed, Brakes-on Speed, Stall Speed) in m/s.\n",
    "    \"\"\"\n",
    "    \n",
    "    ias_stall = math.sqrt((2 * weight) / (surface * cl_max * 1.225))\n",
    "    v_stall = qty.Velocity(ias_stall * math.sqrt(1.225 / density))\n",
    "    v_ref = qty.Velocity(v_stall * v_stall_to_ref)\n",
    "    v_app = qty.Velocity(v_ref + qty.Velocity.Kts(5))\n",
    "    v_td = qty.Velocity(v_app * fsr)\n",
    "    v_bo = qty.Velocity(v_td * speed_decay)\n",
    "    \n",
    "    return v_stall, v_td, v_bo, v_app, v_ref"
   ]
  },
  {
   "cell_type": "code",
   "execution_count": 42,
   "metadata": {},
   "outputs": [
    {
     "name": "stdout",
     "output_type": "stream",
     "text": [
      "86.30 m/s 86.92 m/s 85.35 m/s 70.16 m/s 88.87 m/s\n"
     ]
    }
   ],
   "source": [
    "v_stall, v_td, v_bo, v_app, v_ref = get_tas(qty.Force.Kg(250000))\n",
    "\n",
    "print(v_ref, v_td, v_bo, v_stall, v_app)"
   ]
  },
  {
   "cell_type": "markdown",
   "metadata": {},
   "source": [
    "Calculate the flare distance, using:\\\n",
    "$ \\large S_{air} = v_{flare_{avg}} \\cdot t_{flare} $"
   ]
  },
  {
   "cell_type": "code",
   "execution_count": 43,
   "metadata": {},
   "outputs": [
    {
     "name": "stdout",
     "output_type": "stream",
     "text": [
      "87.90 m/s 457.06 meters\n"
     ]
    }
   ],
   "source": [
    "v_avg = qty.Velocity((v_app + v_td) / 2)\n",
    "dist_air = qty.Distance(v_avg * t_flare)\n",
    "\n",
    "print(v_avg, dist_air)"
   ]
  },
  {
   "cell_type": "markdown",
   "metadata": {},
   "source": [
    "Now, calculate the transition distance. First, the average speed during the transition time can be obtained by taking the average between the touchdown speed and the brakes-on speed."
   ]
  },
  {
   "cell_type": "code",
   "execution_count": 44,
   "metadata": {},
   "outputs": [
    {
     "name": "stdout",
     "output_type": "stream",
     "text": [
      "86.14 m/s\n"
     ]
    }
   ],
   "source": [
    "v_trans_avg = qty.Velocity((v_td + v_bo) / 2)\n",
    "\n",
    "print(v_trans_avg)"
   ]
  },
  {
   "cell_type": "markdown",
   "metadata": {},
   "source": [
    "Then the transition distance can be obtained by applying the transition speed and transition time."
   ]
  },
  {
   "cell_type": "code",
   "execution_count": 45,
   "metadata": {},
   "outputs": [
    {
     "name": "stdout",
     "output_type": "stream",
     "text": [
      "155.05 meters\n"
     ]
    }
   ],
   "source": [
    "dist_trans = qty.Distance(v_trans_avg * t_trans)\n",
    "\n",
    "print(dist_trans)"
   ]
  },
  {
   "cell_type": "markdown",
   "metadata": {},
   "source": [
    "The assumption is made that during the 1 second brake delay, the brakes apply linearly. Therefore, the acceleration and speed decay during this 1 second can be obtained by taking the average values for acceleration. "
   ]
  },
  {
   "cell_type": "code",
   "execution_count": 46,
   "metadata": {},
   "outputs": [
    {
     "name": "stdout",
     "output_type": "stream",
     "text": [
      "83.78 meters -3.1533732543411133\n"
     ]
    }
   ],
   "source": [
    "brake_delay_dist = qty.Distance(1 * v_bo)\n",
    "\n",
    "lift_bo = 0.5 * density * v_bo**2 * surface * cl_gnd\n",
    "drag_bo = 0.5 * density * v_bo**2 * surface * cd_gnd\n",
    "\n",
    "accel_bo = (9.81 * (thrust_td - drag_bo - mu_dry * (weight - lift_bo))) / weight\n",
    "accel_brake_delay_avg = accel_bo / 2\n",
    "\n",
    "v_bo_pre_delay = v_bo\n",
    "v_bo = qty.Velocity(v_bo + accel_brake_delay_avg * 1)\n",
    "\n",
    "brake_delay_dist = qty.Distance((v_bo_pre_delay + v_bo) / 2)\n",
    "\n",
    "print(brake_delay_dist, accel_brake_delay_avg)"
   ]
  },
  {
   "cell_type": "markdown",
   "metadata": {},
   "source": [
    "The ground run distance can be calculated with a multi-step practical approach:\n",
    "\n",
    "1. Split the round run up into multiple speed segments. \n",
    "2. Calculate the acceleration at the upper speed and lower speed of the segment.\n",
    "3. Calculate the average speed and acceleration during the segment\n",
    "4. With the average speed and acceleration, calculate the distance travelled throughout the segment.\n",
    "5. Add up all segment distances, the total is the approximate ground run distance.\n",
    "\n",
    "To calculate this in Python, two functions will be defined. The first function `get_brake_dist` takes the brakes-on speed, and divides the ground run into multiple speed segments. For every segment, the second function will be called.\n",
    "\n",
    "The second function `get_segment_dist` takes the speed bounds of the segment, and calculates the segment distance using the described approach. \n",
    "\n",
    "To calculate the acceleration at a given speed. The following equation is used:\n",
    "\n",
    "$\\large a = \\frac{g \\cdot (T - D - \\mu \\cdot (W - L))}{W}$\n",
    "\n",
    "where\n",
    "\n",
    "$L = \\frac{1}{2} \\cdot \\rho_h \\cdot v^2 \\cdot S \\cdot C_{L_{gnd}}$\n",
    "\n",
    "and \n",
    "\n",
    "$D = \\frac{1}{2} \\cdot \\rho_h \\cdot v^2 \\cdot S \\cdot C_{D_{gnd}}$"
   ]
  },
  {
   "cell_type": "code",
   "execution_count": 47,
   "metadata": {},
   "outputs": [],
   "source": [
    "def get_brake_dist(v_bo: qty.Velocity, segments: list[tuple[qty.Velocity, qty.Force]]) -> qty.Distance:\n",
    "    brake_dist = 0\n",
    "    \n",
    "    # For every speed - thrust in the list of speed - thrust segments, execute the function defined below with a (speed, thrust) and the next (speed, thrust) in the list\n",
    "\n",
    "    # For example, the first time, the function will be called with:\n",
    "    #   Speed range of 85.35 to 66.88 m/s\n",
    "    #   Thrust range of 30258.22 to 21785.91 N\n",
    "    #   These values can also be found in the printed table a couple cells below.\n",
    "    for i in range(len(segments)):\n",
    "        if i >= len(segments) - 1:\n",
    "            return qty.Distance(brake_dist)\n",
    "\n",
    "        segment = get_segment_dist(segments[i], segments[i + 1])\n",
    "        brake_dist += segment\n",
    "    \n",
    "    return None\n",
    "    \n",
    "def get_segment_dist(upper: tuple[qty.Velocity, qty.Force], lower: tuple [qty.Velocity, qty.Force]) -> qty.Distance:\n",
    "    # Get the upper and the lower speed and thrust from the speed, thrust segment table\n",
    "    speed_upper, speed_lower = upper[0], lower[0]\n",
    "    thrust_upper, thrust_lower = upper[1], lower[1]\n",
    "    \n",
    "    # With the values for upper and lower speed, the upper and lower drag can be DETERMINED\n",
    "    drag_upper = qty.Force(0.5 * density * speed_upper**2 * surface * cd_gnd)\n",
    "    drag_lower = qty.Force(0.5 * density * speed_lower**2 * surface * cd_gnd)\n",
    "    \n",
    "    # Likewise for the lift\n",
    "    lift_upper = qty.Force(0.5 * density * speed_upper**2 * surface * cl_gnd)\n",
    "    lift_lower = qty.Force(0.5 * density * speed_lower**2 * surface * cl_gnd)\n",
    "\n",
    "    # Then the upper and lower acceleration\n",
    "    accel_upper = (9.81 *  (thrust_upper - drag_upper - mu_dry * (weight - lift_upper))) / weight\n",
    "    accel_lower = (9.81 *  (thrust_lower - drag_lower - mu_dry * (weight - lift_lower))) / weight\n",
    "\n",
    "    # With the upper and lower values for acceleration, \n",
    "    # calculate the average and with that average calculate the distance travelled \n",
    "    # from the upper speed in the segment to the lower speed in the segment\n",
    "    accel_avg = (accel_upper + accel_lower) / 2\n",
    "    v_avg = qty.Velocity((speed_upper + speed_lower) / 2)\n",
    "    delta_v = qty.Velocity(speed_upper - speed_lower)\n",
    "    segment_dist = qty.Distance(-(v_avg * delta_v / accel_avg))\n",
    "    \n",
    "    return qty.Distance(segment_dist)"
   ]
  },
  {
   "cell_type": "markdown",
   "metadata": {},
   "source": [
    "Insert the speed and thrust at the brakes-on speed in the beginning of the speed_thrust list. Then obtain the distance using the function defined above."
   ]
  },
  {
   "cell_type": "code",
   "execution_count": 48,
   "metadata": {},
   "outputs": [
    {
     "name": "stdout",
     "output_type": "stream",
     "text": [
      "593.36 meters\n"
     ]
    }
   ],
   "source": [
    "speed_thrust_segments.insert(0, (v_bo, thrust_td))\n",
    "\n",
    "dist_brake = get_brake_dist(v_bo, speed_thrust_segments)\n",
    "print(dist_brake)"
   ]
  },
  {
   "cell_type": "markdown",
   "metadata": {},
   "source": [
    "These are the speed / thrust segments:"
   ]
  },
  {
   "cell_type": "code",
   "execution_count": 49,
   "metadata": {},
   "outputs": [
    {
     "name": "stdout",
     "output_type": "stream",
     "text": [
      "82.20 m/s 30258.22 Newtons\n",
      "66.88 m/s 21785.91 Newtons\n",
      "61.73 m/s 23432.32 Newtons\n",
      "56.59 m/s 24549.20 Newtons\n",
      "51.44 m/s 26471.49 Newtons\n",
      "41.16 m/s 29279.27 Newtons\n",
      "30.87 m/s 32193.85 Newtons\n",
      "20.58 m/s 36296.51 Newtons\n",
      "10.29 m/s 40007.59 Newtons\n",
      "0.00 m/s 43941.16 Newtons\n"
     ]
    }
   ],
   "source": [
    "for speed, thrust in speed_thrust_segments:\n",
    "    print(speed, thrust)"
   ]
  },
  {
   "cell_type": "markdown",
   "metadata": {},
   "source": [
    "To calculate the distance, this table with speed / thrust \"timestamps\" is passed to the function defined above"
   ]
  },
  {
   "cell_type": "code",
   "execution_count": 50,
   "metadata": {},
   "outputs": [],
   "source": [
    "dist_brake = get_brake_dist(v_bo, speed_thrust_segments)"
   ]
  },
  {
   "cell_type": "code",
   "execution_count": 51,
   "metadata": {},
   "outputs": [
    {
     "name": "stdout",
     "output_type": "stream",
     "text": [
      "1289.25 meters\n"
     ]
    }
   ],
   "source": [
    "dist_total = qty.Distance(dist_air + dist_trans + dist_brake + brake_delay_dist)\n",
    "\n",
    "print(dist_total)"
   ]
  }
 ],
 "metadata": {
  "kernelspec": {
   "display_name": "venv",
   "language": "python",
   "name": "python3"
  },
  "language_info": {
   "codemirror_mode": {
    "name": "ipython",
    "version": 3
   },
   "file_extension": ".py",
   "mimetype": "text/x-python",
   "name": "python",
   "nbconvert_exporter": "python",
   "pygments_lexer": "ipython3",
   "version": "3.11.5"
  }
 },
 "nbformat": 4,
 "nbformat_minor": 2
}
