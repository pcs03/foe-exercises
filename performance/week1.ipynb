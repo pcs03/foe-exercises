{
 "cells": [
  {
   "cell_type": "markdown",
   "metadata": {},
   "source": [
    "# Calculate thrust during final approach (Powered Descent)"
   ]
  },
  {
   "cell_type": "markdown",
   "metadata": {},
   "source": [
    "## Initial values"
   ]
  },
  {
   "cell_type": "code",
   "execution_count": 21,
   "metadata": {},
   "outputs": [],
   "source": [
    "import math\n",
    "\n",
    "mass_kg = 199500\n",
    "surface = 338.9\n",
    "wingspan = 51.66\n",
    "cl_max = 2.6\n",
    "density = 1.225\n",
    "fpa = math.radians(3)\n",
    "vstall_to_vref = 1.3\n",
    "oswald = 0.8\n",
    "cd_par = 0.12"
   ]
  },
  {
   "cell_type": "code",
   "execution_count": 22,
   "metadata": {},
   "outputs": [],
   "source": [
    "class Dragpolar:\n",
    "    def __init__(self, cd_par, oswald, wing_surface, wingspan):\n",
    "        self.aspect_ratio = wingspan**2 / wing_surface\n",
    "        self.k_constant = 1 / (math.pi * oswald * self.aspect_ratio)\n",
    "        self.cd_par = cd_par\n",
    "\n",
    "    def get_cd(self, cl):\n",
    "        return self.cd_par + self.k_constant * cl**2"
   ]
  },
  {
   "cell_type": "markdown",
   "metadata": {},
   "source": [
    "## Calculation"
   ]
  },
  {
   "cell_type": "markdown",
   "metadata": {},
   "source": [
    "#### Aspect Ratio\n",
    "$ AR = \\frac{b^2}{S} $\n",
    "\n",
    "#### Induced drag constant\n",
    "$C_{Di} = \\frac{C_L^2}{\\pi \\cdot e \\cdot AR} = k \\cdot C_L^2$"
   ]
  },
  {
   "cell_type": "code",
   "execution_count": 23,
   "metadata": {},
   "outputs": [],
   "source": [
    "weight = 9.81 * mass_kg"
   ]
  },
  {
   "cell_type": "markdown",
   "metadata": {},
   "source": [
    "#### Lift force during powered descent\n",
    "$L = W \\cdot \\cos{\\gamma}$"
   ]
  },
  {
   "cell_type": "code",
   "execution_count": 24,
   "metadata": {},
   "outputs": [
    {
     "data": {
      "text/plain": [
       "1954412.8693205027"
      ]
     },
     "execution_count": 24,
     "metadata": {},
     "output_type": "execute_result"
    }
   ],
   "source": [
    "lift_N = weight * math.cos(fpa)\n",
    "\n",
    "lift_N"
   ]
  },
  {
   "cell_type": "markdown",
   "metadata": {},
   "source": [
    "#### Aircraft stall speed and vref"
   ]
  },
  {
   "cell_type": "code",
   "execution_count": 25,
   "metadata": {},
   "outputs": [
    {
     "data": {
      "text/plain": [
       "78.230481669904"
      ]
     },
     "execution_count": 25,
     "metadata": {},
     "output_type": "execute_result"
    }
   ],
   "source": [
    "v_stall = math.sqrt((2 * lift_N) / (surface * density * cl_max))\n",
    "v_ref = 1.3 * v_stall\n",
    "\n",
    "v_ref"
   ]
  },
  {
   "cell_type": "markdown",
   "metadata": {},
   "source": [
    "#### Lift coefficient at vref"
   ]
  },
  {
   "cell_type": "code",
   "execution_count": 26,
   "metadata": {},
   "outputs": [
    {
     "data": {
      "text/plain": [
       "1.5384615384615385"
      ]
     },
     "execution_count": 26,
     "metadata": {},
     "output_type": "execute_result"
    }
   ],
   "source": [
    "cl_ref = (2 * lift_N) / (density * surface * v_ref**2)\n",
    "\n",
    "cl_ref"
   ]
  },
  {
   "cell_type": "markdown",
   "metadata": {},
   "source": [
    "#### Drag coefficient and Drag\n",
    "$c_D = c_{D0} + k \\cdot c_{Lref}^2$\n",
    "\n",
    "$D = \\frac{1}{2} \\cdot \\rho \\cdot v^2 \\cdot S \\cdot c_D$"
   ]
  },
  {
   "cell_type": "code",
   "execution_count": 27,
   "metadata": {},
   "outputs": [
    {
     "data": {
      "text/plain": [
       "0.2395903652198976"
      ]
     },
     "execution_count": 27,
     "metadata": {},
     "output_type": "execute_result"
    }
   ],
   "source": [
    "dragpolar = Dragpolar(cd_par, oswald, surface, wingspan)\n",
    "cd_tot = dragpolar.get_cd(cl_ref)\n",
    "drag_N = 0.5 * density * v_ref**2 * surface * cd_tot\n",
    "\n",
    "cd_tot"
   ]
  },
  {
   "cell_type": "markdown",
   "metadata": {},
   "source": [
    "#### Calculation of thrust\n",
    "\n",
    "$\\sin(\\gamma) = \\frac{D - T}{W}$\n",
    "\n",
    "$T = D - \\sin(\\gamma) \\cdot W$\n"
   ]
  },
  {
   "cell_type": "code",
   "execution_count": 28,
   "metadata": {},
   "outputs": [
    {
     "data": {
      "text/plain": [
       "201941.58226484453"
      ]
     },
     "execution_count": 28,
     "metadata": {},
     "output_type": "execute_result"
    }
   ],
   "source": [
    "thrust_N = drag_N - math.sin(fpa) * weight\n",
    "\n",
    "thrust_N"
   ]
  },
  {
   "cell_type": "code",
   "execution_count": 29,
   "metadata": {},
   "outputs": [
    {
     "data": {
      "text/plain": [
       "201.94158226484453"
      ]
     },
     "execution_count": 29,
     "metadata": {},
     "output_type": "execute_result"
    }
   ],
   "source": [
    "thrust_kN = thrust_N / 1000\n",
    "\n",
    "thrust_kN"
   ]
  }
 ],
 "metadata": {
  "kernelspec": {
   "display_name": "venv",
   "language": "python",
   "name": "python3"
  },
  "language_info": {
   "codemirror_mode": {
    "name": "ipython",
    "version": 3
   },
   "file_extension": ".py",
   "mimetype": "text/x-python",
   "name": "python",
   "nbconvert_exporter": "python",
   "pygments_lexer": "ipython3",
   "version": "3.11.5"
  },
  "orig_nbformat": 4
 },
 "nbformat": 4,
 "nbformat_minor": 2
}
