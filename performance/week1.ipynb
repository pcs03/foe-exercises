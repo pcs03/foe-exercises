{
 "cells": [
  {
   "cell_type": "markdown",
   "metadata": {},
   "source": [
    "# Calculate thrust during final approach (Powered Descent)"
   ]
  },
  {
   "cell_type": "markdown",
   "metadata": {},
   "source": [
    "## Initial values"
   ]
  },
  {
   "cell_type": "code",
   "execution_count": 1,
   "metadata": {},
   "outputs": [],
   "source": [
    "import math\n",
    "from avipy import qty"
   ]
  },
  {
   "cell_type": "code",
   "execution_count": 2,
   "metadata": {},
   "outputs": [],
   "source": [
    "mass = qty.Mass(199500)\n",
    "surface = qty.Area(338.9)\n",
    "wingspan = qty.Distance(51.66)\n",
    "cl_max = 2.6\n",
    "density = 1.225\n",
    "fpa = math.radians(3)\n",
    "vstall_to_vref = 1.3\n",
    "oswald = 0.8\n",
    "cd_par = 0.12"
   ]
  },
  {
   "cell_type": "markdown",
   "metadata": {},
   "source": [
    "## Calculation"
   ]
  },
  {
   "cell_type": "markdown",
   "metadata": {},
   "source": [
    "#### Aspect Ratio\n",
    "$ AR = \\frac{b^2}{S} $\n",
    "\n",
    "#### Induced drag constant\n",
    "$C_{Di} = \\frac{C_L^2}{\\pi \\cdot e \\cdot AR} = k \\cdot C_L^2$"
   ]
  },
  {
   "cell_type": "code",
   "execution_count": 3,
   "metadata": {},
   "outputs": [
    {
     "name": "stdout",
     "output_type": "stream",
     "text": [
      "1956.4266749999997\n"
     ]
    }
   ],
   "source": [
    "weight = qty.Force.Kg(mass)\n",
    "\n",
    "print(weight.kn)"
   ]
  },
  {
   "cell_type": "markdown",
   "metadata": {},
   "source": [
    "#### Lift force during powered descent\n",
    "$L = W \\cdot \\cos{\\gamma}$"
   ]
  },
  {
   "cell_type": "code",
   "execution_count": 4,
   "metadata": {},
   "outputs": [
    {
     "name": "stdout",
     "output_type": "stream",
     "text": [
      "1953745.46 Newtons\n"
     ]
    }
   ],
   "source": [
    "lift = qty.Force(weight * math.cos(fpa))\n",
    "\n",
    "print(lift)"
   ]
  },
  {
   "cell_type": "markdown",
   "metadata": {},
   "source": [
    "#### Aircraft stall speed and vref"
   ]
  },
  {
   "cell_type": "code",
   "execution_count": 6,
   "metadata": {},
   "outputs": [
    {
     "name": "stdout",
     "output_type": "stream",
     "text": [
      "60.17 m/s 78.22 m/s\n"
     ]
    }
   ],
   "source": [
    "v_stall = qty.Velocity(math.sqrt((2 * lift.base) / (surface.base * density * cl_max)))\n",
    "v_ref = qty.Velocity(1.3 * v_stall)\n",
    "\n",
    "print(v_stall, v_ref)"
   ]
  },
  {
   "cell_type": "markdown",
   "metadata": {},
   "source": [
    "#### Lift coefficient at vref"
   ]
  },
  {
   "cell_type": "code",
   "execution_count": 8,
   "metadata": {},
   "outputs": [
    {
     "data": {
      "text/plain": [
       "1.5384615384615385"
      ]
     },
     "execution_count": 8,
     "metadata": {},
     "output_type": "execute_result"
    }
   ],
   "source": [
    "cl_ref = (2 * lift.base) / (density * surface.base * v_ref.base**2)\n",
    "\n",
    "cl_ref"
   ]
  },
  {
   "cell_type": "markdown",
   "metadata": {},
   "source": [
    "#### Drag coefficient and Drag\n",
    "$c_D = c_{D0} + k \\cdot c_{Lref}^2$\n",
    "\n",
    "$D = \\frac{1}{2} \\cdot \\rho \\cdot v^2 \\cdot S \\cdot c_D$"
   ]
  },
  {
   "cell_type": "code",
   "execution_count": null,
   "metadata": {},
   "outputs": [
    {
     "data": {
      "text/plain": [
       "0.2395903652198976"
      ]
     },
     "execution_count": 15,
     "metadata": {},
     "output_type": "execute_result"
    }
   ],
   "source": [
    "dragpolar = aerodynamics.Dragpolar(cd_par, oswald, surface.m2, wingspan.m)\n",
    "cd_tot = dragpolar.get_cd(cl_ref)\n",
    "drag = qty.Force(0.5 * density * v_ref.m_p_s**2 * surface.m2 * cd_tot)\n",
    "\n",
    "cd_tot"
   ]
  },
  {
   "cell_type": "markdown",
   "metadata": {},
   "source": [
    "#### Calculation of thrust\n",
    "\n",
    "$\\sin(\\gamma) = \\frac{D - T}{W}$\n",
    "\n",
    "$T = D - \\sin(\\gamma) \\cdot W$\n"
   ]
  },
  {
   "cell_type": "code",
   "execution_count": null,
   "metadata": {},
   "outputs": [
    {
     "data": {
      "text/plain": [
       "201.87262158180815"
      ]
     },
     "execution_count": 16,
     "metadata": {},
     "output_type": "execute_result"
    }
   ],
   "source": [
    "thrust = qty.Force(drag.n - math.sin(fpa) * weight)\n",
    "\n",
    "thrust.kn"
   ]
  }
 ],
 "metadata": {
  "kernelspec": {
   "display_name": "venv",
   "language": "python",
   "name": "python3"
  },
  "language_info": {
   "codemirror_mode": {
    "name": "ipython",
    "version": 3
   },
   "file_extension": ".py",
   "mimetype": "text/x-python",
   "name": "python",
   "nbconvert_exporter": "python",
   "pygments_lexer": "ipython3",
   "version": "3.11.5"
  },
  "orig_nbformat": 4
 },
 "nbformat": 4,
 "nbformat_minor": 2
}
