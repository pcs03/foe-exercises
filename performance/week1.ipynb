{
 "cells": [
  {
   "cell_type": "markdown",
   "metadata": {},
   "source": [
    "# Calculate thrust during final approach (Powered Descent)"
   ]
  },
  {
   "cell_type": "markdown",
   "metadata": {},
   "source": [
    "## Initial values"
   ]
  },
  {
   "cell_type": "code",
   "execution_count": 10,
   "metadata": {},
   "outputs": [],
   "source": [
    "import sys\n",
    "\n",
    "# Symlinked module directory, insert path for python to recognize module import\n",
    "sys.path.insert(0, '/home/pstet/code/foe-exercises')"
   ]
  },
  {
   "cell_type": "code",
   "execution_count": 11,
   "metadata": {},
   "outputs": [],
   "source": [
    "from module import qty, aerodynamics"
   ]
  },
  {
   "cell_type": "code",
   "execution_count": 19,
   "metadata": {},
   "outputs": [],
   "source": [
    "import math\n",
    "\n",
    "mass = qty.Mass(199500)\n",
    "surface = qty.Area(338.9)\n",
    "wingspan = qty.Distance(51.66)\n",
    "cl_max = 2.6\n",
    "density = 1.225\n",
    "fpa = math.radians(3)\n",
    "vstall_to_vref = 1.3\n",
    "oswald = 0.8\n",
    "cd_par = 0.12"
   ]
  },
  {
   "cell_type": "markdown",
   "metadata": {},
   "source": [
    "## Calculation"
   ]
  },
  {
   "cell_type": "markdown",
   "metadata": {},
   "source": [
    "#### Aspect Ratio\n",
    "$ AR = \\frac{b^2}{S} $\n",
    "\n",
    "#### Induced drag constant\n",
    "$C_{Di} = \\frac{C_L^2}{\\pi \\cdot e \\cdot AR} = k \\cdot C_L^2$"
   ]
  },
  {
   "cell_type": "code",
   "execution_count": 13,
   "metadata": {},
   "outputs": [],
   "source": [
    "weight = 9.81 * mass.kg"
   ]
  },
  {
   "cell_type": "markdown",
   "metadata": {},
   "source": [
    "#### Lift force during powered descent\n",
    "$L = W \\cdot \\cos{\\gamma}$"
   ]
  },
  {
   "cell_type": "code",
   "execution_count": 14,
   "metadata": {},
   "outputs": [
    {
     "data": {
      "text/plain": [
       "1954.4128693205028"
      ]
     },
     "execution_count": 14,
     "metadata": {},
     "output_type": "execute_result"
    }
   ],
   "source": [
    "lift = qty.Force(weight * math.cos(fpa))\n",
    "\n",
    "lift.kn"
   ]
  },
  {
   "cell_type": "markdown",
   "metadata": {},
   "source": [
    "#### Aircraft stall speed and vref"
   ]
  },
  {
   "cell_type": "code",
   "execution_count": 15,
   "metadata": {},
   "outputs": [
    {
     "data": {
      "text/plain": [
       "78.230481669904"
      ]
     },
     "execution_count": 15,
     "metadata": {},
     "output_type": "execute_result"
    }
   ],
   "source": [
    "v_stall = math.sqrt((2 * lift.n) / (surface.m2 * density * cl_max))\n",
    "v_ref = 1.3 * v_stall\n",
    "\n",
    "v_ref"
   ]
  },
  {
   "cell_type": "markdown",
   "metadata": {},
   "source": [
    "#### Lift coefficient at vref"
   ]
  },
  {
   "cell_type": "code",
   "execution_count": 16,
   "metadata": {},
   "outputs": [
    {
     "data": {
      "text/plain": [
       "1.5384615384615385"
      ]
     },
     "execution_count": 16,
     "metadata": {},
     "output_type": "execute_result"
    }
   ],
   "source": [
    "cl_ref = (2 * lift.n) / (density * surface.m2 * v_ref**2)\n",
    "\n",
    "cl_ref"
   ]
  },
  {
   "cell_type": "markdown",
   "metadata": {},
   "source": [
    "#### Drag coefficient and Drag\n",
    "$c_D = c_{D0} + k \\cdot c_{Lref}^2$\n",
    "\n",
    "$D = \\frac{1}{2} \\cdot \\rho \\cdot v^2 \\cdot S \\cdot c_D$"
   ]
  },
  {
   "cell_type": "code",
   "execution_count": 22,
   "metadata": {},
   "outputs": [
    {
     "data": {
      "text/plain": [
       "0.2395903652198976"
      ]
     },
     "execution_count": 22,
     "metadata": {},
     "output_type": "execute_result"
    }
   ],
   "source": [
    "dragpolar = aerodynamics.Dragpolar(cd_par, oswald, surface.m2, wingspan.m)\n",
    "cd_tot = dragpolar.get_cd(cl_ref)\n",
    "drag = qty.Force(0.5 * density * v_ref**2 * surface.m2 * cd_tot)\n",
    "\n",
    "cd_tot"
   ]
  },
  {
   "cell_type": "markdown",
   "metadata": {},
   "source": [
    "#### Calculation of thrust\n",
    "\n",
    "$\\sin(\\gamma) = \\frac{D - T}{W}$\n",
    "\n",
    "$T = D - \\sin(\\gamma) \\cdot W$\n"
   ]
  },
  {
   "cell_type": "code",
   "execution_count": 26,
   "metadata": {},
   "outputs": [
    {
     "data": {
      "text/plain": [
       "201.94158226484453"
      ]
     },
     "execution_count": 26,
     "metadata": {},
     "output_type": "execute_result"
    }
   ],
   "source": [
    "thrust = qty.Force(drag.n - math.sin(fpa) * weight)\n",
    "\n",
    "thrust.kn"
   ]
  },
  {
   "cell_type": "code",
   "execution_count": 27,
   "metadata": {},
   "outputs": [
    {
     "ename": "TypeError",
     "evalue": "unsupported operand type(s) for /: 'Force' and 'int'",
     "output_type": "error",
     "traceback": [
      "\u001b[0;31m---------------------------------------------------------------------------\u001b[0m",
      "\u001b[0;31mTypeError\u001b[0m                                 Traceback (most recent call last)",
      "\u001b[1;32m/home/pstet/code/foe-exercises/performance/week1.ipynb Cell 19\u001b[0m line \u001b[0;36m1\n\u001b[0;32m----> <a href='vscode-notebook-cell:/home/pstet/code/foe-exercises/performance/week1.ipynb#X25sZmlsZQ%3D%3D?line=0'>1</a>\u001b[0m thrust_kN \u001b[39m=\u001b[39m thrust \u001b[39m/\u001b[39;49m \u001b[39m1000\u001b[39;49m\n\u001b[1;32m      <a href='vscode-notebook-cell:/home/pstet/code/foe-exercises/performance/week1.ipynb#X25sZmlsZQ%3D%3D?line=2'>3</a>\u001b[0m thrust_kN\n",
      "\u001b[0;31mTypeError\u001b[0m: unsupported operand type(s) for /: 'Force' and 'int'"
     ]
    }
   ],
   "source": [
    "thrust = thrust.n / 1000\n",
    "\n",
    "thrust"
   ]
  }
 ],
 "metadata": {
  "kernelspec": {
   "display_name": "venv",
   "language": "python",
   "name": "python3"
  },
  "language_info": {
   "codemirror_mode": {
    "name": "ipython",
    "version": 3
   },
   "file_extension": ".py",
   "mimetype": "text/x-python",
   "name": "python",
   "nbconvert_exporter": "python",
   "pygments_lexer": "ipython3",
   "version": "3.11.5"
  },
  "orig_nbformat": 4
 },
 "nbformat": 4,
 "nbformat_minor": 2
}
