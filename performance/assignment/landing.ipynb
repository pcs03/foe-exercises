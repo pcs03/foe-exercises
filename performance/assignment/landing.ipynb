{
 "cells": [
  {
   "cell_type": "markdown",
   "metadata": {},
   "source": [
    "# Landing Performance Assignment"
   ]
  },
  {
   "cell_type": "code",
   "execution_count": 77,
   "metadata": {},
   "outputs": [],
   "source": [
    "import math\n",
    "import qty\n",
    "import numpy as np\n",
    "import atmosphere"
   ]
  },
  {
   "cell_type": "markdown",
   "metadata": {},
   "source": [
    "## Deliverable 1 - Dispatch Landing Chart"
   ]
  },
  {
   "cell_type": "markdown",
   "metadata": {},
   "source": [
    "### Conditions:\n",
    "- Dry AND wet runways\n",
    "- Mass variation from 170 to 230 tons, steps of 10 tons\n",
    "- Field elevation sea level, up to and including 5000 ft, steps of 1000 ft\n",
    "- Zero wind\n",
    "\n",
    "### Aircraft data\n",
    "- Wingspan, $b = 64.5 m$\n",
    "- Wing surface, $S = 436.8 m^2$\n",
    "- Oswald factor, $e = 0.8$\n",
    "- Parasitic drag coefficient in landing configuration, $C_{D_0} = 0.088$\n",
    "- Braking coefficient on dry runway, $\\mu_{dry} = 0.54$\n",
    "- Braking coefficient on wet runway, $\\mu_{wet} = 0.34$\n",
    "- Lift coefficient in ground run, $C_{L_{gnd}} = 0.126$\n",
    "- Drag coefficient in ground run, $C_{D_{gnd}} = 0.213$\n",
    "- IAS stall at 200 tons with flaps 30, ${IAS}_{stall} = 122 Kts$\n",
    "- Speed during approach, $v_{ref} = 1.23 \\cdot {IAS}_{stall}$\n",
    "- Speed at touchdown, $v_{td} = 1.18 \\cdot {IAS}_{stall}$\n",
    "- Time of transition phase, $t_{tr} = 1.3 s$\n",
    "- Speed decay factor of transition phase of landing run, $decay = 0.85$\n",
    "- Thrust per engine at touchdown, $T = 3400 lbs$\n",
    "\n",
    "### Assumptions\n",
    "- Landing flaps 30\n",
    "- Drag polar is exactly parabolic"
   ]
  },
  {
   "cell_type": "markdown",
   "metadata": {},
   "source": [
    "Initialize the variables in python:"
   ]
  },
  {
   "cell_type": "code",
   "execution_count": 78,
   "metadata": {},
   "outputs": [],
   "source": [
    "mass = qty.Mass.M_ton(200)\n",
    "wingspan = qty.Distance(64.5)\n",
    "surface = qty.Area(436.8)\n",
    "oswald = 0.8\n",
    "cd0_land = 0.088\n",
    "mu_dry = 0.54\n",
    "mu_wet = 0.34\n",
    "cl_gnd = 0.126\n",
    "cd_gnd = 0.213\n",
    "ias_stall = qty.Velocity.Kts(122)\n",
    "v_stall_to_ref = 1.23\n",
    "v_stall_to_td = 1.18\n",
    "transition_time = qty.Time(1.3)\n",
    "speed_decay = 0.85\n",
    "thrust_land = qty.Force.Lbf(3400 * 2)\n",
    "\n",
    "\n",
    "# More assumptions\n",
    "\n",
    "# Modern aircraft, so flare height = screen height = 50 ft\n",
    "flare_height = qty.Distance.Ft(50)\n",
    "\n",
    "# Assume that the flare is decelerating\n",
    "\n",
    "# Assume ILS approach, 3 degrees fpa\n",
    "fpa = math.radians(3)"
   ]
  },
  {
   "cell_type": "code",
   "execution_count": 79,
   "metadata": {},
   "outputs": [
    {
     "data": {
      "text/plain": [
       "0.04177566200501165"
      ]
     },
     "execution_count": 79,
     "metadata": {},
     "output_type": "execute_result"
    }
   ],
   "source": [
    "aspect_ratio = wingspan**2 / surface\n",
    "cdi_k_const = 1 / (math.pi * oswald * aspect_ratio)\n",
    "cdi_k_const"
   ]
  },
  {
   "cell_type": "code",
   "execution_count": 80,
   "metadata": {},
   "outputs": [
    {
     "name": "stdout",
     "output_type": "stream",
     "text": [
      "1.8617169631927402\n"
     ]
    }
   ],
   "source": [
    "cl_max = (2 * 9.81 * mass) / (1.225 * ias_stall**2 * surface)\n",
    "print(cl_max)"
   ]
  },
  {
   "cell_type": "code",
   "execution_count": 81,
   "metadata": {},
   "outputs": [],
   "source": [
    "def get_tas_stall(mass, elevation):\n",
    "    density = atmosphere.get_density_at_height(elevation)\n",
    "    ias_stall = math.sqrt((2 * 9.81 * mass) / (surface * cl_max * density))\n",
    "    tas_stall = ias_stall * math.sqrt(1.225 / density)\n",
    "    \n",
    "    return tas_stall"
   ]
  },
  {
   "cell_type": "code",
   "execution_count": 82,
   "metadata": {},
   "outputs": [],
   "source": [
    "def average_tmind(mass, elevation, tas_stall):\n",
    "    weight = mass * 9.81\n",
    "    t_min_d_b = -(weight * math.sin(fpa))\n",
    "    density = atmosphere.get_density_at_height(elevation)\n",
    "    tas_td = tas_stall * v_stall_to_td\n",
    "    drag_td = qty.Force(0.5 * density * tas_td**2 * surface * cd_gnd)\n",
    "    t_min_d_c = qty.Force(thrust_land - drag_td)\n",
    "    t_min_d_avg = qty.Force((t_min_d_b + t_min_d_c) / 2)\n",
    "    \n",
    "    return t_min_d_avg"
   ]
  },
  {
   "cell_type": "code",
   "execution_count": 94,
   "metadata": {},
   "outputs": [
    {
     "name": "stdout",
     "output_type": "stream",
     "text": [
      "Mass: 170 ton, Elevation: 0000 ft, Flare Distance: 370.04 meters\n",
      "Mass: 170 ton, Elevation: 1000 ft, Flare Distance: 373.72 meters\n",
      "Mass: 170 ton, Elevation: 2000 ft, Flare Distance: 377.75 meters\n",
      "Mass: 170 ton, Elevation: 3000 ft, Flare Distance: 382.12 meters\n",
      "Mass: 170 ton, Elevation: 4000 ft, Flare Distance: 386.85 meters\n",
      "Mass: 170 ton, Elevation: 5000 ft, Flare Distance: 391.96 meters\n",
      "\n",
      "Mass: 180 ton, Elevation: 0000 ft, Flare Distance: 380.55 meters\n",
      "Mass: 180 ton, Elevation: 1000 ft, Flare Distance: 384.71 meters\n",
      "Mass: 180 ton, Elevation: 2000 ft, Flare Distance: 389.21 meters\n",
      "Mass: 180 ton, Elevation: 3000 ft, Flare Distance: 394.08 meters\n",
      "Mass: 180 ton, Elevation: 4000 ft, Flare Distance: 399.32 meters\n",
      "Mass: 180 ton, Elevation: 5000 ft, Flare Distance: 404.97 meters\n",
      "\n",
      "Mass: 190 ton, Elevation: 0000 ft, Flare Distance: 391.18 meters\n",
      "Mass: 190 ton, Elevation: 1000 ft, Flare Distance: 395.79 meters\n",
      "Mass: 190 ton, Elevation: 2000 ft, Flare Distance: 400.77 meters\n",
      "Mass: 190 ton, Elevation: 3000 ft, Flare Distance: 406.13 meters\n",
      "Mass: 190 ton, Elevation: 4000 ft, Flare Distance: 411.89 meters\n",
      "Mass: 190 ton, Elevation: 5000 ft, Flare Distance: 418.06 meters\n",
      "\n",
      "Mass: 200 ton, Elevation: 0000 ft, Flare Distance: 401.88 meters\n",
      "Mass: 200 ton, Elevation: 1000 ft, Flare Distance: 406.95 meters\n",
      "Mass: 200 ton, Elevation: 2000 ft, Flare Distance: 412.41 meters\n",
      "Mass: 200 ton, Elevation: 3000 ft, Flare Distance: 418.26 meters\n",
      "Mass: 200 ton, Elevation: 4000 ft, Flare Distance: 424.52 meters\n",
      "Mass: 200 ton, Elevation: 5000 ft, Flare Distance: 431.22 meters\n",
      "\n",
      "Mass: 210 ton, Elevation: 0000 ft, Flare Distance: 412.67 meters\n",
      "Mass: 210 ton, Elevation: 1000 ft, Flare Distance: 418.19 meters\n",
      "Mass: 210 ton, Elevation: 2000 ft, Flare Distance: 424.11 meters\n",
      "Mass: 210 ton, Elevation: 3000 ft, Flare Distance: 430.45 meters\n",
      "Mass: 210 ton, Elevation: 4000 ft, Flare Distance: 437.22 meters\n",
      "Mass: 210 ton, Elevation: 5000 ft, Flare Distance: 444.43 meters\n",
      "\n",
      "Mass: 220 ton, Elevation: 0000 ft, Flare Distance: 423.51 meters\n",
      "Mass: 220 ton, Elevation: 1000 ft, Flare Distance: 429.49 meters\n",
      "Mass: 220 ton, Elevation: 2000 ft, Flare Distance: 435.87 meters\n",
      "Mass: 220 ton, Elevation: 3000 ft, Flare Distance: 442.69 meters\n",
      "Mass: 220 ton, Elevation: 4000 ft, Flare Distance: 449.96 meters\n",
      "Mass: 220 ton, Elevation: 5000 ft, Flare Distance: 457.70 meters\n",
      "\n",
      "Mass: 230 ton, Elevation: 0000 ft, Flare Distance: 434.41 meters\n",
      "Mass: 230 ton, Elevation: 1000 ft, Flare Distance: 440.83 meters\n",
      "Mass: 230 ton, Elevation: 2000 ft, Flare Distance: 447.69 meters\n",
      "Mass: 230 ton, Elevation: 3000 ft, Flare Distance: 454.99 meters\n",
      "Mass: 230 ton, Elevation: 4000 ft, Flare Distance: 462.76 meters\n",
      "Mass: 230 ton, Elevation: 5000 ft, Flare Distance: 471.01 meters\n",
      "\n"
     ]
    }
   ],
   "source": [
    "masses = [qty.Mass.M_ton(m) for m in np.arange(170, 240, 10)]\n",
    "elevations = [qty.Distance.Ft(h) for h in np.arange(0, 6000, 1000)]\n",
    "\n",
    "for mass1 in masses:\n",
    "    for elev in elevations:\n",
    "        tas_stall = get_tas_stall(mass1, elev)\n",
    "        t_min_d_avg = average_tmind(mass1, elev, tas_stall)\n",
    "        \n",
    "        weight = mass1 * 9.81\n",
    "        density_flare = atmosphere.get_density_at_height(elev + flare_height)\n",
    "        density_td = atmosphere.get_density_at_height(elev)\n",
    "        \n",
    "        tas_b = tas_stall * v_stall_to_ref\n",
    "        tas_c = tas_stall * v_stall_to_td\n",
    "        \n",
    "        dist_flare = qty.Distance((weight / (2 * 9.81) * (tas_c**2 - tas_b**2) - weight * flare_height) / t_min_d_avg)\n",
    "        print(f\"Mass: {int(mass1.m_ton)} ton, Elevation: {int(elev.ft):04} ft, Flare Distance: {dist_flare}\")\n",
    "    print()"
   ]
  }
 ],
 "metadata": {
  "kernelspec": {
   "display_name": "venv",
   "language": "python",
   "name": "python3"
  },
  "language_info": {
   "codemirror_mode": {
    "name": "ipython",
    "version": 3
   },
   "file_extension": ".py",
   "mimetype": "text/x-python",
   "name": "python",
   "nbconvert_exporter": "python",
   "pygments_lexer": "ipython3",
   "version": "3.11.5"
  }
 },
 "nbformat": 4,
 "nbformat_minor": 2
}
