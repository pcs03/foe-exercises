{
 "cells": [
  {
   "cell_type": "markdown",
   "metadata": {},
   "source": [
    "# Landing Performance Assignment"
   ]
  },
  {
   "cell_type": "code",
   "execution_count": 31,
   "metadata": {},
   "outputs": [],
   "source": [
    "import math\n",
    "import qty\n",
    "import numpy as np\n",
    "import atmosphere"
   ]
  },
  {
   "cell_type": "markdown",
   "metadata": {},
   "source": [
    "## Deliverable 1 - Dispatch Landing Chart"
   ]
  },
  {
   "cell_type": "markdown",
   "metadata": {},
   "source": [
    "### Conditions:\n",
    "- Dry AND wet runways\n",
    "- Mass variation from 170 to 230 tons, steps of 10 tons\n",
    "- Field elevation sea level, up to and including 5000 ft, steps of 1000 ft\n",
    "- Zero wind\n",
    "\n",
    "### Aircraft data\n",
    "- Wingspan, $b = 64.5 m$\n",
    "- Wing surface, $S = 436.8 m^2$\n",
    "- Oswald factor, $e = 0.8$\n",
    "- Parasitic drag coefficient in landing configuration, $C_{D_0} = 0.088$\n",
    "- Braking coefficient on dry runway, $\\mu_{dry} = 0.54$\n",
    "- Braking coefficient on wet runway, $\\mu_{wet} = 0.34$\n",
    "- Lift coefficient in ground run, $C_{L_{gnd}} = 0.126$\n",
    "- Drag coefficient in ground run, $C_{D_{gnd}} = 0.213$\n",
    "- IAS stall at 200 tons with flaps 30, ${IAS}_{stall} = 122 Kts$\n",
    "- Speed during approach, $v_{ref} = 1.23 \\cdot {IAS}_{stall}$\n",
    "- Speed at touchdown, $v_{td} = 1.18 \\cdot {IAS}_{stall}$\n",
    "- Time of transition phase, $t_{tr} = 1.3 s$\n",
    "- Speed decay factor of transition phase of landing run, $decay = 0.85$\n",
    "- Thrust per engine at touchdown, $T = 3400 lbs$\n",
    "\n",
    "### Assumptions\n",
    "- Landing flaps 30\n",
    "- Drag polar is exactly parabolic"
   ]
  },
  {
   "cell_type": "markdown",
   "metadata": {},
   "source": [
    "Initialize the variables in python:"
   ]
  },
  {
   "cell_type": "code",
   "execution_count": 32,
   "metadata": {},
   "outputs": [],
   "source": [
    "mass = qty.Mass.M_ton(200)\n",
    "wingspan = qty.Distance(64.5)\n",
    "surface = qty.Area(436.8)\n",
    "oswald = 0.8\n",
    "cd0_land = 0.088\n",
    "mu_dry = 0.54\n",
    "mu_wet = 0.34\n",
    "cl_gnd = 0.126\n",
    "cd_gnd = 0.213\n",
    "ias_stall = qty.Velocity.Kts(122)\n",
    "ias_ref = qty.Velocity(1.23 * ias_stall)\n",
    "ias_td = qty.Velocity(1.18 * ias_stall)\n",
    "transition_time = qty.Time(1.3)\n",
    "speed_decay = 0.85\n",
    "thrust_land = qty.Force.Lbf(3400 * 2)\n",
    "\n",
    "\n",
    "# More assumptions\n",
    "\n",
    "# Modern aircraft, so flare height = screen height = 50 ft\n",
    "flare_height = qty.Distance.Ft(50)\n",
    "\n",
    "# Assume that the flare is decelerating\n",
    "\n",
    "# Assume ILS approach, 3 degrees fpa\n",
    "fpa = math.radians(3)"
   ]
  },
  {
   "cell_type": "code",
   "execution_count": 35,
   "metadata": {},
   "outputs": [],
   "source": [
    "elevation = qty.Distance.Ft(2000)\n",
    "density = atmosphere.get_density_at_height(elevation)\n",
    "mass = qty.Mass.M_ton(200)"
   ]
  },
  {
   "cell_type": "code",
   "execution_count": 51,
   "metadata": {},
   "outputs": [
    {
     "data": {
      "text/plain": [
       "1.3472650996616256"
      ]
     },
     "execution_count": 51,
     "metadata": {},
     "output_type": "execute_result"
    }
   ],
   "source": [
    "aspect_ratio = wingspan*2 / surface\n",
    "cdi_k_const = 1 / (math.pi * oswald * aspect_ratio)\n",
    "cdi_k_const"
   ]
  },
  {
   "cell_type": "code",
   "execution_count": 41,
   "metadata": {},
   "outputs": [
    {
     "name": "stdout",
     "output_type": "stream",
     "text": [
      "-192496.02 Newtons\n"
     ]
    }
   ],
   "source": [
    "weight = mass * 9.81\n",
    "t_min_d_b = -(weight * math.sin(fpa))\n",
    "\n",
    "tas_td = ias_td * math.sqrt(1.225 / density)\n",
    "\n",
    "drag_td = qty.Force(0.5 * density * tas_td**2 * surface * cd_gnd)\n",
    "\n",
    "t_min_d_c = qty.Force(thrust_land - drag_td)\n",
    "\n",
    "t_min_d_avg = qty.Force((t_min_d_b + t_min_d_c) / 2)\n",
    "\n",
    "\n",
    "    \n",
    "print(t_min_d_avg)"
   ]
  },
  {
   "cell_type": "code",
   "execution_count": 42,
   "metadata": {},
   "outputs": [],
   "source": [
    "def average_tmind(mass, elevation):\n",
    "    weight = mass * 9.81\n",
    "    t_min_d_b = -(weight * math.sin(fpa))\n",
    "    density = atmosphere.get_density_at_height(elevation)\n",
    "    tas_td = ias_td * math.sqrt(1.225 / density)\n",
    "    drag_td = qty.Force(0.5 * density * tas_td**2 * surface * cd_gnd)\n",
    "    t_min_d_c = qty.Force(thrust_land - drag_td)\n",
    "    t_min_d_avg = qty.Force((t_min_d_b + t_min_d_c) / 2)\n",
    "    \n",
    "    return t_min_d_avg"
   ]
  },
  {
   "cell_type": "code",
   "execution_count": 49,
   "metadata": {},
   "outputs": [
    {
     "name": "stdout",
     "output_type": "stream",
     "text": [
      "170000.00 kilograms 0.0 1.2234329157914896 1.2252256827617731 74.05260114403667 522.30 meters\n",
      "170000.00 kilograms 1000.0 1.1879971697841951 1.1897500738494131 75.14853069212218 447.08 meters\n",
      "170000.00 kilograms 2000.0 1.1533521776774813 1.1550658374317087 76.26846298288399 369.08 meters\n",
      "170000.00 kilograms 3000.0 1.1194856241632507 1.1211606528141522 77.41309659581059 288.17 meters\n",
      "170000.00 kilograms 4000.0 1.0863853015597187 1.0880223069382609 78.5831555448061 204.21 meters\n",
      "170000.00 kilograms 5000.0 1.054039109616782 1.0556386941869822 79.77939039266916 117.08 meters\n",
      "180000.00 kilograms 0.0 1.2234329157914896 1.2252256827617731 74.05260114403667 545.44 meters\n",
      "180000.00 kilograms 1000.0 1.1879971697841951 1.1897500738494131 75.14853069212218 466.90 meters\n",
      "180000.00 kilograms 2000.0 1.1533521776774813 1.1550658374317087 76.26846298288399 385.44 meters\n",
      "180000.00 kilograms 3000.0 1.1194856241632507 1.1211606528141522 77.41309659581059 300.94 meters\n",
      "180000.00 kilograms 4000.0 1.0863853015597187 1.0880223069382609 78.5831555448061 213.26 meters\n",
      "180000.00 kilograms 5000.0 1.054039109616782 1.0556386941869822 79.77939039266916 122.27 meters\n",
      "190000.00 kilograms 0.0 1.2234329157914896 1.2252256827617731 74.05260114403667 567.96 meters\n",
      "190000.00 kilograms 1000.0 1.1879971697841951 1.1897500738494131 75.14853069212218 486.17 meters\n",
      "190000.00 kilograms 2000.0 1.1533521776774813 1.1550658374317087 76.26846298288399 401.35 meters\n",
      "190000.00 kilograms 3000.0 1.1194856241632507 1.1211606528141522 77.41309659581059 313.37 meters\n",
      "190000.00 kilograms 4000.0 1.0863853015597187 1.0880223069382609 78.5831555448061 222.07 meters\n",
      "190000.00 kilograms 5000.0 1.054039109616782 1.0556386941869822 79.77939039266916 127.32 meters\n",
      "200000.00 kilograms 0.0 1.2234329157914896 1.2252256827617731 74.05260114403667 589.88 meters\n",
      "200000.00 kilograms 1000.0 1.1879971697841951 1.1897500738494131 75.14853069212218 504.94 meters\n",
      "200000.00 kilograms 2000.0 1.1533521776774813 1.1550658374317087 76.26846298288399 416.84 meters\n",
      "200000.00 kilograms 3000.0 1.1194856241632507 1.1211606528141522 77.41309659581059 325.46 meters\n",
      "200000.00 kilograms 4000.0 1.0863853015597187 1.0880223069382609 78.5831555448061 230.64 meters\n",
      "200000.00 kilograms 5000.0 1.054039109616782 1.0556386941869822 79.77939039266916 132.23 meters\n",
      "210000.00 kilograms 0.0 1.2234329157914896 1.2252256827617731 74.05260114403667 611.22 meters\n",
      "210000.00 kilograms 1000.0 1.1879971697841951 1.1897500738494131 75.14853069212218 523.21 meters\n",
      "210000.00 kilograms 2000.0 1.1533521776774813 1.1550658374317087 76.26846298288399 431.93 meters\n",
      "210000.00 kilograms 3000.0 1.1194856241632507 1.1211606528141522 77.41309659581059 337.24 meters\n",
      "210000.00 kilograms 4000.0 1.0863853015597187 1.0880223069382609 78.5831555448061 238.99 meters\n",
      "210000.00 kilograms 5000.0 1.054039109616782 1.0556386941869822 79.77939039266916 137.01 meters\n",
      "220000.00 kilograms 0.0 1.2234329157914896 1.2252256827617731 74.05260114403667 632.01 meters\n",
      "220000.00 kilograms 1000.0 1.1879971697841951 1.1897500738494131 75.14853069212218 541.00 meters\n",
      "220000.00 kilograms 2000.0 1.1533521776774813 1.1550658374317087 76.26846298288399 446.62 meters\n",
      "220000.00 kilograms 3000.0 1.1194856241632507 1.1211606528141522 77.41309659581059 348.71 meters\n",
      "220000.00 kilograms 4000.0 1.0863853015597187 1.0880223069382609 78.5831555448061 247.11 meters\n",
      "220000.00 kilograms 5000.0 1.054039109616782 1.0556386941869822 79.77939039266916 141.67 meters\n",
      "230000.00 kilograms 0.0 1.2234329157914896 1.2252256827617731 74.05260114403667 652.27 meters\n",
      "230000.00 kilograms 1000.0 1.1879971697841951 1.1897500738494131 75.14853069212218 558.34 meters\n",
      "230000.00 kilograms 2000.0 1.1533521776774813 1.1550658374317087 76.26846298288399 460.93 meters\n",
      "230000.00 kilograms 3000.0 1.1194856241632507 1.1211606528141522 77.41309659581059 359.88 meters\n",
      "230000.00 kilograms 4000.0 1.0863853015597187 1.0880223069382609 78.5831555448061 255.03 meters\n",
      "230000.00 kilograms 5000.0 1.054039109616782 1.0556386941869822 79.77939039266916 146.21 meters\n"
     ]
    }
   ],
   "source": [
    "masses = [qty.Mass.M_ton(m) for m in np.arange(170, 240, 10)]\n",
    "elevations = [qty.Distance.Ft(h) for h in np.arange(0, 6000, 1000)]\n",
    "\n",
    "for mass in masses:\n",
    "    for elev in elevations:\n",
    "        t_min_d_avg = average_tmind(mass, elev)\n",
    "        \n",
    "        weight = mass * 9.81\n",
    "        density_flare = atmosphere.get_density_at_height(elev + flare_height)\n",
    "        density_td = atmosphere.get_density_at_height(elev)\n",
    "        \n",
    "        tas_c = ias_td * math.sqrt(1.225 / density_td)\n",
    "        tas_b = ias_ref * math.sqrt(1.225 / density)\n",
    "\n",
    "        \n",
    "        dist_flare = qty.Distance((weight / (2 * 9.81) * (tas_c**2 - tas_b**2) - weight * flare_height) / t_min_d_avg)\n",
    "        \n",
    "        print(mass, elev.ft, density_flare, density_td, tas_c, dist_flare)"
   ]
  }
 ],
 "metadata": {
  "kernelspec": {
   "display_name": "venv",
   "language": "python",
   "name": "python3"
  },
  "language_info": {
   "codemirror_mode": {
    "name": "ipython",
    "version": 3
   },
   "file_extension": ".py",
   "mimetype": "text/x-python",
   "name": "python",
   "nbconvert_exporter": "python",
   "pygments_lexer": "ipython3",
   "version": "3.11.5"
  }
 },
 "nbformat": 4,
 "nbformat_minor": 2
}
