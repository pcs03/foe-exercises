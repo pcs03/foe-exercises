{
 "cells": [
  {
   "cell_type": "code",
   "execution_count": 2,
   "metadata": {},
   "outputs": [],
   "source": [
    "import math\n",
    "import atmosphere as atm\n",
    "import qty\n",
    "import numpy as np\n",
    "import pandas as pd"
   ]
  },
  {
   "cell_type": "markdown",
   "metadata": {},
   "source": [
    "# Landing Performance Assignment\n",
    "## Deliberable 2: Actual Landing Distance\n",
    "\n",
    "Calculate the actual landing distance for a landing weight of 220000 kg at sea level.\n",
    "\n",
    "Values:\n",
    "- Final approach speed, $ v_{ref} + 5 Kts $\n",
    "- Flare time, $ t_f = 5.2 s $\n",
    "- Flare speed ratio, $ FSR = 0.9763 $\n",
    "- Transition time, $t_{tr} = 1.8 s$\n",
    "- Transition speed decay, $decay = 0.982 $\n",
    "- Thrust at touchdown per engine, $ T_{td} = 3400 lbs $\n",
    "\n",
    "Assumptions:\n",
    "- No reverse thrust, no slope, no wind\n",
    "- 1 second to apply maximum braking power\n",
    "- Ground idle reverse thrust as follows:\n",
    "- Any flare height is negligible, thus  $TAS_{stall} = IAS_{stall} = 122 Kts$\n",
    "- Stall speed to ref speed, $ v_{ref} = v_{stall} \\cdot 1.23 $\n",
    "- Stall speed to touchdown speed, $ v_{td} = v_{stall} \\cdot 1.18 $\n",
    "\n",
    "\n",
    "| TAS [kts] | Total Idle Forward Thrust [lbs] |\n",
    "|-----------|---------------------------------|\n",
    "| 130 | 4896 |\n",
    "| 120 | 5266 |\n",
    "| 110 | 5517 |\n",
    "| 100 | 5949 |\n",
    "| 80 | 6580 |\n",
    "| 60 | 7235 |\n",
    "| 40 | 8157 |\n",
    "| 20 | 8991 |\n",
    "| 0 | 9875 |"
   ]
  },
  {
   "cell_type": "code",
   "execution_count": 11,
   "metadata": {},
   "outputs": [],
   "source": [
    "v_stall = qty.Velocity.Kts(122)\n",
    "v_stall_to_ref = 1.23\n",
    "v_stall_to_td = 1.18\n",
    "t_flare = qty.Time(5.2)\n",
    "fsr = 0.9763\n",
    "t_trans = qty.Time(1.8)\n",
    "speed_decay = 0.982\n",
    "thrust_td = qty.Force.Kg(qty.Mass.Lbs(3400 * 2))"
   ]
  },
  {
   "cell_type": "markdown",
   "metadata": {},
   "source": [
    "Calculate the flare distance, using:\\\n",
    "$ \\large S_{air} = v_{flare_{avg}} \\cdot t_{flare} $"
   ]
  },
  {
   "cell_type": "code",
   "execution_count": 12,
   "metadata": {},
   "outputs": [
    {
     "name": "stdout",
     "output_type": "stream",
     "text": [
      "409.89 meters\n"
     ]
    }
   ],
   "source": [
    "v_ref = qty.Velocity(v_stall * v_stall_to_ref)\n",
    "v_td = qty.Velocity(v_ref * v_stall_to_td)\n",
    "v_app = qty.Velocity(v_ref + qty.Velocity.Kts(5))\n",
    "\n",
    "v_avg = qty.Velocity((v_app + v_app * fsr) / 2)\n",
    "dist_air = qty.Distance(v_avg * t_flare)\n",
    "\n",
    "print(dist_air)"
   ]
  },
  {
   "cell_type": "markdown",
   "metadata": {},
   "source": [
    "Now, calculate the transition distance"
   ]
  },
  {
   "cell_type": "code",
   "execution_count": null,
   "metadata": {},
   "outputs": [],
   "source": [
    "v_bo = "
   ]
  }
 ],
 "metadata": {
  "kernelspec": {
   "display_name": "venv",
   "language": "python",
   "name": "python3"
  },
  "language_info": {
   "codemirror_mode": {
    "name": "ipython",
    "version": 3
   },
   "file_extension": ".py",
   "mimetype": "text/x-python",
   "name": "python",
   "nbconvert_exporter": "python",
   "pygments_lexer": "ipython3",
   "version": "3.11.5"
  }
 },
 "nbformat": 4,
 "nbformat_minor": 2
}
