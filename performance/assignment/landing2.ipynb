{
 "cells": [
  {
   "cell_type": "markdown",
   "metadata": {},
   "source": [
    "# Landing Performance Assignment\n",
    "## Deliberable 2: Actual Landing Distance\n",
    "\n",
    "Calculate the actual landing distance for a landing weight of 220000 kg at sea level.\n",
    "\n",
    "Values:\n",
    "- Final approach speed, $ v_{ref} + 5 Kts $\n",
    "- Flare time, $ t_f = 5.2 s $\n",
    "- Flare speed ratio, $ FSR = 0.9763 $\n",
    "- Transition time, $t_{tr} = 1.8 s$\n",
    "- Transition speed decay, $decay = 0.982 $\n",
    "- Thrust at touchdown per engine, $ T_{td} = 3400 lbs $\n",
    "\n",
    "Assumptions:\n",
    "- No reverse thrust, no slope, no wind\n",
    "- 1 second to apply maximum braking power\n",
    "- Ground idle reverse thrust as follows:\n",
    "\n",
    "\n",
    "| TAS [kts] | Total Idle Forward Thrust [lbs] |\n",
    "|-----------|---------------------------------|\n",
    "| 130 | 4896 |\n",
    "| 120 | 5266 |\n",
    "| 110 | 5517 |\n",
    "| 100 | 5949 |\n",
    "| 80 | 6580 |\n",
    "| 60 | 7235 |\n",
    "| 40 | 8157 |\n",
    "| 20 | 8991 |\n",
    "| 0 | 9875 |"
   ]
  }
 ],
 "metadata": {
  "language_info": {
   "name": "python"
  }
 },
 "nbformat": 4,
 "nbformat_minor": 2
}
