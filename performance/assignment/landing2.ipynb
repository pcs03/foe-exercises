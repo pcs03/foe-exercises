{
 "cells": [
  {
   "cell_type": "code",
   "execution_count": 98,
   "metadata": {},
   "outputs": [],
   "source": [
    "import math\n",
    "import numpy as np\n",
    "import pandas as pd\n",
    "\n",
    "from avipy import qty, atmosphere as atm"
   ]
  },
  {
   "cell_type": "markdown",
   "metadata": {},
   "source": [
    "# Landing Performance Assignment\n",
    "## Deliberable 2: Actual Landing Distance\n",
    "\n",
    "Calculate the actual landing distance for a landing weight of 250000 kg at sea level.\n",
    "\n",
    "Values:\n",
    "- Final approach speed, $ v_{ref} + 5 Kts $\n",
    "- Flare time, $ t_f = 5.2 s $\n",
    "- Flare speed ratio, $ FSR = 0.9763 $\n",
    "- Transition time, $t_{tr} = 1.8 s$\n",
    "- Transition speed decay, $decay = 0.982 $\n",
    "- Thrust at touchdown per engine, $ T_{td} = 3400 lbs $\n",
    "\n",
    "Assumptions:\n",
    "- No reverse thrust, no slope, no wind\n",
    "- 1 second to apply maximum braking power\n",
    "- Ground idle reverse thrust as follows:\n",
    "- Any flare height is negligible, thus  $TAS_{stall} = IAS_{stall} = 122 Kts$\n",
    "- Stall speed to ref speed, $ v_{ref} = v_{stall} \\cdot 1.23 $\n",
    "- Stall speed to touchdown speed, $ v_{td} = v_{stall} \\cdot 1.18 $\n",
    "\n",
    "\n",
    "| TAS [kts] | Total Idle Forward Thrust [lbs] |\n",
    "|-----------|---------------------------------|\n",
    "| 130 | 4896 |\n",
    "| 120 | 5266 |\n",
    "| 110 | 5517 |\n",
    "| 100 | 5949 |\n",
    "| 80 | 6580 |\n",
    "| 60 | 7235 |\n",
    "| 40 | 8157 |\n",
    "| 20 | 8991 |\n",
    "| 0 | 9875 |"
   ]
  },
  {
   "cell_type": "code",
   "execution_count": 99,
   "metadata": {},
   "outputs": [],
   "source": [
    "mass = qty.Mass(250000)\n",
    "weight = qty.Force.Kg(mass)\n",
    "v_stall = qty.Velocity.Kts(122)\n",
    "v_stall_to_ref = 1.23\n",
    "v_stall_to_td = 1.18\n",
    "t_flare = qty.Time(5.2)\n",
    "fsr = 0.9763\n",
    "t_trans = qty.Time(1.8)\n",
    "speed_decay = 0.982\n",
    "thrust_td = qty.Force.Kg(qty.Mass.Lbs(3400 * 2))\n",
    "mu_dry = 0.54\n",
    "density = 1.2252\n",
    "cl_gnd = 0.126\n",
    "cd_gnd = 0.213\n",
    "surface = qty.Area(436.8)\n",
    "\n",
    "speed_thrust = [\n",
    "    (qty.Velocity.Kts(130), qty.Force.Kg(qty.Mass.Lbs(4896))),\n",
    "    (qty.Velocity.Kts(120), qty.Force.Kg(qty.Mass.Lbs(5266))),\n",
    "    (qty.Velocity.Kts(110), qty.Force.Kg(qty.Mass.Lbs(5517))),\n",
    "    (qty.Velocity.Kts(100), qty.Force.Kg(qty.Mass.Lbs(5949))),\n",
    "    (qty.Velocity.Kts(80), qty.Force.Kg(qty.Mass.Lbs(6580))),\n",
    "    (qty.Velocity.Kts(60), qty.Force.Kg(qty.Mass.Lbs(7235))),\n",
    "    (qty.Velocity.Kts(40), qty.Force.Kg(qty.Mass.Lbs(8157))),\n",
    "    (qty.Velocity.Kts(20), qty.Force.Kg(qty.Mass.Lbs(8991))),\n",
    "    (qty.Velocity.Kts(0), qty.Force.Kg(qty.Mass.Lbs(9875))),\n",
    "]"
   ]
  },
  {
   "cell_type": "markdown",
   "metadata": {},
   "source": [
    "Calculate the flare distance, using:\\\n",
    "$ \\large S_{air} = v_{flare_{avg}} \\cdot t_{flare} $"
   ]
  },
  {
   "cell_type": "code",
   "execution_count": 100,
   "metadata": {},
   "outputs": [
    {
     "name": "stdout",
     "output_type": "stream",
     "text": [
      "79.77 m/s 77.20 m/s 74.06 m/s 72.73 m/s\n"
     ]
    }
   ],
   "source": [
    "v_ref = qty.Velocity(v_stall * v_stall_to_ref)\n",
    "v_app = qty.Velocity(v_ref + qty.Velocity.Kts(5))\n",
    "v_td = qty.Velocity(v_stall * v_stall_to_td)\n",
    "v_bo = qty.Velocity(v_td * speed_decay)\n",
    "\n",
    "print(v_app, v_ref, v_td, v_bo)"
   ]
  },
  {
   "cell_type": "code",
   "execution_count": 101,
   "metadata": {},
   "outputs": [
    {
     "name": "stdout",
     "output_type": "stream",
     "text": [
      "409.89 meters\n"
     ]
    }
   ],
   "source": [
    "v_avg = qty.Velocity((v_app + v_app * fsr) / 2)\n",
    "dist_air = qty.Distance(v_avg * t_flare)\n",
    "\n",
    "print(dist_air)"
   ]
  },
  {
   "cell_type": "markdown",
   "metadata": {},
   "source": [
    "Now, calculate the transition distance. First, the average speed during the transition time can be obtained by taking the average between the touchdown speed and the brakes-on speed."
   ]
  },
  {
   "cell_type": "code",
   "execution_count": 102,
   "metadata": {},
   "outputs": [
    {
     "name": "stdout",
     "output_type": "stream",
     "text": [
      "73.39 m/s\n"
     ]
    }
   ],
   "source": [
    "v_bo = qty.Velocity(v_td * speed_decay)\n",
    "v_trans_avg = qty.Velocity((v_td + v_bo) / 2)\n",
    "\n",
    "print(v_trans_avg)"
   ]
  },
  {
   "cell_type": "markdown",
   "metadata": {},
   "source": [
    "Then the transition distance can be obtained by applying the transition speed and transition time."
   ]
  },
  {
   "cell_type": "code",
   "execution_count": 103,
   "metadata": {},
   "outputs": [
    {
     "name": "stdout",
     "output_type": "stream",
     "text": [
      "132.11 meters\n"
     ]
    }
   ],
   "source": [
    "dist_trans = qty.Distance(v_trans_avg * t_trans)\n",
    "\n",
    "print(dist_trans)"
   ]
  },
  {
   "cell_type": "markdown",
   "metadata": {},
   "source": [
    "The ground run distance can be calculated with a multi-step practical approach:\n",
    "\n",
    "1. Split the round run up into multiple speed segments. \n",
    "2. Calculate the acceleration at the upper speed and lower speed of the segment.\n",
    "3. Calculate the average speed and acceleration during the segment\n",
    "4. With the average speed and acceleration, calculate the distance travelled throughout the segment.\n",
    "5. Add up all segment distances, the total is the approximate ground run distance.\n",
    "\n",
    "To calculate this in Python, two functions will be defined. The first function `get_brake_dist` takes the brakes-on speed, and divides the ground run into multiple speed segments. For every segment, the second function will be called.\n",
    "\n",
    "The second function `get_segment_dist` takes the speed bounds of the segment, and calculates the segment distance using the described approach. \n",
    "\n",
    "To calculate the acceleration at a given speed. The following equation is used:\n",
    "\n",
    "$\\large a = \\frac{g \\cdot (T - D - \\mu \\cdot (W - L))}{W}$\n",
    "\n",
    "where\n",
    "\n",
    "$L = \\frac{1}{2} \\cdot \\rho_h \\cdot v^2 \\cdot S \\cdot C_{L_{gnd}}$\n",
    "\n",
    "and \n",
    "\n",
    "$D = \\frac{1}{2} \\cdot \\rho_h \\cdot v^2 \\cdot S \\cdot C_{D_{gnd}}$"
   ]
  },
  {
   "cell_type": "code",
   "execution_count": 104,
   "metadata": {},
   "outputs": [],
   "source": [
    "def get_brake_dist(v_bo: qty.Velocity, segments: list[tuple[qty.Velocity, qty.Force]]) -> qty.Distance:\n",
    "    brake_dist = 0\n",
    "    \n",
    "    for i in range(len(segments)):\n",
    "        if i >= len(segments) - 1:\n",
    "            return qty.Distance(brake_dist)\n",
    "\n",
    "        segment = get_segment_dist(segments[i], segments[i + 1])\n",
    "        brake_dist += segment\n",
    "    \n",
    "    return None\n",
    "    \n",
    "def get_segment_dist(upper: tuple[qty.Velocity, qty.Force], lower: tuple [qty.Velocity, qty.Force]) -> qty.Distance:\n",
    "    speed_upper, speed_lower = upper[0], lower[0]\n",
    "    thrust_upper, thrust_lower = upper[1], lower[1]\n",
    "    \n",
    "    drag_upper = qty.Force(0.5 * density * speed_upper**2 * surface * cd_gnd)\n",
    "    drag_lower = qty.Force(0.5 * density * speed_lower**2 * surface * cd_gnd)\n",
    "    \n",
    "    lift_upper = qty.Force(0.5 * density * speed_upper**2 * surface * cl_gnd)\n",
    "    lift_lower = qty.Force(0.5 * density * speed_lower**2 * surface * cl_gnd)\n",
    "\n",
    "    accel_upper = (9.81 *  (thrust_upper - drag_upper - mu_dry * (weight - lift_upper))) / weight\n",
    "    accel_lower = (9.81 *  (thrust_lower - drag_lower - mu_dry * (weight - lift_lower))) / weight\n",
    "\n",
    "    accel_avg = (accel_upper + accel_lower) / 2\n",
    "    v_avg = qty.Velocity((speed_upper + speed_lower) / 2)\n",
    "    delta_v = qty.Velocity(speed_upper - speed_lower)\n",
    "    segment_dist = qty.Distance(-(v_avg * delta_v / accel_avg))\n",
    "    \n",
    "    return qty.Distance(segment_dist)"
   ]
  },
  {
   "cell_type": "markdown",
   "metadata": {},
   "source": [
    "Insert the speed and thrust at the brakes-on speed in the beginning of the speed_thrust list. Then obtain the distance using the function defined above."
   ]
  },
  {
   "cell_type": "code",
   "execution_count": 105,
   "metadata": {},
   "outputs": [
    {
     "name": "stdout",
     "output_type": "stream",
     "text": [
      "473.62 meters\n"
     ]
    }
   ],
   "source": [
    "speed_thrust.insert(0, (v_bo, thrust_td))\n",
    "\n",
    "dist_brake = get_brake_dist(v_bo, speed_thrust)\n",
    "print(dist_brake)"
   ]
  },
  {
   "cell_type": "code",
   "execution_count": 106,
   "metadata": {},
   "outputs": [
    {
     "name": "stdout",
     "output_type": "stream",
     "text": [
      "1015.62 meters\n"
     ]
    }
   ],
   "source": [
    "dist_total = qty.Distance(dist_air + dist_trans + dist_brake)\n",
    "\n",
    "print(dist_total)"
   ]
  }
 ],
 "metadata": {
  "kernelspec": {
   "display_name": "venv",
   "language": "python",
   "name": "python3"
  },
  "language_info": {
   "codemirror_mode": {
    "name": "ipython",
    "version": 3
   },
   "file_extension": ".py",
   "mimetype": "text/x-python",
   "name": "python",
   "nbconvert_exporter": "python",
   "pygments_lexer": "ipython3",
   "version": "3.11.5"
  }
 },
 "nbformat": 4,
 "nbformat_minor": 2
}
