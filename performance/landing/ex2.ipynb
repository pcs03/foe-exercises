{
 "cells": [
  {
   "cell_type": "markdown",
   "metadata": {},
   "source": [
    "# Landing Performance - Exercise 2\n",
    "\n",
    "Of a BAE 146 series 200, the following data are known:\n",
    "- Aircraft mass, $ m = 36741 \\text{ kg} $\n",
    "- Wing area, $ S = 77.3 \\text{ } m^2 $\n",
    "- Drag coefficients, $ C_D = 0.08 + 0.044 \\cdot C_L^2 $\n",
    "- Max lift coefficient, $ C_{L_{max}} = 2.52\n",
    "- Approach glide path angle, $ \\gamma = 3 \\degree $\n",
    "- Appraoch speed, $ v_{ref} = 1.3 \\cdot v_{min} $\n",
    "- Touchdown speed, $ v_{td} = 1.15 \\cdot v_{min} $\n",
    "- Thrust at landing, $ T = 0 \\text{ N}$\n",
    "- Air density = $ \\rho = 1.225 \\text{ } \\frac{kg}{m^3} $\n",
    "- During braking on ground run:\n",
    "    - lift coefficient, $ C_L = 1.2 $\n",
    "    - friction coefficient, $ \\mu = 0.4 $"
   ]
  },
  {
   "cell_type": "code",
   "execution_count": 2,
   "metadata": {},
   "outputs": [],
   "source": [
    "import math\n",
    "import qty"
   ]
  },
  {
   "cell_type": "markdown",
   "metadata": {},
   "source": [
    "### Initialize variables"
   ]
  },
  {
   "cell_type": "code",
   "execution_count": 15,
   "metadata": {},
   "outputs": [],
   "source": [
    "mass = qty.Mass(36741)\n",
    "surface = qty.Area(77.3)\n",
    "cd_0 = 0.08\n",
    "cd_i_k = 0.044\n",
    "cl_max = 2.52\n",
    "fpa = math.radians(3)\n",
    "v_min_to_vref = 1.3\n",
    "v_min_to_vtd = 1.15\n",
    "thrust_td = 0\n",
    "density = 1.225\n",
    "\n",
    "screen_height = qty.Distance.Ft(50)\n",
    "flare_height = qty.Distance.Ft(30)\n",
    "\n",
    "cl_gnd = 1.2\n",
    "friction = 0.4"
   ]
  },
  {
   "cell_type": "markdown",
   "metadata": {},
   "source": [
    "### Minimum speed\n",
    "\n",
    "$ \\large v_{min} = \\sqrt{\\frac{2 \\cdot W}{\\rho \\cdot S \\cdot C_{L_{max}}}} $"
   ]
  },
  {
   "cell_type": "code",
   "execution_count": 5,
   "metadata": {},
   "outputs": [
    {
     "name": "stdout",
     "output_type": "stream",
     "text": [
      "54.96 m/s 71.45 m/s 63.21 m/s\n"
     ]
    }
   ],
   "source": [
    "weight = mass * 9.81\n",
    "\n",
    "v_min = qty.Velocity(math.sqrt((2 * weight) / (density * surface * cl_max)))\n",
    "v_ref = qty.Velocity(v_min_to_vref * v_min)\n",
    "v_td = qty.Velocity(v_min_to_vtd * v_min)\n",
    "\n",
    "print(v_min, v_ref, v_td)"
   ]
  },
  {
   "cell_type": "markdown",
   "metadata": {},
   "source": [
    "### Approach Distance\n",
    "\n",
    "#### Stationary part\n",
    "\n",
    "$ \\large S_A = \\frac{h_A - h_f}{\\tan{{\\gamma}_A}} $"
   ]
  },
  {
   "cell_type": "code",
   "execution_count": 8,
   "metadata": {},
   "outputs": [
    {
     "name": "stdout",
     "output_type": "stream",
     "text": [
      "116.32 meters\n"
     ]
    }
   ],
   "source": [
    "stationary_distance = qty.Distance((screen_height - flare_height) / (math.tan(fpa)))\n",
    "\n",
    "print(stationary_distance)"
   ]
  },
  {
   "cell_type": "markdown",
   "metadata": {},
   "source": [
    "#### Flare part\n",
    "\n",
    "$ \\large S_B = \\frac{\\frac{W}{2g}({TAS}_C^2 - {TAS}_B^2) - W \\cdot h_f}{T - D} $\n",
    "\n",
    "where (T -D) is the average between point B and C. Point B is at the start of the flare:\n",
    "\n",
    "$ D - T = W \\cdot \\sin{\\gamma} $\n"
   ]
  },
  {
   "cell_type": "code",
   "execution_count": 10,
   "metadata": {},
   "outputs": [
    {
     "name": "stdout",
     "output_type": "stream",
     "text": [
      "-18863.41 Newtons\n"
     ]
    }
   ],
   "source": [
    "t_min_d_b = qty.Force(-(weight * math.sin(fpa)))\n",
    "\n",
    "print(t_min_d_b)"
   ]
  },
  {
   "cell_type": "markdown",
   "metadata": {},
   "source": [
    "At touchdown:"
   ]
  },
  {
   "cell_type": "code",
   "execution_count": 19,
   "metadata": {},
   "outputs": [
    {
     "name": "stdout",
     "output_type": "stream",
     "text": [
      "1.9054820415879024 0.239757919675816 45351.13 Newtons -45351.13 Newtons -32107.27 Newtons\n"
     ]
    }
   ],
   "source": [
    "cl_td = (2 * weight) / (density * v_td**2 * surface)\n",
    "\n",
    "cd_td = cd_0 + cd_i_k * cl_td**2\n",
    "\n",
    "drag_td = qty.Force(0.5 * density * v_td**2 * cd_td * surface)\n",
    "\n",
    "t_min_d_c = qty.Force(thrust_td - drag_td)\n",
    "\n",
    "t_min_d_avg = qty.Force((t_min_d_b + t_min_d_c) / 2)\n",
    "\n",
    "print(cl_td, cd_td, drag_td, t_min_d_c, t_min_d_avg)"
   ]
  },
  {
   "cell_type": "markdown",
   "metadata": {},
   "source": [
    "With these values, the flare distance can be obtained"
   ]
  },
  {
   "cell_type": "code",
   "execution_count": 21,
   "metadata": {},
   "outputs": [
    {
     "name": "stdout",
     "output_type": "stream",
     "text": [
      "737.85 meters\n"
     ]
    }
   ],
   "source": [
    "flare_dist = qty.Distance((weight / (2 * 9.81) * (v_td**2 - v_ref**2) - (weight * flare_height)) / t_min_d_avg)\n",
    "\n",
    "print(flare_dist)"
   ]
  }
 ],
 "metadata": {
  "kernelspec": {
   "display_name": "venv",
   "language": "python",
   "name": "python3"
  },
  "language_info": {
   "codemirror_mode": {
    "name": "ipython",
    "version": 3
   },
   "file_extension": ".py",
   "mimetype": "text/x-python",
   "name": "python",
   "nbconvert_exporter": "python",
   "pygments_lexer": "ipython3",
   "version": "3.11.5"
  }
 },
 "nbformat": 4,
 "nbformat_minor": 2
}
