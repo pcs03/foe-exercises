{
 "cells": [
  {
   "cell_type": "markdown",
   "metadata": {},
   "source": [
    "# Landing Performance - Exercise 2\n",
    "\n",
    "Of a BAE 146 series 200, the following data are known:\n",
    "- Aircraft mass, $ m = 31600 \\text{ kg} $\n",
    "- Wing area, $ S = 94 \\text{ } m^2 $\n",
    "- Drag coefficients, $ C_D = 0.045 + 0.036 \\cdot C_L^2 $\n",
    "- Max lift coefficient, $ C_{L_{max}} = 2.1 $\n",
    "- Approach glide path angle, $ \\gamma = 2.5 \\degree $\n",
    "- Approach speed, $ v_{ref} = 1.3 \\cdot v_{min} $\n",
    "- Touchdown speed, $ v_{td} = 1.15 \\cdot v_{min} $\n",
    "- Thrust at landing, $ T = 0 \\text{ N}$\n",
    "- Air density = $ \\rho = 1.225 \\text{ } \\frac{kg}{m^3} $\n",
    "- During flare:\n",
    "    - Lift coefficient, $ C_L = 1.78 $\n",
    "    - Speed is average between beginning and ending of landing arc\n",
    "- During braking on ground run:\n",
    "    - lift coefficient, $ C_L = 0.62 $\n",
    "    - friction coefficient, $ \\mu = 0.32 $"
   ]
  },
  {
   "cell_type": "code",
   "execution_count": 2,
   "metadata": {},
   "outputs": [],
   "source": [
    "import math\n",
    "import qty"
   ]
  },
  {
   "cell_type": "markdown",
   "metadata": {},
   "source": [
    "### Initialize variables"
   ]
  },
  {
   "cell_type": "code",
   "execution_count": 3,
   "metadata": {},
   "outputs": [],
   "source": [
    "mass = qty.Mass(31600)\n",
    "surface = qty.Area(94)\n",
    "cd_0 = 0.045\n",
    "cd_i_k = 0.036\n",
    "cl_max = 2.1\n",
    "fpa = math.radians(2.5)\n",
    "v_min_to_vref = 1.3\n",
    "v_min_to_vtd = 1.15\n",
    "thrust_td = 0\n",
    "density = 1.225\n",
    "\n",
    "screen_height = qty.Distance.Ft(50)\n",
    "flare_height = qty.Distance.Ft(35)\n",
    "\n",
    "cl_flare = 1.78\n",
    "\n",
    "cl_gnd = 0.62\n",
    "friction = 0.32"
   ]
  },
  {
   "cell_type": "markdown",
   "metadata": {},
   "source": [
    "### Speeds during approach"
   ]
  },
  {
   "cell_type": "code",
   "execution_count": 4,
   "metadata": {},
   "outputs": [
    {
     "name": "stdout",
     "output_type": "stream",
     "text": [
      "50.64 m/s 58.23 m/s 65.83 m/s 55.00 m/s\n"
     ]
    }
   ],
   "source": [
    "weight = 9.81 * mass\n",
    "\n",
    "v_min = qty.Velocity(math.sqrt((2 * weight) / (density * cl_max * surface)))\n",
    "v_flare = qty.Velocity(math.sqrt((2 * weight) / (density * cl_flare * surface)))\n",
    "\n",
    "v_ref = qty.Velocity(v_min_to_vref * v_min)\n",
    "v_td = qty.Velocity(v_min_to_vtd * v_min)\n",
    "\n",
    "print(v_min, v_td, v_ref, v_flare)"
   ]
  },
  {
   "cell_type": "markdown",
   "metadata": {},
   "source": [
    "### Approach Distance\n",
    "\n",
    "#### Stationary"
   ]
  },
  {
   "cell_type": "code",
   "execution_count": 5,
   "metadata": {},
   "outputs": [
    {
     "name": "stdout",
     "output_type": "stream",
     "text": [
      "104.72 meters\n"
     ]
    }
   ],
   "source": [
    "dist_stationary = qty.Distance((screen_height - flare_height) / (math.tan(fpa)))\n",
    "\n",
    "print(dist_stationary)"
   ]
  },
  {
   "cell_type": "markdown",
   "metadata": {},
   "source": [
    "#### Flare part"
   ]
  },
  {
   "cell_type": "code",
   "execution_count": 9,
   "metadata": {},
   "outputs": [
    {
     "name": "stdout",
     "output_type": "stream",
     "text": [
      "27701.52 Newtons 14179.69 Newtons\n",
      "-13521.84 Newtons\n"
     ]
    }
   ],
   "source": [
    "cd_flare = cd_0 + cd_i_k * cl_flare**2\n",
    "drag_flare = qty.Force(0.5 * density * v_flare**2 * cd_flare * surface)\n",
    "\n",
    "thrust_flare = qty.Force(drag_flare - weight * math.sin(fpa))\n",
    "\n",
    "t_min_d_avg = qty.Force(thrust_flare - drag_flare)\n",
    "\n",
    "print(drag_flare, thrust_flare)\n",
    "print(t_min_d_avg)"
   ]
  },
  {
   "cell_type": "code",
   "execution_count": 10,
   "metadata": {},
   "outputs": [
    {
     "name": "stdout",
     "output_type": "stream",
     "text": [
      "1345.56 meters\n"
     ]
    }
   ],
   "source": [
    "dist_flare = qty.Distance((weight / (2 * 9.81) * (v_td**2 - v_ref**2) - (weight * flare_height)) / t_min_d_avg)\n",
    "\n",
    "print(dist_flare)"
   ]
  }
 ],
 "metadata": {
  "kernelspec": {
   "display_name": "venv",
   "language": "python",
   "name": "python3"
  },
  "language_info": {
   "codemirror_mode": {
    "name": "ipython",
    "version": 3
   },
   "file_extension": ".py",
   "mimetype": "text/x-python",
   "name": "python",
   "nbconvert_exporter": "python",
   "pygments_lexer": "ipython3",
   "version": "3.11.5"
  }
 },
 "nbformat": 4,
 "nbformat_minor": 2
}
