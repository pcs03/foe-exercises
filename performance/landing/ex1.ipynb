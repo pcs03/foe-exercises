{
 "cells": [
  {
   "cell_type": "markdown",
   "metadata": {},
   "source": [
    "# Landing Performance - Excercise 1\n",
    "\n",
    "From an MD-11, the following information is given:\n",
    "- Landing mass = 199500 kg\n",
    "- Wing area = 338.9 $m^2$\n",
    "- Wingspan = 51.66 m\n",
    "- $C_{L_{max}}$ in landing configuration = 2.6\n",
    "- Air density = 1.225 $kg/m^3$\n",
    "- Flight path angle = 3 degrees\n",
    "- Approach speed, $v_{ref} = 1.3 \\cdot v_{1g_{stall}}$ \n",
    "- Oswald factor, $e=0.8$\n",
    "- $C_{D_0}$ = 0.12\n",
    "\n",
    "**Calculate the required thrust during the approach**"
   ]
  },
  {
   "cell_type": "code",
   "execution_count": 23,
   "metadata": {},
   "outputs": [],
   "source": [
    "import math\n",
    "import qty"
   ]
  },
  {
   "cell_type": "markdown",
   "metadata": {},
   "source": [
    "### Initialize variables"
   ]
  },
  {
   "cell_type": "code",
   "execution_count": 24,
   "metadata": {},
   "outputs": [],
   "source": [
    "mass = qty.Mass(199500)\n",
    "surface = qty.Area(338.9)\n",
    "wingspan = 51.66\n",
    "cl_max = 2.6\n",
    "density = 1.225\n",
    "fpa = math.radians(3)\n",
    "v_stall_to_vref = 1.3\n",
    "oswald = 0.8\n",
    "cd_0 = 0.12"
   ]
  },
  {
   "cell_type": "markdown",
   "metadata": {},
   "source": [
    "### Lift during powered descent\n",
    "\n",
    "$ W = m \\cdot 9.81 $\\\n",
    "$ L = W \\cdot \\cos{\\gamma} $"
   ]
  },
  {
   "cell_type": "code",
   "execution_count": 25,
   "metadata": {},
   "outputs": [
    {
     "name": "stdout",
     "output_type": "stream",
     "text": [
      "1954412.87 Newtons\n"
     ]
    }
   ],
   "source": [
    "weight = qty.Force(mass * 9.81)\n",
    "lift = qty.Force(weight * math.cos(fpa))\n",
    "\n",
    "print(lift)"
   ]
  },
  {
   "cell_type": "markdown",
   "metadata": {},
   "source": [
    "### Aircraft stall speed & VREF\n",
    "\n",
    "$ \\Large v_{stall} = \\sqrt{\\frac{2 \\cdot L}{S \\cdot \\rho \\cdot C_{L_{max}} }} $"
   ]
  },
  {
   "cell_type": "code",
   "execution_count": 26,
   "metadata": {},
   "outputs": [
    {
     "name": "stdout",
     "output_type": "stream",
     "text": [
      "60.18 m/s 78.23 m/s\n"
     ]
    }
   ],
   "source": [
    "v_stall = qty.Velocity(math.sqrt((2 * lift) / (surface * density * cl_max)))\n",
    "v_ref = qty.Velocity(v_stall_to_vref * v_stall)\n",
    "\n",
    "print(v_stall, v_ref)"
   ]
  },
  {
   "cell_type": "markdown",
   "metadata": {},
   "source": [
    "### Lift coefficient at VREF"
   ]
  },
  {
   "cell_type": "code",
   "execution_count": 27,
   "metadata": {},
   "outputs": [
    {
     "name": "stdout",
     "output_type": "stream",
     "text": [
      "1.538\n"
     ]
    }
   ],
   "source": [
    "cl_ref = (2 * lift) / (density * surface * v_ref**2)\n",
    "\n",
    "print(f\"{cl_ref:.3f}\")"
   ]
  },
  {
   "cell_type": "markdown",
   "metadata": {},
   "source": [
    "### Drag coefficient\n",
    "\n",
    "$ \\large C_D = C_{D_0} + \\frac{C_L^2}{\\pi \\cdot e \\cdot AR} $\n",
    "\n",
    "where \n",
    "\n",
    "$ AR = \\frac{b^2}{S} $"
   ]
  },
  {
   "cell_type": "code",
   "execution_count": 28,
   "metadata": {},
   "outputs": [
    {
     "name": "stdout",
     "output_type": "stream",
     "text": [
      "0.240\n"
     ]
    }
   ],
   "source": [
    "aspect_ratio = wingspan**2 / surface\n",
    "\n",
    "cd = cd_0 + cl_ref**2 / (math.pi * aspect_ratio * oswald)\n",
    "\n",
    "print(f\"{cd:.3f}\")"
   ]
  },
  {
   "cell_type": "markdown",
   "metadata": {},
   "source": [
    "### Drag\n",
    "\n",
    "$ D = \\frac{1}{2} \\cdot \\rho \\cdot v^2 \\cdot S \\cdot C_D $"
   ]
  },
  {
   "cell_type": "code",
   "execution_count": 29,
   "metadata": {},
   "outputs": [
    {
     "name": "stdout",
     "output_type": "stream",
     "text": [
      "304368.02 Newtons\n"
     ]
    }
   ],
   "source": [
    "drag = qty.Force(0.5 * density * v_ref**2 * surface * cd)\n",
    "\n",
    "print(drag)"
   ]
  },
  {
   "cell_type": "markdown",
   "metadata": {},
   "source": [
    "### Thrust during approach\n",
    "\n",
    "$ \\large \\sin{\\gamma} = \\frac{D - T}{W} $\\\n",
    "$ \\large T = D - \\sin{\\gamma} \\cdot W $"
   ]
  },
  {
   "cell_type": "code",
   "execution_count": 30,
   "metadata": {},
   "outputs": [
    {
     "name": "stdout",
     "output_type": "stream",
     "text": [
      "201941.58 Newtons 201.94158226484453\n"
     ]
    }
   ],
   "source": [
    "thrust = qty.Force(drag - math.sin(fpa) * weight)\n",
    "\n",
    "print(thrust, thrust.kn)"
   ]
  }
 ],
 "metadata": {
  "kernelspec": {
   "display_name": "venv",
   "language": "python",
   "name": "python3"
  },
  "language_info": {
   "codemirror_mode": {
    "name": "ipython",
    "version": 3
   },
   "file_extension": ".py",
   "mimetype": "text/x-python",
   "name": "python",
   "nbconvert_exporter": "python",
   "pygments_lexer": "ipython3",
   "version": "3.11.5"
  }
 },
 "nbformat": 4,
 "nbformat_minor": 2
}
