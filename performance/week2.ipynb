{
 "cells": [
  {
   "cell_type": "markdown",
   "metadata": {},
   "source": [
    "# Landing Performance\n",
    "## Approach Distance & Flare Distance"
   ]
  },
  {
   "cell_type": "markdown",
   "metadata": {},
   "source": [
    "### Stationary part of approach: Steady powered uniform approach\n",
    "\n",
    "Calculation of distance $S_A$"
   ]
  },
  {
   "cell_type": "markdown",
   "metadata": {},
   "source": [
    "$\\Large S_A = \\frac{(h_l-h_f)}{tan{\\gamma}}$"
   ]
  },
  {
   "cell_type": "markdown",
   "metadata": {},
   "source": [
    "### Flare arc: Constant Speed\n",
    "\n",
    "Calculation of distance $S_B$"
   ]
  },
  {
   "cell_type": "markdown",
   "metadata": {},
   "source": [
    "#### Calculation of arc radius on flare\n",
    "\n",
    "$\\Large r=\\frac{W \\cdot {TAS}^2}{g \\cdot (L - W \\cdot \\cos{\\gamma})}$"
   ]
  },
  {
   "cell_type": "markdown",
   "metadata": {},
   "source": [
    "$\\Large S_B = r \\cdot \\sin{\\gamma_B}$"
   ]
  },
  {
   "cell_type": "markdown",
   "metadata": {},
   "source": [
    "$\\Large h_f = r \\cdot (1-\\cos{\\gamma_B})$"
   ]
  },
  {
   "cell_type": "markdown",
   "metadata": {},
   "source": [
    "## Flare arc: Decelerating Speed\n",
    "\n",
    "Calculation of $S_B$ with energy method"
   ]
  },
  {
   "cell_type": "markdown",
   "metadata": {},
   "source": [
    "$\\Large \\frac{W}{2 \\cdot g} \\cdot ({TAS}^2_L - {TAS}^2_B) = (T-D) \\cdot S_B + W \\cdot h_f$"
   ]
  }
 ],
 "metadata": {
  "language_info": {
   "name": "python"
  },
  "orig_nbformat": 4
 },
 "nbformat": 4,
 "nbformat_minor": 2
}
