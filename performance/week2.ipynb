{
  "cells": [
    {
      "cell_type": "markdown",
      "metadata": {},
      "source": [
        "# Landing Performance\n",
        "## Approach Distance & Flare Distance"
      ]
    },
    {
      "cell_type": "markdown",
      "metadata": {},
      "source": [
        "### Stationary part of approach: Steady powered uniform approach\n",
        "\n",
        "Calculation of distance $S_A$"
      ]
    },
    {
      "cell_type": "markdown",
      "metadata": {},
      "source": [
        "$\\Large S_A = \\frac{(h_l-h_f)}{tan{\\gamma}}$"
      ]
    },
    {
      "cell_type": "markdown",
      "metadata": {},
      "source": [
        "### Flare arc: Constant Speed\n",
        "\n",
        "Calculation of distance $S_B$"
      ]
    },
    {
      "cell_type": "markdown",
      "metadata": {},
      "source": [
        "#### Calculation of arc radius on flare\n",
        "\n",
        "$\\Large r=\\frac{W \\cdot {TAS}^2}{g \\cdot (L - W \\cdot \\cos{\\gamma})}$"
      ]
    },
    {
      "cell_type": "markdown",
      "metadata": {},
      "source": [
        "$\\Large S_B = r \\cdot \\sin{\\gamma_B}$"
      ]
    },
    {
      "cell_type": "markdown",
      "metadata": {},
      "source": [
        "$\\Large h_f = r \\cdot (1-\\cos{\\gamma_B})$"
      ]
    },
    {
      "cell_type": "markdown",
      "metadata": {},
      "source": [
        "## Flare arc: Decelerating Speed\n",
        "\n",
        "Calculation of $S_B$ with energy method"
      ]
    },
    {
      "cell_type": "markdown",
      "metadata": {},
      "source": [
        "$\\Large \\frac{W}{2 \\cdot g} \\cdot ({TAS}^2_L - {TAS}^2_B) = (T-D) \\cdot S_B + W \\cdot h_f$"
      ]
    },
    {
      "cell_type": "markdown",
      "metadata": {},
      "source": [
        "$ \\Large S_B \\cdot (T - D) = \\frac{W}{2\\cdot g} \\cdot W \\cdot h_f \\cdot ({TAS}^2_L - {TAS}^2_B) $"
      ]
    },
    {
      "cell_type": "markdown",
      "metadata": {},
      "source": [
        "# Workshop Exercise 1"
      ]
    },
    {
      "cell_type": "code",
      "execution_count": 3,
      "metadata": {},
      "outputs": [],
      "source": [
        "import math\n",
        "import sys\n",
        "from avipy import qty"
      ]
    },
    {
      "cell_type": "code",
      "execution_count": 4,
      "metadata": {},
      "outputs": [],
      "source": [
        "mass = 18345\n",
        "cl_max = 2.1\n",
        "density = 1.225\n",
        "surface = 75\n",
        "fpa = math.radians(3)\n",
        "vstall_to_vref = 1.3\n",
        "vstall_to_vtd = 1.15\n",
        "\n",
        "cd_par = 0.07\n",
        "cd_k_const = 0.044"
      ]
    },
    {
      "cell_type": "code",
      "execution_count": 5,
      "metadata": {},
      "outputs": [
        {
          "name": "stdout",
          "output_type": "stream",
          "text": [
            "179902.99 Newtons\n"
          ]
        }
      ],
      "source": [
        "weight = qty.Force.Kg(mass)\n",
        "\n",
        "print(weight)"
      ]
    },
    {
      "cell_type": "code",
      "execution_count": 6,
      "metadata": {},
      "outputs": [
        {
          "data": {
            "text/plain": [
              "43.154697172318826"
            ]
          },
          "execution_count": 6,
          "metadata": {},
          "output_type": "execute_result"
        }
      ],
      "source": [
        "v_stall = math.sqrt((weight * 2 * math.cos(fpa)) / (density * surface * cl_max))\n",
        "\n",
        "v_stall"
      ]
    },
    {
      "cell_type": "code",
      "execution_count": 7,
      "metadata": {},
      "outputs": [
        {
          "name": "stdout",
          "output_type": "stream",
          "text": [
            "56.101106324014474 49.62790174816665\n"
          ]
        }
      ],
      "source": [
        "v_ref = vstall_to_vref * v_stall\n",
        "v_td = vstall_to_vtd * v_stall\n",
        "\n",
        "print(v_ref, v_td)"
      ]
    },
    {
      "cell_type": "code",
      "execution_count": 8,
      "metadata": {},
      "outputs": [
        {
          "name": "stdout",
          "output_type": "stream",
          "text": [
            "1.5900808518681542\n"
          ]
        }
      ],
      "source": [
        "cl_app = (2 * weight) / (density * v_td**2 * surface)\n",
        "\n",
        "print(cl_app)"
      ]
    },
    {
      "cell_type": "code",
      "execution_count": 9,
      "metadata": {},
      "outputs": [],
      "source": [
        "class Dragpolar:\n",
        "    def __init__(self, cd_par, oswald = None, wing_surface = None, wingspan = None, k_const = None):\n",
        "        if (k_const):\n",
        "            self.k_constant = k_const\n",
        "        else:\n",
        "            self.aspect_ratio = wingspan**2 / wing_surface\n",
        "            self.k_constant = 1 / (math.pi * oswald * self.aspect_ratio)\n",
        "            \n",
        "        self.cd_par = cd_par\n",
        "\n",
        "    def get_cd(self, cl: float) -> float:\n",
        "        return self.cd_par + self.k_constant * cl**2"
      ]
    },
    {
      "cell_type": "code",
      "execution_count": 10,
      "metadata": {},
      "outputs": [
        {
          "name": "stdout",
          "output_type": "stream",
          "text": [
            "0.18124771308102122\n"
          ]
        }
      ],
      "source": [
        "dragpolar = Dragpolar(cd_par, k_const=cd_k_const)\n",
        "\n",
        "cd = dragpolar.get_cd(cl_app)\n",
        "\n",
        "print(cd)"
      ]
    },
    {
      "cell_type": "code",
      "execution_count": 11,
      "metadata": {},
      "outputs": [
        {
          "name": "stdout",
          "output_type": "stream",
          "text": [
            "20506.51 Newtons\n"
          ]
        }
      ],
      "source": [
        "drag = qty.Force(0.5 * density * v_td**2 * surface * cd)\n",
        "\n",
        "print(drag)"
      ]
    },
    {
      "cell_type": "markdown",
      "metadata": {},
      "source": [
        "$ \\Large S_B = \\frac{\\frac{W}{2 \\cdot g} \\cdot W \\cdot h_f \\cdot ({TAS}^2_L - {TAS}^2_B)}{T-D} $"
      ]
    },
    {
      "cell_type": "code",
      "execution_count": 12,
      "metadata": {},
      "outputs": [
        {
          "ename": "TypeError",
          "evalue": "'property' object is not callable",
          "output_type": "error",
          "traceback": [
            "\u001b[0;31m---------------------------------------------------------------------------\u001b[0m",
            "\u001b[0;31mTypeError\u001b[0m                                 Traceback (most recent call last)",
            "\u001b[1;32m/home/pstet/code/foe-exercises/performance/week2.ipynb Cell 22\u001b[0m line \u001b[0;36m1\n\u001b[0;32m----> <a href='vscode-notebook-cell:/home/pstet/code/foe-exercises/performance/week2.ipynb#X30sZmlsZQ%3D%3D?line=0'>1</a>\u001b[0m flare_dist \u001b[39m=\u001b[39m (weight \u001b[39m/\u001b[39m (\u001b[39m2\u001b[39m \u001b[39m*\u001b[39m \u001b[39m9.81\u001b[39m) \u001b[39m*\u001b[39m weight \u001b[39m*\u001b[39m qty\u001b[39m.\u001b[39;49mDistance\u001b[39m.\u001b[39;49mft(\u001b[39m50\u001b[39;49m) \u001b[39m*\u001b[39m (v_td\u001b[39m*\u001b[39m\u001b[39m*\u001b[39m\u001b[39m2\u001b[39m \u001b[39m-\u001b[39m v_ref\u001b[39m*\u001b[39m\u001b[39m*\u001b[39m\u001b[39m2\u001b[39m)) \u001b[39m/\u001b[39m ()\n",
            "\u001b[0;31mTypeError\u001b[0m: 'property' object is not callable"
          ]
        }
      ],
      "source": [
        "flare_dist = (weight / (2 * 9.81) * weight * qty.Distance.ft(50) * (v_td**2 - v_ref**2)) / ()"
      ]
    }
  ],
  "metadata": {
    "kernelspec": {
      "display_name": "venv",
      "language": "python",
      "name": "python3"
    },
    "language_info": {
      "codemirror_mode": {
        "name": "ipython",
        "version": 3
      },
      "file_extension": ".py",
      "mimetype": "text/x-python",
      "name": "python",
      "nbconvert_exporter": "python",
      "pygments_lexer": "ipython3",
      "version": "3.11.5"
    },
    "orig_nbformat": 4
  },
  "nbformat": 4,
  "nbformat_minor": 2
}
