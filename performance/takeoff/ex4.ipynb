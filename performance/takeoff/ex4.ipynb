{
 "cells": [
  {
   "cell_type": "code",
   "execution_count": 1,
   "metadata": {},
   "outputs": [],
   "source": [
    "import math\n",
    "from avipy import qty"
   ]
  },
  {
   "cell_type": "markdown",
   "metadata": {},
   "source": [
    "Assumptions:\n",
    "- Take-off arc is exactly circular\n",
    "- The speed and angle of climb at the end of the take-off arc are equal to the arc in stationary symmetric climb\n",
    "- Excess thrust (T - D) is constant and equal to the average of initial and final speed of the arc"
   ]
  },
  {
   "cell_type": "code",
   "execution_count": 2,
   "metadata": {},
   "outputs": [],
   "source": [
    "mass = qty.Mass(362875)\n",
    "weight = qty.Force.Kg(mass)\n",
    "thrust = qty.Force(937000)\n",
    "surface = qty.Area(511)\n",
    "cd_0 = 0.06\n",
    "aspect_ratio = 6.98\n",
    "oswald = 0.75\n",
    "cl_max = 1.8\n",
    "density = 1.2255\n",
    "v_stall_to_lof = 1.2\n"
   ]
  },
  {
   "cell_type": "code",
   "execution_count": 6,
   "metadata": {},
   "outputs": [
    {
     "name": "stdout",
     "output_type": "stream",
     "text": [
      "79.47 m/s 95.37 m/s\n"
     ]
    }
   ],
   "source": [
    "v_stall = qty.Velocity(math.sqrt((2 * weight) / (density * surface * cl_max)))\n",
    "v_lof = qty.Velocity(v_stall * v_stall_to_lof)\n",
    "\n",
    "print(v_stall, v_lof)"
   ]
  },
  {
   "cell_type": "markdown",
   "metadata": {},
   "source": [
    "$ \\gamma_C = \\frac{T - D}{W} $\n",
    "\n",
    "$ D = W \\cdot \\frac{C_D}{C_L} $\n",
    "\n",
    "Where $ C_D $ can be obtained by\n",
    "\n",
    "$ C_D = 2 \\cdot C_{D_0} $\n",
    "\n",
    "where $ C_L $ can be obtained by\n",
    "\n",
    "$ C_L = (C_D - C_{D_0}) \\cdot (\\pi \\cdot AR \\cdot e) $"
   ]
  },
  {
   "cell_type": "code",
   "execution_count": 14,
   "metadata": {},
   "outputs": [
    {
     "name": "stdout",
     "output_type": "stream",
     "text": [
      "0.9867742524925539 0.12\n"
     ]
    }
   ],
   "source": [
    "cd_lof = 2 * cd_0\n",
    "cl_lof = (cd_lof - cd_0) * (math.pi * aspect_ratio * oswald)\n",
    "print(cl_lof, cd_lof)"
   ]
  },
  {
   "cell_type": "code",
   "execution_count": 18,
   "metadata": {},
   "outputs": [
    {
     "name": "stdout",
     "output_type": "stream",
     "text": [
      "432901.90 Newtons\n"
     ]
    }
   ],
   "source": [
    "drag_lof = qty.Force(cd_lof / cl_lof * weight)\n",
    "\n",
    "print(drag_lof)"
   ]
  },
  {
   "cell_type": "code",
   "execution_count": 19,
   "metadata": {},
   "outputs": [
    {
     "data": {
      "text/plain": [
       "8.113563428726048"
      ]
     },
     "execution_count": 19,
     "metadata": {},
     "output_type": "execute_result"
    }
   ],
   "source": [
    "fpa_c = (thrust - drag_lof) / weight\n",
    "\n",
    "math.degrees(fpa_c)\n"
   ]
  },
  {
   "cell_type": "code",
   "execution_count": null,
   "metadata": {},
   "outputs": [],
   "source": [
    "v_c = math.sqrt((2 * weight) / (density * surface * cl_lof))\n",
    "\n",
    "v_c"
   ]
  }
 ],
 "metadata": {
  "kernelspec": {
   "display_name": "venv",
   "language": "python",
   "name": "python3"
  },
  "language_info": {
   "codemirror_mode": {
    "name": "ipython",
    "version": 3
   },
   "file_extension": ".py",
   "mimetype": "text/x-python",
   "name": "python",
   "nbconvert_exporter": "python",
   "pygments_lexer": "ipython3",
   "version": "3.11.5"
  }
 },
 "nbformat": 4,
 "nbformat_minor": 2
}
