{
 "cells": [
  {
   "cell_type": "code",
   "execution_count": 1,
   "metadata": {},
   "outputs": [],
   "source": [
    "from avipy import qty\n",
    "import math"
   ]
  },
  {
   "cell_type": "code",
   "execution_count": 4,
   "metadata": {},
   "outputs": [],
   "source": [
    "mass = qty.Mass(362875)\n",
    "weight = qty.Force.Kg(mass)\n",
    "thrust = qty.Force(937000)\n",
    "surface = qty.Area(511)\n",
    "cd_0 = 0.06\n",
    "aspect_ratio = 6.98\n",
    "oswald = 0.75\n",
    "cl_max = 2.5\n",
    "v_stall_to_lof = 1.2\n",
    "mu = 0.05\n",
    "density = 1.2255"
   ]
  },
  {
   "cell_type": "markdown",
   "metadata": {},
   "source": [
    "## 1. Calculate $ C_L $ and $ C_D $ where the ground run is minimal\n",
    "\n",
    "$ C_L = \\frac{1}{2} \\cdot \\mu \\cdot \\pi \\cdot AR \\cdot e$\\\n",
    "$ C_D = C_{D_0} + \\frac{C_L^2}{\\pi \\cdot AR \\cdot e} $"
   ]
  },
  {
   "cell_type": "code",
   "execution_count": 3,
   "metadata": {},
   "outputs": [
    {
     "data": {
      "text/plain": [
       "(0.41115593853856414, 0.0702788984634641)"
      ]
     },
     "execution_count": 3,
     "metadata": {},
     "output_type": "execute_result"
    }
   ],
   "source": [
    "cl_min = 0.5 * mu * math.pi * aspect_ratio * oswald\n",
    "cd_min = cd_0 + cl_min**2 / (math.pi * aspect_ratio * oswald)\n",
    "\n",
    "cl_min, cd_min"
   ]
  },
  {
   "cell_type": "markdown",
   "metadata": {},
   "source": [
    "## 2. Calculate the ground run distance, $ S_A $, assuming that the acceleration is not constant.\n",
    "\n",
    "$ \\large S_A = \\frac{1}{2 \\cdot g \\cdot e} \\cdot \\ln{\\frac{d}{d - e \\cdot {TAS}_{LOF}^2}} $\n",
    "\n",
    "where\n",
    "\n",
    "$ d = \\frac{T}{W} - \\mu $\n",
    "\n",
    "and where\n",
    "\n",
    "$ e = \\frac{\\rho \\cdot S}{2 \\cdot W} \\cdot (C_D - \\mu \\cdot C_L) $"
   ]
  },
  {
   "cell_type": "code",
   "execution_count": 6,
   "metadata": {},
   "outputs": [
    {
     "data": {
      "text/plain": [
       "(4.373397027262478e-06, 0.2132167573844485)"
      ]
     },
     "execution_count": 6,
     "metadata": {},
     "output_type": "execute_result"
    }
   ],
   "source": [
    "aero_factor = (density * surface) / (2 * weight) * (cd_min - mu * cl_min)\n",
    "d_factor = (thrust / weight) - mu\n",
    "\n",
    "aero_factor, d_factor"
   ]
  },
  {
   "cell_type": "code",
   "execution_count": 8,
   "metadata": {},
   "outputs": [],
   "source": [
    "v_stall = qty.Velocity(math.sqrt((2 * weight) / (density * cl_max * surface)))\n",
    "v_lof = v_stall_to_lof * v_stall"
   ]
  },
  {
   "cell_type": "code",
   "execution_count": 12,
   "metadata": {},
   "outputs": [
    {
     "name": "stdout",
     "output_type": "stream",
     "text": [
      "1681.00 meters\n"
     ]
    }
   ],
   "source": [
    "ground_run = qty.Distance(1 / (2 * 9.81 * aero_factor) * math.log(d_factor / (d_factor - aero_factor * v_lof**2)))\n",
    "\n",
    "print(ground_run)"
   ]
  }
 ],
 "metadata": {
  "kernelspec": {
   "display_name": "venv",
   "language": "python",
   "name": "python3"
  },
  "language_info": {
   "codemirror_mode": {
    "name": "ipython",
    "version": 3
   },
   "file_extension": ".py",
   "mimetype": "text/x-python",
   "name": "python",
   "nbconvert_exporter": "python",
   "pygments_lexer": "ipython3",
   "version": "3.11.5"
  }
 },
 "nbformat": 4,
 "nbformat_minor": 2
}
