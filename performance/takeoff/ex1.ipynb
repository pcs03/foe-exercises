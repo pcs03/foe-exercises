{
 "cells": [
  {
   "cell_type": "code",
   "execution_count": 2,
   "metadata": {},
   "outputs": [],
   "source": [
    "from avipy import qty\n",
    "import math"
   ]
  },
  {
   "cell_type": "code",
   "execution_count": 3,
   "metadata": {},
   "outputs": [],
   "source": [
    "mass = qty.Mass(24465)\n",
    "weight = qty.Force.Kg(mass)\n",
    "thrust = qty.Force(50000)\n",
    "surface = qty.Area(75)\n",
    "wingspan = qty.Distance(31.67)\n",
    "oswald = 0.7\n",
    "cd_0 = 0.06\n",
    "k_const = 0.034\n",
    "cl_max = 2.1\n",
    "v_stall_to_lof = 1.2\n",
    "mu = 0.03\n",
    "density = 1.2255"
   ]
  },
  {
   "cell_type": "code",
   "execution_count": 4,
   "metadata": {},
   "outputs": [
    {
     "name": "stdout",
     "output_type": "stream",
     "text": [
      "49.87 m/s 59.84 m/s\n"
     ]
    }
   ],
   "source": [
    "v_stall = qty.Velocity(math.sqrt((2 * weight) / (density * surface * cl_max)))\n",
    "v_lof = qty.Velocity(v_stall * v_stall_to_lof)\n",
    "\n",
    "print(v_stall, v_lof)"
   ]
  },
  {
   "cell_type": "markdown",
   "metadata": {},
   "source": [
    "Optimal $ C_L $ value for ground run:\\\n",
    "$ \\large C_L = \\frac{1}{2} \\cdot \\mu \\cdot \\pi \\cdot AR \\cdot e = \\frac{1}{2} \\cdot \\mu \\cdot \\frac{1}{k} $"
   ]
  },
  {
   "cell_type": "code",
   "execution_count": 5,
   "metadata": {},
   "outputs": [
    {
     "name": "stdout",
     "output_type": "stream",
     "text": [
      "0.4411764705882353 0.06661764705882353\n"
     ]
    }
   ],
   "source": [
    "cl_min = 0.5 * mu * (1 / k_const)\n",
    "cd_min = cd_0 + k_const * cl_min**2\n",
    "\n",
    "print(cl_min, cd_min)"
   ]
  },
  {
   "cell_type": "markdown",
   "metadata": {},
   "source": [
    "The average acceleration during the ground run is obtained by:\\\n",
    "\\\n",
    "$ \\large a_{avg} = g \\cdot \\left[\\Large \\frac{T}{W} - \\mu - \\frac{\\rho \\cdot {TAS}_{LOF}^2 \\cdot S}{4 \\cdot W} \\cdot (C_D - \\mu \\cdot C_L)  \\right] $"
   ]
  },
  {
   "cell_type": "code",
   "execution_count": 6,
   "metadata": {},
   "outputs": [
    {
     "data": {
      "text/plain": [
       "1.5698882182229115"
      ]
     },
     "execution_count": 6,
     "metadata": {},
     "output_type": "execute_result"
    }
   ],
   "source": [
    "accel_avg = 9.81 * ((thrust / weight) - mu - (density * v_lof**2 * surface) / (4 * weight) * (cd_min - mu * cl_min))\n",
    "\n",
    "accel_avg"
   ]
  },
  {
   "cell_type": "markdown",
   "metadata": {},
   "source": [
    "The ground run is obtained by:\\\n",
    "\\\n",
    "$ \\large S_A = \\frac{{TAS}_{LOF}^2}{2 \\cdot a_{avg}} $ "
   ]
  },
  {
   "cell_type": "code",
   "execution_count": 7,
   "metadata": {},
   "outputs": [
    {
     "name": "stdout",
     "output_type": "stream",
     "text": [
      "1140.55 meters\n"
     ]
    }
   ],
   "source": [
    "ground_run = qty.Distance((v_lof**2 / (2 * accel_avg)))\n",
    "\n",
    "print(ground_run)"
   ]
  },
  {
   "cell_type": "markdown",
   "metadata": {},
   "source": [
    "At top of air run arc:\n",
    "\n",
    "$ T = D + \\sin{\\gamma_C} \\rightarrow \\sin{\\gamma_C} = \\frac{T - D}{W} $\\\n",
    "$ D = \\frac{1}{2} \\cdot \\rho \\cdot v^2 \\cdot S \\cdot C_D $\\\n",
    "$ C_L = \\frac{2 \\cdot W}{\\rho \\cdot v^2 \\cdot S} $"
   ]
  },
  {
   "cell_type": "code",
   "execution_count": 11,
   "metadata": {},
   "outputs": [
    {
     "data": {
      "text/plain": [
       "(1.4583333333333337, 0.1323090277777778)"
      ]
     },
     "execution_count": 11,
     "metadata": {},
     "output_type": "execute_result"
    }
   ],
   "source": [
    "cl_arc = (2 * weight) / (density * v_lof**2 * surface)\n",
    "cd_arc = cd_0 + k_const * cl_arc**2\n",
    "\n",
    "cl_arc, cd_arc"
   ]
  },
  {
   "cell_type": "code",
   "execution_count": 13,
   "metadata": {},
   "outputs": [
    {
     "name": "stdout",
     "output_type": "stream",
     "text": [
      "21774.44 Newtons\n"
     ]
    }
   ],
   "source": [
    "drag_arc = qty.Force(0.5 * density * v_lof**2 * surface * cd_arc)\n",
    "\n",
    "print(drag_arc)"
   ]
  },
  {
   "cell_type": "code",
   "execution_count": 15,
   "metadata": {},
   "outputs": [
    {
     "data": {
      "text/plain": [
       "6.753941389162926"
      ]
     },
     "execution_count": 15,
     "metadata": {},
     "output_type": "execute_result"
    }
   ],
   "source": [
    "fpa_top = math.asin((thrust - drag_arc) / weight)\n",
    "\n",
    "math.degrees(fpa_top)"
   ]
  },
  {
   "cell_type": "markdown",
   "metadata": {},
   "source": [
    "Top of the arc, $ h_b = 50 m $\n",
    "\n",
    "$ h_b = r \\cdot (1 - \\cos{\\gamma_C}) $"
   ]
  },
  {
   "cell_type": "code",
   "execution_count": 16,
   "metadata": {},
   "outputs": [
    {
     "data": {
      "text/plain": [
       "7204.994229804705"
      ]
     },
     "execution_count": 16,
     "metadata": {},
     "output_type": "execute_result"
    }
   ],
   "source": [
    "arc_height = qty.Distance(50)\n",
    "\n",
    "arc_radius = arc_height / (1 - math.cos(fpa_top))\n",
    "\n",
    "arc_radius"
   ]
  },
  {
   "cell_type": "markdown",
   "metadata": {},
   "source": [
    "Arc distance is obtained by \n",
    "\n",
    "$ S_B = r \\cdot \\sin{\\gamma_C} $"
   ]
  },
  {
   "cell_type": "markdown",
   "metadata": {},
   "source": [
    "Flight path angle at 35 feet:\n",
    "\n",
    "$ \\large \\cos{\\gamma_C} = 1 - \\frac{h_b}{r} $"
   ]
  },
  {
   "cell_type": "code",
   "execution_count": 21,
   "metadata": {},
   "outputs": [
    {
     "data": {
      "text/plain": [
       "3.1182857908966493"
      ]
     },
     "execution_count": 21,
     "metadata": {},
     "output_type": "execute_result"
    }
   ],
   "source": [
    "fpa_c = math.acos(1 - (qty.Distance.Ft(35) / arc_radius))\n",
    "\n",
    "math.degrees(fpa_c)"
   ]
  },
  {
   "cell_type": "code",
   "execution_count": 22,
   "metadata": {},
   "outputs": [
    {
     "name": "stdout",
     "output_type": "stream",
     "text": [
      "391.93 meters\n"
     ]
    }
   ],
   "source": [
    "arc_distance = qty.Distance(arc_radius * math.sin(fpa_c))\n",
    "\n",
    "print(arc_distance)"
   ]
  }
 ],
 "metadata": {
  "kernelspec": {
   "display_name": "venv",
   "language": "python",
   "name": "python3"
  },
  "language_info": {
   "codemirror_mode": {
    "name": "ipython",
    "version": 3
   },
   "file_extension": ".py",
   "mimetype": "text/x-python",
   "name": "python",
   "nbconvert_exporter": "python",
   "pygments_lexer": "ipython3",
   "version": "3.11.5"
  }
 },
 "nbformat": 4,
 "nbformat_minor": 2
}
