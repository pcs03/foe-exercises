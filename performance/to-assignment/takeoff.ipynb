{
 "cells": [
  {
   "cell_type": "code",
   "execution_count": 1,
   "metadata": {},
   "outputs": [],
   "source": [
    "from avipy import qty\n",
    "import math"
   ]
  },
  {
   "cell_type": "markdown",
   "metadata": {},
   "source": [
    "# Individual assignment on Takeoff Weight Limitations\n",
    "\n",
    "Make a TL (take-off weight limitation) table for a B777-300ER  commercial aircraft for Hong Kong's Chek Lap Kok International Airport runway 25C with the environmental condition of 17 degrees Celsius and no wind. The B777-300ER has two certified take-off flap settings of 5 and 15, 15 degrees will be used for the calculations. The aircraft is equipped with GE90-115B engines that deliver a thrust of 104,500 lbs per engine at sea level. The engine is flat rated up to ISA+15ºC. Above ISA+15° the thrust decreases by 0.4% per degree. Explain and make a conclusion of your results!\n",
    "\n",
    "## Runway\n",
    "- ASDA and TODA are 2900 m\n",
    "- Elevation 0 ft\n",
    "- No runway slope\n",
    "- Obstacle 1600 m after end of the runway at 103 ft\n",
    "- Coefficient of friction, $ \\mu = 0.027 $\n",
    "\n",
    "## Aircraft\n",
    "- MTOW, $ m = 351534 kg $\n",
    "- wingspan, $ b = 64.8 m $\n",
    "- wing area, $ S = 436.8 m^2 $\n",
    "- oswald factor, $ e = 0.77 $\n",
    "- drag coefficient at flap 15, $ C_{D_0} = 0.068 $\n",
    "- Stall speed, $ v_{stall} = 154.5 kts $\n",
    "- $ v_2 = 1.18 \\cdot v_stall $\n",
    "- $ v_{lof} = 1.15 v_stall $\n",
    "- Coefficient of friction with full brakes, $ \\mu = 0.56 $\n",
    "\n",
    "## Assumptions\n",
    "- During climb to 1500 ft, air pressure remains constant to ISA at sea level.\n",
    "- Engine thrust is constant during takeoff.\n",
    "- N-1 situation arises at lift-off.\n",
    "- For ASDR, no need to consider pilot's reaction time => $ v_1 == v_{lof} $.\n",
    "- At $ v_{lof} $, the ground run instantly changes into the take-off arc."
   ]
  },
  {
   "cell_type": "code",
   "execution_count": 7,
   "metadata": {},
   "outputs": [],
   "source": [
    "toda = qty.Distance(2900)\n",
    "mu = 0.027\n",
    "mu_brake = 0.56\n",
    "\n",
    "mass = qty.Mass(351534)\n",
    "density = 1.225\n",
    "weight = qty.Force.Kg(mass)\n",
    "wingspan = qty.Distance(64.8)\n",
    "surface = qty.Area(436.8)\n",
    "oswald = 0.77\n",
    "cd_0 = 0.068\n",
    "v_stall = qty.Velocity.Kts(154.5)\n",
    "v2 = 1.18 * v_stall\n",
    "v_lof = 1.15 * v_stall"
   ]
  },
  {
   "cell_type": "markdown",
   "metadata": {},
   "source": [
    "First, let's calculate some constants that will be needed for future calculations.\n",
    "\n",
    "$ \\large AR = \\frac{b^2}{S} $\\\n",
    "$ \\large k = \\frac{1}{\\pi \\cdot AR \\cdot e} $\\\n",
    "$ \\large C_{L_{max}} = \\frac{2 \\cdot W}{\\rho \\cdot v^2 \\cdot S} $"
   ]
  },
  {
   "cell_type": "code",
   "execution_count": 10,
   "metadata": {},
   "outputs": [
    {
     "data": {
      "text/plain": [
       "2.040392365814357"
      ]
     },
     "execution_count": 10,
     "metadata": {},
     "output_type": "execute_result"
    }
   ],
   "source": [
    "aspect_ratio = wingspan**2 / surface\n",
    "k_const = 1 / (math.pi * aspect_ratio * oswald)\n",
    "\n",
    "cl_max = (2 * weight) / (density * v_stall**2 * surface)\n",
    "\n",
    "cl_max"
   ]
  }
 ],
 "metadata": {
  "kernelspec": {
   "display_name": "venv",
   "language": "python",
   "name": "python3"
  },
  "language_info": {
   "codemirror_mode": {
    "name": "ipython",
    "version": 3
   },
   "file_extension": ".py",
   "mimetype": "text/x-python",
   "name": "python",
   "nbconvert_exporter": "python",
   "pygments_lexer": "ipython3",
   "version": "3.11.5"
  }
 },
 "nbformat": 4,
 "nbformat_minor": 2
}
