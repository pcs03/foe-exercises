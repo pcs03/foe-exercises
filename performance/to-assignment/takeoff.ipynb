{
 "cells": [
  {
   "cell_type": "code",
   "execution_count": 186,
   "metadata": {},
   "outputs": [],
   "source": [
    "from avipy import qty, atmosphere as atm\n",
    "import math"
   ]
  },
  {
   "cell_type": "markdown",
   "metadata": {},
   "source": [
    "# Individual assignment on Takeoff Weight Limitations\n",
    "\n",
    "Make a TL (take-off weight limitation) table for a B777-300ER  commercial aircraft for Hong Kong's Chek Lap Kok International Airport runway 25C with the environmental condition of 17 degrees Celsius and no wind. The B777-300ER has two certified take-off flap settings of 5 and 15, 15 degrees will be used for the calculations. The aircraft is equipped with GE90-115B engines that deliver a thrust of 104,500 lbs per engine at sea level. The engine is flat rated up to ISA+15ºC. Above ISA+15° the thrust decreases by 0.4% per degree. Explain and make a conclusion of your results!\n",
    "\n",
    "## Runway\n",
    "- ASDA and TODA are 2900 m\n",
    "- Elevation 0 ft\n",
    "- No runway slope\n",
    "- Obstacle 1600 m after end of the runway at 103 ft\n",
    "- Coefficient of friction, $ \\mu = 0.027 $\n",
    "\n",
    "## Aircraft\n",
    "- MTOW, $ m = 351534 kg $\n",
    "- wingspan, $ b = 64.8 m $\n",
    "- wing area, $ S = 436.8 m^2 $\n",
    "- oswald factor, $ e = 0.77 $\n",
    "- drag coefficient at flap 15, $ C_{D_0} = 0.068 $\n",
    "- Stall speed at MTOW with flaps 15, $ v_{stall} = 154.5 kts $\n",
    "- $ v_2 = 1.18 \\cdot v_{stall} $\n",
    "- $ v_{lof} = 1.15 v_{stall} $\n",
    "- Coefficient of friction with full brakes, $ \\mu = 0.56 $\n",
    "\n",
    "## Assumptions\n",
    "- During climb to 1500 ft, air pressure remains constant to ISA at sea level.\n",
    "- Engine thrust is constant during takeoff.\n",
    "- N-1 situation arises at lift-off.\n",
    "- For ASDR, no need to consider pilot's reaction time => $ v_1 == v_{lof} $.\n",
    "- At $ v_{lof} $, the ground run instantly changes into the take-off arc."
   ]
  },
  {
   "cell_type": "code",
   "execution_count": 187,
   "metadata": {},
   "outputs": [],
   "source": [
    "toda = qty.Distance(2900)\n",
    "asda = qty.Distance(2900)\n",
    "height_b = qty.Distance.Ft(35)\n",
    "mu = 0.027\n",
    "mu_brake = 0.56\n",
    "temp = qty.Temperature.Celsius(17)\n",
    "pressure = qty.Pressure.Hpa(1013.25)\n",
    "obstacle_distance = qty.Distance(1600)\n",
    "obstacle_height = qty.Distance.Ft(103)\n",
    "\n",
    "mtom = qty.Mass(351534)\n",
    "mtow = qty.Force.Kg(mtom)\n",
    "wingspan = qty.Distance(64.8)\n",
    "surface = qty.Area(436.8)\n",
    "oswald = 0.77\n",
    "cd_0 = 0.068\n",
    "v_stall_mtow = qty.Velocity.Kts(154)\n",
    "\n",
    "v_stall_to_lof = 1.15\n",
    "v_stall_to_v2 = 1.18\n",
    "\n",
    "stall_speeds: list[tuple[qty.Mass, qty.Velocity]] = [\n",
    "    (mtom, v_stall_mtow),\n",
    "    (qty.Mass.M_ton(350), qty.Velocity.Kts(153.5)),\n",
    "    (qty.Mass.M_ton(345), qty.Velocity.Kts(151.5)),\n",
    "    (qty.Mass.M_ton(340), qty.Velocity.Kts(149)),\n",
    "    (qty.Mass.M_ton(335), qty.Velocity.Kts(147)),\n",
    "    (qty.Mass.M_ton(330), qty.Velocity.Kts(145)),\n",
    "    (qty.Mass.M_ton(325), qty.Velocity.Kts(142.5)),\n",
    "    (qty.Mass.M_ton(320), qty.Velocity.Kts(140)),\n",
    "    (qty.Mass.M_ton(315), qty.Velocity.Kts(137.5)),\n",
    "    (qty.Mass.M_ton(310), qty.Velocity.Kts(135)),\n",
    "    (qty.Mass.M_ton(305), qty.Velocity.Kts(132.5)),\n",
    "    (qty.Mass.M_ton(300), qty.Velocity.Kts(130)),\n",
    "    (qty.Mass.M_ton(295), qty.Velocity.Kts(127)),\n",
    "    (qty.Mass.M_ton(290), qty.Velocity.Kts(124.5)),\n",
    "    (qty.Mass.M_ton(285), qty.Velocity.Kts(121.5)),\n",
    "    (qty.Mass.M_ton(280), qty.Velocity.Kts(118.5)),\n",
    "    (qty.Mass.M_ton(275), qty.Velocity.Kts(115.5)),\n",
    "    (qty.Mass.M_ton(270), qty.Velocity.Kts(112.5)),\n",
    "    (qty.Mass.M_ton(265), qty.Velocity.Kts(109)),\n",
    "    (qty.Mass.M_ton(260), qty.Velocity.Kts(103)),\n",
    "]\n"
   ]
  },
  {
   "cell_type": "markdown",
   "metadata": {},
   "source": [
    "## Constants\n",
    "Before any distance is calculated, some constant values for this scenario will be calculated.\n",
    "\n",
    "#### 1. Density with the given temperature and constant ISA pressure\n",
    "$ \\large \\rho = \\frac{P}{R \\cdot T} $\n",
    "\n",
    "#### 2. Thrust for one engine and with both\n",
    "The engines are flat-rated up to $ ISA+15 \\degree C $, since the temperature in this scenario is $ 17 \\degree C $, the thrust does not decrease. The thrust values in LBS are converted to Newton using the qty module.\n",
    "\n",
    "#### 3. Aspect ratio and $ C_{L_{max}} $\n",
    "\n",
    "$ \\large AR = \\frac{b^2}{S} $\n",
    "\n",
    "The $ C_{L_{max}} $ can be obtained using the lift equation with the MTOW and stall speed at MTOW:\n",
    "\n",
    "$ \\large C_{L_{max}} = \\frac{2 \\cdot W}{\\rho \\cdot v_{stall}^2 \\cdot S} $\n"
   ]
  },
  {
   "cell_type": "code",
   "execution_count": 188,
   "metadata": {},
   "outputs": [
    {
     "data": {
      "text/plain": [
       "2.0675363973645564"
      ]
     },
     "execution_count": 188,
     "metadata": {},
     "output_type": "execute_result"
    }
   ],
   "source": [
    "# 1. Density\n",
    "density = pressure / (287 * temp)\n",
    "\n",
    "# 2. Thrust\n",
    "thrust_per_engine = qty.Force.Kg(qty.Mass.Lbs(104500))\n",
    "thrust = qty.Force(thrust_per_engine * 2)\n",
    "\n",
    "# 3. Aspect ratio and CL_max\n",
    "aspect_ratio = wingspan**2 / surface\n",
    "cl_max = (2 * mtow) / (density * surface * v_stall_mtow**2)\n",
    "\n",
    "cl_max"
   ]
  },
  {
   "cell_type": "markdown",
   "metadata": {},
   "source": [
    "## Takeoff Ground Run\n",
    "To calculate the take-off run distance, assuming the acceleration is not constant, three steps are taken:\n",
    "\n",
    "#### 1. Calculate the optimal values of $ C_L $ and $ C_D $ for the minimum run distance\n",
    "\n",
    "$ C_L = \\frac{1}{2} \\cdot \\mu \\cdot \\pi \\cdot AR \\cdot e $\n",
    "\n",
    "$ C_D = C_{D_0} + \\frac{C_L^2}{\\pi \\cdot AR \\cdot e} $\n",
    "\n",
    "#### 2. Calculate the aerodynamic factor and d factor needed in the ground run equation\n",
    "\n",
    "$ e = \\frac{\\rho \\cdot S}{2 \\cdot W} \\cdot (C_D - \\mu \\cdot C_L) $\n",
    "\n",
    "$ d = \\frac{T}{W} - \\mu $\n",
    "\n",
    "#### 3. Calculate the ground run distance provided the acceleration is not constant\n",
    "\n",
    "$ \\large S_A = \\frac{1}{2 \\cdot g \\cdot e} \\cdot \\ln{\\frac{d}{d - e \\cdot v_{LOF}^2}} $"
   ]
  },
  {
   "cell_type": "code",
   "execution_count": 189,
   "metadata": {},
   "outputs": [],
   "source": [
    "def get_gnd_run(weight: qty.Force, v_stall: qty.Velocity) -> qty.Distance:\n",
    "    # 1. Get the optimal C_L and C_D values\n",
    "    cl_run = 0.5 * mu * math.pi * aspect_ratio * oswald\n",
    "    cd_run = cd_0 + cl_run**2 / (math.pi * aspect_ratio * oswald)\n",
    "    \n",
    "    # 2. Calculate aero-factor and d-factor\n",
    "    aero_factor = (density * surface) / (2 * weight) * (cd_run - mu * cl_run)\n",
    "    d_factor = thrust / weight - mu\n",
    "\n",
    "    # 3. Get the ground run distance\n",
    "    v_lof = v_stall_to_lof * v_stall\n",
    "    \n",
    "    ground_run = 1 / (2 * 9.81 * aero_factor) * math.log(d_factor / (d_factor - aero_factor * v_lof**2))\n",
    "\n",
    "    # Return the ground run as a distance for the given weight and stall speed\n",
    "    return qty.Distance(ground_run)"
   ]
  },
  {
   "cell_type": "markdown",
   "metadata": {},
   "source": [
    "## Takeoff Air Run\n",
    "\n",
    "At lift-off speed, an N - 1 situation arises. Which means the available thrust will be that of one engine. This value will be used in the following calculations.\n",
    "\n",
    "The takeoff arc distance is calculated in multiple steps:\n",
    "\n",
    "#### 1. Calculate the $ C_L $ and C_D $ at point C\n",
    "At point C, the end of the arc, the aircraft assumes a climb with the optimal configuration for climb gradient. In this configuration $\\frac{C_L}{C_D} $ is maximum. \n",
    "\n",
    "The $ C_D $ in this configuration is obtained by:\n",
    "\n",
    "$ C_{D_C} = 2 \\cdot C_{D_0} $\n",
    "\n",
    "and $ C_L $ is obtained by:\n",
    "\n",
    "$ C_{L_C} = (C_{D_C} - C_{D_0}) \\cdot \\pi \\cdot AR \\cdot e $\n",
    "\n",
    "#### 2. Calculate the drag at point C\n",
    "\n",
    "The drag is obtained by\n",
    "\n",
    "$ D_C = W \\cdot \\frac{C_{D_C}}{C_{L_C}} $\n",
    "\n",
    "#### 3. Calculate the climb gradient at point C\n",
    "\n",
    "While in the given configuration, the climb gradient is obtained by:\n",
    "\n",
    "$ \\sin{\\gamma_C} = \\frac{T - D}{W} $\n",
    "\n",
    "#### 4. Calculate the lift and drag coefficients at liftoff\n",
    "\n",
    "By equalling the lift at stall speed and the lift at take-off speed, it is found that:\n",
    "\n",
    "$ \\large C_{L_{LOF}} = \\frac{C_{L_{max}}}{ratio^2} $\n",
    "\n",
    "where $ ratio $ is equal to the ratio between the liftoff speed and the stall speed, 1.15 in this scenario. Then the drag coefficient is obtained using\n",
    "\n",
    "$ \\large C_{D_{LOF}} = C_{D_0} + \\frac{C{L_{LOF}}^2}{\\pi \\cdot AR \\cdot e} $\n",
    "\n",
    "#### 5. Calculate the average drag during the takeoff arc\n",
    "The drag at liftoff is obtained using the drag equation\n",
    "\n",
    "$ D_{LOF} = \\frac{1}{2} \\cdot \\rho \\cdot v_{LOF}^2 \\cdot S \\cdot C_{D_{LOF}} $\n",
    "\n",
    "Then the average drag is obtained by\n",
    "\n",
    "$ D_{avg} = \\frac{D_{LOF} + D_C}{2} $\n",
    "\n",
    "#### 6. Calculate the air run distance\n",
    "\n",
    "All known values can now be substituted into the energy equation to solve for the air run distance:\n",
    "\n",
    "$ \\large \\frac{W}{2 \\cdot g} \\cdot (v_C^2 - v_{LOF}^2) = (T - D_{avg}) \\cdot S_B - W \\cdot h_B $\n",
    "\n",
    "This becomes\n",
    "\n",
    "$ \\LARGE S_B = \\frac{\\frac{W}{2 \\cdot g} \\cdot (v_C^2 - v_{LOF}^2) + W \\cdot h_B}{T - D_{avg}} $\n"
   ]
  },
  {
   "cell_type": "code",
   "execution_count": 190,
   "metadata": {},
   "outputs": [],
   "source": [
    "def get_air_run(weight: qty.Force, v_stall: qty.Velocity) -> tuple[qty.Distance, float]:\n",
    "    # 1. Get C_L and C_D at point C\n",
    "    cd_c = cd_0 * 2\n",
    "    cl_c = (cd_c - cd_0) * math.pi * aspect_ratio * oswald\n",
    "    \n",
    "    # 2. Calculate the drag at point C\n",
    "    drag_c = weight * (cd_c / cl_c)\n",
    "    \n",
    "    # 3. Calculate the climb gradient at point C\n",
    "    gradient_c = math.asin((thrust_per_engine - drag_c) / weight)\n",
    "    \n",
    "    # 4. Calculate the lift coefficent at liftoff\n",
    "    cl_lof = cl_max / v_stall_to_lof**2\n",
    "    cd_lof = cd_0 + cl_lof**2 / (math.pi * aspect_ratio * oswald)\n",
    "\n",
    "    # 5. Calculate the average drag in the takeoff arc\n",
    "    v_lof = v_stall * v_stall_to_lof\n",
    "    drag_lof = 0.5 * density * v_lof**2 * surface * cd_lof\n",
    "    drag_avg = (drag_lof + drag_c) / 2\n",
    "\n",
    "    # 6. Calculate the air run distance\n",
    "    v_c = v_stall * v_stall_to_v2\n",
    "    air_run = (weight / (2 * 9.81) * (v_c**2 - v_lof**2) + weight * height_b) / (thrust_per_engine - drag_avg)\n",
    "\n",
    "    # Return the air run distance for the given weight and stall speed\n",
    "    return qty.Distance(air_run), gradient_c"
   ]
  },
  {
   "cell_type": "markdown",
   "metadata": {},
   "source": [
    "## Obstacle Clearance\n",
    "\n",
    "Obstacle 1600 m at 103 ft. After takeoff arc, aircraft climbs with optimal climb gradient $ \\gamma_C $. This gives:\n",
    "\n",
    "$ \\tan{\\gamma_C} = \\frac{hor}{ver} \\rightarrow ver = hor \\cdot \\tan{\\gamma_C}$"
   ]
  },
  {
   "cell_type": "code",
   "execution_count": 191,
   "metadata": {},
   "outputs": [],
   "source": [
    "def get_obstacle_clearance(residual_rwy_dist: qty.Distance, gradient_c: float) -> qty.Distance:\n",
    "    height_at_obstacle = (obstacle_distance + residual_rwy_dist) * math.tan(gradient_c)\n",
    "    return qty.Distance(height_at_obstacle - obstacle_height)"
   ]
  },
  {
   "cell_type": "markdown",
   "metadata": {},
   "source": [
    "## Stop distance at $ V_1 $\n"
   ]
  },
  {
   "cell_type": "code",
   "execution_count": 192,
   "metadata": {},
   "outputs": [],
   "source": [
    "def get_stop_dist(weight, v_stall):\n",
    "    cl_run = cl_max / v_stall_to_lof**2\n",
    "    cd_run = cd_0 + cl_run**2 / (math.pi * aspect_ratio * oswald)\n",
    "\n",
    "    aero_factor = (density * surface) / (2 * weight)  * (cd_run - mu_brake * cl_run)\n",
    "    d_factor = - mu_brake\n",
    "    \n",
    "    v_lof = v_stall * v_stall_to_lof\n",
    "    stop_dist = 1 / (2 * 9.81 * aero_factor) * math.log((d_factor - aero_factor * v_lof**2) / d_factor)\n",
    "\n",
    "    return qty.Distance(stop_dist)"
   ]
  },
  {
   "cell_type": "code",
   "execution_count": 193,
   "metadata": {},
   "outputs": [
    {
     "name": "stdout",
     "output_type": "stream",
     "text": [
      "2814.21 meters 1526.36 meters 51.03 meters 3435.02 meters\n"
     ]
    }
   ],
   "source": [
    "ground_run = get_gnd_run(mtow, v_stall_mtow)\n",
    "air_run, gradient_c = get_air_run(mtow, v_stall_mtow)\n",
    "\n",
    "takeoff_dist = qty.Distance(ground_run + air_run)\n",
    "\n",
    "residual_rwy_dist = qty.Distance(toda - takeoff_dist)\n",
    "\n",
    "obstacle_clearance = get_obstacle_clearance(residual_rwy_dist, gradient_c)\n",
    "\n",
    "stop_dist = get_stop_dist(mtow, v_stall_mtow)\n",
    "asd = qty.Distance(ground_run + stop_dist)\n",
    "\n",
    "print(takeoff_dist, stop_dist, obstacle_clearance, asd)"
   ]
  },
  {
   "cell_type": "code",
   "execution_count": 194,
   "metadata": {},
   "outputs": [
    {
     "name": "stdout",
     "output_type": "stream",
     "text": [
      "351534.00 kilograms 2814.21 meters 3435.02 meters 51.03 meters\n",
      "350000.00 kilograms 2770.20 meters 3397.45 meters 54.21 meters\n",
      "345000.00 kilograms 2614.95 meters 3250.46 meters 65.60 meters\n",
      "340000.00 kilograms 2448.45 meters 3075.27 meters 78.33 meters\n",
      "335000.00 kilograms 2315.13 meters 2941.29 meters 90.03 meters\n",
      "330000.00 kilograms 2190.14 meters 2812.49 meters 101.95 meters\n",
      "325000.00 kilograms 2054.71 meters 2659.52 meters 115.20 meters\n",
      "320000.00 kilograms 1928.32 meters 2514.25 meters 128.67 meters\n",
      "315000.00 kilograms 1810.06 meters 2376.16 meters 142.40 meters\n",
      "310000.00 kilograms 1699.13 meters 2244.80 meters 156.40 meters\n",
      "305000.00 kilograms 1594.89 meters 2119.76 meters 170.73 meters\n",
      "300000.00 kilograms 1496.77 meters 2000.68 meters 185.39 meters\n",
      "295000.00 kilograms 1392.23 meters 1866.86 meters 201.33 meters\n",
      "290000.00 kilograms 1305.69 meters 1759.82 meters 216.73 meters\n",
      "285000.00 kilograms 1213.30 meters 1639.69 meters 233.42 meters\n",
      "280000.00 kilograms 1126.68 meters 1526.37 meters 250.52 meters\n",
      "275000.00 kilograms 1045.42 meters 1419.44 meters 268.06 meters\n",
      "270000.00 kilograms 969.16 meters 1318.53 meters 286.08 meters\n",
      "265000.00 kilograms 889.36 meters 1209.38 meters 305.36 meters\n",
      "260000.00 kilograms 777.43 meters 1044.59 meters 328.78 meters\n"
     ]
    }
   ],
   "source": [
    "for mass, v_stall in stall_speeds:\n",
    "    weight = qty.Force.Kg(mass)\n",
    "    ground_run = get_gnd_run(weight, v_stall)\n",
    "    air_run, gradient_c = get_air_run(weight, v_stall)\n",
    "    \n",
    "    takeoff_dist = qty.Distance(ground_run + air_run)\n",
    "    \n",
    "    residual_rwy_dist = qty.Distance(toda - takeoff_dist)\n",
    "    \n",
    "    obstacle_clearance = get_obstacle_clearance(residual_rwy_dist, gradient_c)\n",
    "    \n",
    "    stop_dist = get_stop_dist(weight, v_stall)\n",
    "    accel_stop_dist = qty.Distance(ground_run + stop_dist)\n",
    "    \n",
    "    print(mass, takeoff_dist, accel_stop_dist, obstacle_clearance)"
   ]
  }
 ],
 "metadata": {
  "kernelspec": {
   "display_name": "venv",
   "language": "python",
   "name": "python3"
  },
  "language_info": {
   "codemirror_mode": {
    "name": "ipython",
    "version": 3
   },
   "file_extension": ".py",
   "mimetype": "text/x-python",
   "name": "python",
   "nbconvert_exporter": "python",
   "pygments_lexer": "ipython3",
   "version": "3.11.5"
  }
 },
 "nbformat": 4,
 "nbformat_minor": 2
}
