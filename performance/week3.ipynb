{
 "cells": [
  {
   "cell_type": "markdown",
   "metadata": {},
   "source": [
    "### Ex 5\n",
    "\n",
    "1. Calc min speed ( stall )\n",
    "2. Energy method for flare part (S_B) -> calc excess thrust\n",
    "3. Ground run - analytical method (su = 1 / 2ge * 3 - e tas 2L / d)\n",
    "4. calc e seperate (e i often small or negative)\n",
    "5. stotal = SB + SU = 660.62 + 568.943 = 1229.563"
   ]
  },
  {
   "cell_type": "markdown",
   "metadata": {},
   "source": [
    "### Ex 3\n"
   ]
  },
  {
   "cell_type": "markdown",
   "metadata": {},
   "source": [
    "### Ex 4\n"
   ]
  },
  {
   "cell_type": "code",
   "execution_count": 3,
   "metadata": {},
   "outputs": [],
   "source": [
    "import qty\n",
    "import math\n",
    "import atmosphere"
   ]
  },
  {
   "cell_type": "code",
   "execution_count": 4,
   "metadata": {},
   "outputs": [
    {
     "name": "stdout",
     "output_type": "stream",
     "text": [
      "1.1862462425813214\n"
     ]
    }
   ],
   "source": [
    "# Boeing 777-300ER\n",
    "\n",
    "elevation = qty.Distance.Ft(1100)\n",
    "mass = qty.Mass.M_ton(245.3)\n",
    "surface = qty.Area(436.8)\n",
    "bo_speed = qty.Velocity.Kts(129)\n",
    "mu = 0.45\n",
    "cl = 0.115\n",
    "cd = 0.2058\n",
    "\n",
    "thrust_table = {\n",
    "    \"tas\": [130, 120, 120, 100, 80, 60, 40, 20, 0],\n",
    "    \"lbf\": [3096, 3466, 3717, 4049, 4530, 5135, 6057, 7039, 7875]\n",
    "}\n",
    "\n",
    "density = atmosphere.get_density_at_height(elevation)\n",
    "\n",
    "print(density)"
   ]
  },
  {
   "cell_type": "code",
   "execution_count": 5,
   "metadata": {},
   "outputs": [
    {
     "name": "stdout",
     "output_type": "stream",
     "text": [
      "1.6585273242339106e-05\n"
     ]
    }
   ],
   "source": [
    "e_const = (density * surface) / (2 * mass * 9.81) * (cd - mu * cl)\n",
    "\n",
    "print(e_const)"
   ]
  },
  {
   "cell_type": "code",
   "execution_count": 7,
   "metadata": {},
   "outputs": [
    {
     "name": "stdout",
     "output_type": "stream",
     "text": [
      "462.2458930298145\n"
     ]
    }
   ],
   "source": [
    "ground_run = 1 / (2 * 9.81 * e_const) * math.log((-mu - e_const * (bo_speed * 1)**2) / (-mu))\n",
    "\n",
    "print(ground_run)"
   ]
  }
 ],
 "metadata": {
  "kernelspec": {
   "display_name": "venv",
   "language": "python",
   "name": "python3"
  },
  "language_info": {
   "codemirror_mode": {
    "name": "ipython",
    "version": 3
   },
   "file_extension": ".py",
   "mimetype": "text/x-python",
   "name": "python",
   "nbconvert_exporter": "python",
   "pygments_lexer": "ipython3",
   "version": "3.11.5"
  },
  "orig_nbformat": 4
 },
 "nbformat": 4,
 "nbformat_minor": 2
}
