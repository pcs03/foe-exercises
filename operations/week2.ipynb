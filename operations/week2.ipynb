{
 "cells": [
  {
   "cell_type": "code",
   "execution_count": 2,
   "metadata": {},
   "outputs": [],
   "source": [
    "import qty"
   ]
  },
  {
   "cell_type": "code",
   "execution_count": 15,
   "metadata": {},
   "outputs": [
    {
     "name": "stdout",
     "output_type": "stream",
     "text": [
      "124084000.0\n"
     ]
    }
   ],
   "source": [
    "distance = qty.Distance.N_mile(670)\n",
    "\n",
    "dow_weight = qty.Mass(42000)\n",
    "pax_weight = qty.Mass(100 * 120)\n"
   ]
  },
  {
   "cell_type": "code",
   "execution_count": 17,
   "metadata": {},
   "outputs": [
    {
     "name": "stdout",
     "output_type": "stream",
     "text": [
      "57990.00 kilograms\n",
      "18519645.40540189\n"
     ]
    }
   ],
   "source": [
    "trip_fuel = qty.Mass(3800)\n",
    "cont_fuel = trip_fuel * 0.05\n",
    "\n",
    "total_weight = qty.Mass(dow_weight + pax_weight + trip_fuel + cont_fuel)\n",
    "print(total_weight)\n",
    "\n",
    "lift = qty.Force(82379487)\n",
    "\n",
    "print(lift.lbf)"
   ]
  }
 ],
 "metadata": {
  "kernelspec": {
   "display_name": "venv",
   "language": "python",
   "name": "python3"
  },
  "language_info": {
   "codemirror_mode": {
    "name": "ipython",
    "version": 3
   },
   "file_extension": ".py",
   "mimetype": "text/x-python",
   "name": "python",
   "nbconvert_exporter": "python",
   "pygments_lexer": "ipython3",
   "version": "3.11.5"
  },
  "orig_nbformat": 4
 },
 "nbformat": 4,
 "nbformat_minor": 2
}
