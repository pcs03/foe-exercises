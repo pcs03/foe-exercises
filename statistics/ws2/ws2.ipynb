{
 "cells": [
  {
   "cell_type": "code",
   "execution_count": 105,
   "metadata": {},
   "outputs": [],
   "source": [
    "\"\"\"\n",
    "Created on Thu Sep 22 13:06:00 2022\n",
    "\n",
    "# Explorative Data Analysis Workship 1\n",
    "\n",
    "\n",
    "The instructions in this file assume that you are using Spyder by Anaconda. \n",
    "They might be different if you are using Juypler. For example: Jupyler prints\n",
    "all columns when you use the command df.head(). Syder just prints some columns, \n",
    "and it is desirable to use the Variable Explorer instead. \n",
    "\n",
    "\n",
    "# Objective:\n",
    "    1.- Develop a regression algorithm\n",
    "    2.- Plot residuals and verify distribution.\n",
    "    3.- Obtain the R-Squared values\n",
    "    4.- Analyse Influencial Waypoints\n",
    "    5.- Cook's Distance\n",
    "    6.- Predict Values\n",
    "    \n",
    "@author: Alejandro Murrieta-Mendoza\n",
    "\"\"\"\n",
    "# 0: Import all your required libreries \n",
    "import statsmodels.api as sm\n",
    "from statsmodels.formula.api import ols\n",
    "from statsmodels.sandbox.regression.predstd import wls_prediction_std\n",
    "from sklearn.preprocessing import StandardScaler\n",
    "from scipy import stats\n",
    "\n",
    "import matplotlib.pyplot as plt\n",
    "import seaborn as sns\n",
    "import scipy.stats as st\n",
    "\n",
    "import pandas as pd\n",
    "import numpy as np\n",
    "\n",
    "import math"
   ]
  },
  {
   "cell_type": "code",
   "execution_count": 106,
   "metadata": {},
   "outputs": [
    {
     "data": {
      "text/html": [
       "<div>\n",
       "<style scoped>\n",
       "    .dataframe tbody tr th:only-of-type {\n",
       "        vertical-align: middle;\n",
       "    }\n",
       "\n",
       "    .dataframe tbody tr th {\n",
       "        vertical-align: top;\n",
       "    }\n",
       "\n",
       "    .dataframe thead th {\n",
       "        text-align: right;\n",
       "    }\n",
       "</style>\n",
       "<table border=\"1\" class=\"dataframe\">\n",
       "  <thead>\n",
       "    <tr style=\"text-align: right;\">\n",
       "      <th></th>\n",
       "      <th>Address</th>\n",
       "      <th>Zip</th>\n",
       "      <th>Price</th>\n",
       "      <th>Area</th>\n",
       "      <th>Room</th>\n",
       "      <th>Lon</th>\n",
       "      <th>Lat</th>\n",
       "    </tr>\n",
       "  </thead>\n",
       "  <tbody>\n",
       "    <tr>\n",
       "      <th>1</th>\n",
       "      <td>Blasiusstraat 8 2, Amsterdam</td>\n",
       "      <td>1091 CR</td>\n",
       "      <td>685000.0</td>\n",
       "      <td>64</td>\n",
       "      <td>3</td>\n",
       "      <td>4.907736</td>\n",
       "      <td>52.356157</td>\n",
       "    </tr>\n",
       "    <tr>\n",
       "      <th>2</th>\n",
       "      <td>Kromme Leimuidenstraat 13 H, Amsterdam</td>\n",
       "      <td>1059 EL</td>\n",
       "      <td>475000.0</td>\n",
       "      <td>60</td>\n",
       "      <td>3</td>\n",
       "      <td>4.850476</td>\n",
       "      <td>52.348586</td>\n",
       "    </tr>\n",
       "    <tr>\n",
       "      <th>3</th>\n",
       "      <td>Zaaiersweg 11 A, Amsterdam</td>\n",
       "      <td>1097 SM</td>\n",
       "      <td>850000.0</td>\n",
       "      <td>109</td>\n",
       "      <td>4</td>\n",
       "      <td>4.944774</td>\n",
       "      <td>52.343782</td>\n",
       "    </tr>\n",
       "    <tr>\n",
       "      <th>4</th>\n",
       "      <td>Tenerifestraat 40, Amsterdam</td>\n",
       "      <td>1060 TH</td>\n",
       "      <td>580000.0</td>\n",
       "      <td>128</td>\n",
       "      <td>6</td>\n",
       "      <td>4.789928</td>\n",
       "      <td>52.343712</td>\n",
       "    </tr>\n",
       "    <tr>\n",
       "      <th>5</th>\n",
       "      <td>Winterjanpad 21, Amsterdam</td>\n",
       "      <td>1036 KN</td>\n",
       "      <td>720000.0</td>\n",
       "      <td>138</td>\n",
       "      <td>5</td>\n",
       "      <td>4.902503</td>\n",
       "      <td>52.410538</td>\n",
       "    </tr>\n",
       "  </tbody>\n",
       "</table>\n",
       "</div>"
      ],
      "text/plain": [
       "                                  Address      Zip     Price  Area  Room  \\\n",
       "1            Blasiusstraat 8 2, Amsterdam  1091 CR  685000.0    64     3   \n",
       "2  Kromme Leimuidenstraat 13 H, Amsterdam  1059 EL  475000.0    60     3   \n",
       "3              Zaaiersweg 11 A, Amsterdam  1097 SM  850000.0   109     4   \n",
       "4            Tenerifestraat 40, Amsterdam  1060 TH  580000.0   128     6   \n",
       "5              Winterjanpad 21, Amsterdam  1036 KN  720000.0   138     5   \n",
       "\n",
       "        Lon        Lat  \n",
       "1  4.907736  52.356157  \n",
       "2  4.850476  52.348586  \n",
       "3  4.944774  52.343782  \n",
       "4  4.789928  52.343712  \n",
       "5  4.902503  52.410538  "
      ]
     },
     "execution_count": 106,
     "metadata": {},
     "output_type": "execute_result"
    }
   ],
   "source": [
    "df = pd.read_csv('./../ws1/amsterdam.csv', index_col=0)\n",
    "df.head()"
   ]
  },
  {
   "cell_type": "code",
   "execution_count": 107,
   "metadata": {},
   "outputs": [
    {
     "name": "stdout",
     "output_type": "stream",
     "text": [
      "Address    0\n",
      "Zip        0\n",
      "Price      4\n",
      "Area       0\n",
      "Room       0\n",
      "Lon        0\n",
      "Lat        0\n",
      "dtype: int64\n",
      "(924, 7)\n"
     ]
    }
   ],
   "source": [
    "print(df.isna().sum())\n",
    "print(df.shape)"
   ]
  },
  {
   "cell_type": "code",
   "execution_count": 108,
   "metadata": {},
   "outputs": [
    {
     "name": "stdout",
     "output_type": "stream",
     "text": [
      "Address    0\n",
      "Zip        0\n",
      "Price      0\n",
      "Area       0\n",
      "Room       0\n",
      "Lon        0\n",
      "Lat        0\n",
      "dtype: int64\n",
      "(920, 7)\n"
     ]
    }
   ],
   "source": [
    "df = df[df['Price'].notna()]\n",
    "print(df.isna().sum())\n",
    "print(df.shape)"
   ]
  },
  {
   "cell_type": "code",
   "execution_count": 109,
   "metadata": {},
   "outputs": [
    {
     "data": {
      "text/plain": [
       "Address     object\n",
       "Zip         object\n",
       "Price      float64\n",
       "Area         int64\n",
       "Room         int64\n",
       "Lon        float64\n",
       "Lat        float64\n",
       "dtype: object"
      ]
     },
     "execution_count": 109,
     "metadata": {},
     "output_type": "execute_result"
    }
   ],
   "source": [
    "df.dtypes"
   ]
  },
  {
   "cell_type": "code",
   "execution_count": 110,
   "metadata": {},
   "outputs": [
    {
     "data": {
      "text/html": [
       "<div>\n",
       "<style scoped>\n",
       "    .dataframe tbody tr th:only-of-type {\n",
       "        vertical-align: middle;\n",
       "    }\n",
       "\n",
       "    .dataframe tbody tr th {\n",
       "        vertical-align: top;\n",
       "    }\n",
       "\n",
       "    .dataframe thead th {\n",
       "        text-align: right;\n",
       "    }\n",
       "</style>\n",
       "<table border=\"1\" class=\"dataframe\">\n",
       "  <thead>\n",
       "    <tr style=\"text-align: right;\">\n",
       "      <th></th>\n",
       "      <th>Price</th>\n",
       "      <th>Area</th>\n",
       "      <th>Room</th>\n",
       "      <th>Lon</th>\n",
       "      <th>Lat</th>\n",
       "    </tr>\n",
       "  </thead>\n",
       "  <tbody>\n",
       "    <tr>\n",
       "      <th>count</th>\n",
       "      <td>9.200000e+02</td>\n",
       "      <td>920.000000</td>\n",
       "      <td>920.00000</td>\n",
       "      <td>920.000000</td>\n",
       "      <td>920.000000</td>\n",
       "    </tr>\n",
       "    <tr>\n",
       "      <th>mean</th>\n",
       "      <td>6.220654e+05</td>\n",
       "      <td>95.607609</td>\n",
       "      <td>3.56413</td>\n",
       "      <td>4.888652</td>\n",
       "      <td>52.363271</td>\n",
       "    </tr>\n",
       "    <tr>\n",
       "      <th>std</th>\n",
       "      <td>5.389942e+05</td>\n",
       "      <td>56.849699</td>\n",
       "      <td>1.57103</td>\n",
       "      <td>0.053118</td>\n",
       "      <td>0.024054</td>\n",
       "    </tr>\n",
       "    <tr>\n",
       "      <th>min</th>\n",
       "      <td>1.750000e+05</td>\n",
       "      <td>21.000000</td>\n",
       "      <td>1.00000</td>\n",
       "      <td>4.644819</td>\n",
       "      <td>52.291519</td>\n",
       "    </tr>\n",
       "    <tr>\n",
       "      <th>25%</th>\n",
       "      <td>3.500000e+05</td>\n",
       "      <td>60.000000</td>\n",
       "      <td>3.00000</td>\n",
       "      <td>4.855834</td>\n",
       "      <td>52.351925</td>\n",
       "    </tr>\n",
       "    <tr>\n",
       "      <th>50%</th>\n",
       "      <td>4.670000e+05</td>\n",
       "      <td>83.000000</td>\n",
       "      <td>3.00000</td>\n",
       "      <td>4.886818</td>\n",
       "      <td>52.364499</td>\n",
       "    </tr>\n",
       "    <tr>\n",
       "      <th>75%</th>\n",
       "      <td>7.000000e+05</td>\n",
       "      <td>113.000000</td>\n",
       "      <td>4.00000</td>\n",
       "      <td>4.922337</td>\n",
       "      <td>52.377545</td>\n",
       "    </tr>\n",
       "    <tr>\n",
       "      <th>max</th>\n",
       "      <td>5.950000e+06</td>\n",
       "      <td>623.000000</td>\n",
       "      <td>14.00000</td>\n",
       "      <td>5.029122</td>\n",
       "      <td>52.423805</td>\n",
       "    </tr>\n",
       "  </tbody>\n",
       "</table>\n",
       "</div>"
      ],
      "text/plain": [
       "              Price        Area       Room         Lon         Lat\n",
       "count  9.200000e+02  920.000000  920.00000  920.000000  920.000000\n",
       "mean   6.220654e+05   95.607609    3.56413    4.888652   52.363271\n",
       "std    5.389942e+05   56.849699    1.57103    0.053118    0.024054\n",
       "min    1.750000e+05   21.000000    1.00000    4.644819   52.291519\n",
       "25%    3.500000e+05   60.000000    3.00000    4.855834   52.351925\n",
       "50%    4.670000e+05   83.000000    3.00000    4.886818   52.364499\n",
       "75%    7.000000e+05  113.000000    4.00000    4.922337   52.377545\n",
       "max    5.950000e+06  623.000000   14.00000    5.029122   52.423805"
      ]
     },
     "execution_count": 110,
     "metadata": {},
     "output_type": "execute_result"
    }
   ],
   "source": [
    "df.describe()"
   ]
  },
  {
   "cell_type": "code",
   "execution_count": 111,
   "metadata": {},
   "outputs": [
    {
     "data": {
      "text/html": [
       "<table class=\"simpletable\">\n",
       "<caption>OLS Regression Results</caption>\n",
       "<tr>\n",
       "  <th>Dep. Variable:</th>          <td>Price</td>      <th>  R-squared:         </th> <td>   0.697</td> \n",
       "</tr>\n",
       "<tr>\n",
       "  <th>Model:</th>                   <td>OLS</td>       <th>  Adj. R-squared:    </th> <td>   0.697</td> \n",
       "</tr>\n",
       "<tr>\n",
       "  <th>Method:</th>             <td>Least Squares</td>  <th>  F-statistic:       </th> <td>   2115.</td> \n",
       "</tr>\n",
       "<tr>\n",
       "  <th>Date:</th>             <td>Thu, 19 Oct 2023</td> <th>  Prob (F-statistic):</th> <td>1.71e-240</td>\n",
       "</tr>\n",
       "<tr>\n",
       "  <th>Time:</th>                 <td>21:23:41</td>     <th>  Log-Likelihood:    </th> <td> -12897.</td> \n",
       "</tr>\n",
       "<tr>\n",
       "  <th>No. Observations:</th>      <td>   920</td>      <th>  AIC:               </th> <td>2.580e+04</td>\n",
       "</tr>\n",
       "<tr>\n",
       "  <th>Df Residuals:</th>          <td>   918</td>      <th>  BIC:               </th> <td>2.581e+04</td>\n",
       "</tr>\n",
       "<tr>\n",
       "  <th>Df Model:</th>              <td>     1</td>      <th>                     </th>     <td> </td>    \n",
       "</tr>\n",
       "<tr>\n",
       "  <th>Covariance Type:</th>      <td>nonrobust</td>    <th>                     </th>     <td> </td>    \n",
       "</tr>\n",
       "</table>\n",
       "<table class=\"simpletable\">\n",
       "<tr>\n",
       "    <td></td>       <th>coef</th>     <th>std err</th>      <th>t</th>      <th>P>|t|</th>  <th>[0.025</th>    <th>0.975]</th>  \n",
       "</tr>\n",
       "<tr>\n",
       "  <th>const</th> <td>-1.349e+05</td> <td> 1.91e+04</td> <td>   -7.047</td> <td> 0.000</td> <td>-1.72e+05</td> <td>-9.73e+04</td>\n",
       "</tr>\n",
       "<tr>\n",
       "  <th>Area</th>  <td> 7917.5220</td> <td>  172.142</td> <td>   45.994</td> <td> 0.000</td> <td> 7579.685</td> <td> 8255.359</td>\n",
       "</tr>\n",
       "</table>\n",
       "<table class=\"simpletable\">\n",
       "<tr>\n",
       "  <th>Omnibus:</th>       <td>706.946</td> <th>  Durbin-Watson:     </th> <td>   2.092</td> \n",
       "</tr>\n",
       "<tr>\n",
       "  <th>Prob(Omnibus):</th> <td> 0.000</td>  <th>  Jarque-Bera (JB):  </th> <td>39193.876</td>\n",
       "</tr>\n",
       "<tr>\n",
       "  <th>Skew:</th>          <td> 2.965</td>  <th>  Prob(JB):          </th> <td>    0.00</td> \n",
       "</tr>\n",
       "<tr>\n",
       "  <th>Kurtosis:</th>      <td>34.421</td>  <th>  Cond. No.          </th> <td>    218.</td> \n",
       "</tr>\n",
       "</table><br/><br/>Notes:<br/>[1] Standard Errors assume that the covariance matrix of the errors is correctly specified."
      ],
      "text/latex": [
       "\\begin{center}\n",
       "\\begin{tabular}{lclc}\n",
       "\\toprule\n",
       "\\textbf{Dep. Variable:}    &      Price       & \\textbf{  R-squared:         } &     0.697   \\\\\n",
       "\\textbf{Model:}            &       OLS        & \\textbf{  Adj. R-squared:    } &     0.697   \\\\\n",
       "\\textbf{Method:}           &  Least Squares   & \\textbf{  F-statistic:       } &     2115.   \\\\\n",
       "\\textbf{Date:}             & Thu, 19 Oct 2023 & \\textbf{  Prob (F-statistic):} & 1.71e-240   \\\\\n",
       "\\textbf{Time:}             &     21:23:41     & \\textbf{  Log-Likelihood:    } &   -12897.   \\\\\n",
       "\\textbf{No. Observations:} &         920      & \\textbf{  AIC:               } & 2.580e+04   \\\\\n",
       "\\textbf{Df Residuals:}     &         918      & \\textbf{  BIC:               } & 2.581e+04   \\\\\n",
       "\\textbf{Df Model:}         &           1      & \\textbf{                     } &             \\\\\n",
       "\\textbf{Covariance Type:}  &    nonrobust     & \\textbf{                     } &             \\\\\n",
       "\\bottomrule\n",
       "\\end{tabular}\n",
       "\\begin{tabular}{lcccccc}\n",
       "               & \\textbf{coef} & \\textbf{std err} & \\textbf{t} & \\textbf{P$> |$t$|$} & \\textbf{[0.025} & \\textbf{0.975]}  \\\\\n",
       "\\midrule\n",
       "\\textbf{const} &   -1.349e+05  &     1.91e+04     &    -7.047  &         0.000        &    -1.72e+05    &    -9.73e+04     \\\\\n",
       "\\textbf{Area}  &    7917.5220  &      172.142     &    45.994  &         0.000        &     7579.685    &     8255.359     \\\\\n",
       "\\bottomrule\n",
       "\\end{tabular}\n",
       "\\begin{tabular}{lclc}\n",
       "\\textbf{Omnibus:}       & 706.946 & \\textbf{  Durbin-Watson:     } &     2.092  \\\\\n",
       "\\textbf{Prob(Omnibus):} &   0.000 & \\textbf{  Jarque-Bera (JB):  } & 39193.876  \\\\\n",
       "\\textbf{Skew:}          &   2.965 & \\textbf{  Prob(JB):          } &      0.00  \\\\\n",
       "\\textbf{Kurtosis:}      &  34.421 & \\textbf{  Cond. No.          } &      218.  \\\\\n",
       "\\bottomrule\n",
       "\\end{tabular}\n",
       "%\\caption{OLS Regression Results}\n",
       "\\end{center}\n",
       "\n",
       "Notes: \\newline\n",
       " [1] Standard Errors assume that the covariance matrix of the errors is correctly specified."
      ],
      "text/plain": [
       "<class 'statsmodels.iolib.summary.Summary'>\n",
       "\"\"\"\n",
       "                            OLS Regression Results                            \n",
       "==============================================================================\n",
       "Dep. Variable:                  Price   R-squared:                       0.697\n",
       "Model:                            OLS   Adj. R-squared:                  0.697\n",
       "Method:                 Least Squares   F-statistic:                     2115.\n",
       "Date:                Thu, 19 Oct 2023   Prob (F-statistic):          1.71e-240\n",
       "Time:                        21:23:41   Log-Likelihood:                -12897.\n",
       "No. Observations:                 920   AIC:                         2.580e+04\n",
       "Df Residuals:                     918   BIC:                         2.581e+04\n",
       "Df Model:                           1                                         \n",
       "Covariance Type:            nonrobust                                         \n",
       "==============================================================================\n",
       "                 coef    std err          t      P>|t|      [0.025      0.975]\n",
       "------------------------------------------------------------------------------\n",
       "const      -1.349e+05   1.91e+04     -7.047      0.000   -1.72e+05   -9.73e+04\n",
       "Area        7917.5220    172.142     45.994      0.000    7579.685    8255.359\n",
       "==============================================================================\n",
       "Omnibus:                      706.946   Durbin-Watson:                   2.092\n",
       "Prob(Omnibus):                  0.000   Jarque-Bera (JB):            39193.876\n",
       "Skew:                           2.965   Prob(JB):                         0.00\n",
       "Kurtosis:                      34.421   Cond. No.                         218.\n",
       "==============================================================================\n",
       "\n",
       "Notes:\n",
       "[1] Standard Errors assume that the covariance matrix of the errors is correctly specified.\n",
       "\"\"\""
      ]
     },
     "execution_count": 111,
     "metadata": {},
     "output_type": "execute_result"
    }
   ],
   "source": [
    "model = sm.OLS(df['Price'], sm.add_constant(df['Area'])).fit()\n",
    "model.summary()"
   ]
  },
  {
   "cell_type": "code",
   "execution_count": 157,
   "metadata": {},
   "outputs": [
    {
     "data": {
      "text/plain": [
       "const   -134909.922378\n",
       "Area       7917.521966\n",
       "dtype: float64"
      ]
     },
     "execution_count": 157,
     "metadata": {},
     "output_type": "execute_result"
    }
   ],
   "source": [
    "params = model.params\n",
    "params"
   ]
  },
  {
   "cell_type": "markdown",
   "metadata": {},
   "source": [
    "Slope = 7917.5\\\n",
    "Const = -134909.9\n",
    "\n",
    "Equation:\\\n",
    "$P = -134909.9 + A \\cdot 7917.5$"
   ]
  },
  {
   "cell_type": "code",
   "execution_count": 113,
   "metadata": {},
   "outputs": [
    {
     "data": {
      "text/plain": [
       "<seaborn.axisgrid.FacetGrid at 0x7f8b56c10d90>"
      ]
     },
     "execution_count": 113,
     "metadata": {},
     "output_type": "execute_result"
    },
    {
     "data": {
      "image/png": "[encoded data removed]",
      "text/plain": [
       "<Figure size 500x500 with 1 Axes>"
      ]
     },
     "metadata": {},
     "output_type": "display_data"
    }
   ],
   "source": [
    "sns.lmplot(data=df, x=\"Area\", y=\"Price\", line_kws={'color': 'red'}, ci=None, truncate=False)"
   ]
  },
  {
   "cell_type": "code",
   "execution_count": 114,
   "metadata": {},
   "outputs": [
    {
     "data": {
      "text/plain": [
       "180    3.220591e+06\n",
       "196    2.965406e+06\n",
       "838    2.184499e+06\n",
       "309    1.867573e+06\n",
       "34     1.534220e+06\n",
       "281    1.272282e+06\n",
       "185    1.161003e+06\n",
       "288    1.161003e+06\n",
       "293    1.035570e+06\n",
       "244    1.008811e+06\n",
       "dtype: float64"
      ]
     },
     "execution_count": 114,
     "metadata": {},
     "output_type": "execute_result"
    }
   ],
   "source": [
    "resid = model.resid\n",
    "\n",
    "largest_indices = resid.apply(lambda x: math.sqrt(x**2)).nlargest(10)\n",
    "\n",
    "largest_indices   "
   ]
  },
  {
   "cell_type": "code",
   "execution_count": 115,
   "metadata": {},
   "outputs": [
    {
     "data": {
      "text/plain": [
       "<Axes: xlabel='Area', ylabel='Price'>"
      ]
     },
     "execution_count": 115,
     "metadata": {},
     "output_type": "execute_result"
    },
    {
     "data": {
      "image/png": "[encoded data removed]",
      "text/plain": [
       "<Figure size 640x480 with 1 Axes>"
      ]
     },
     "metadata": {},
     "output_type": "display_data"
    }
   ],
   "source": [
    "sns.residplot(data=df, x='Area', y='Price')"
   ]
  },
  {
   "cell_type": "code",
   "execution_count": 116,
   "metadata": {},
   "outputs": [
    {
     "data": {
      "text/plain": [
       "95.60760869565217"
      ]
     },
     "execution_count": 116,
     "metadata": {},
     "output_type": "execute_result"
    }
   ],
   "source": [
    "np.mean(df['Area'])"
   ]
  },
  {
   "cell_type": "code",
   "execution_count": 117,
   "metadata": {},
   "outputs": [],
   "source": [
    "influence = model.get_influence()\n",
    "influence_summary = influence.summary_frame()"
   ]
  },
  {
   "cell_type": "code",
   "execution_count": 118,
   "metadata": {},
   "outputs": [
    {
     "data": {
      "text/html": [
       "<div>\n",
       "<style scoped>\n",
       "    .dataframe tbody tr th:only-of-type {\n",
       "        vertical-align: middle;\n",
       "    }\n",
       "\n",
       "    .dataframe tbody tr th {\n",
       "        vertical-align: top;\n",
       "    }\n",
       "\n",
       "    .dataframe thead th {\n",
       "        text-align: right;\n",
       "    }\n",
       "</style>\n",
       "<table border=\"1\" class=\"dataframe\">\n",
       "  <thead>\n",
       "    <tr style=\"text-align: right;\">\n",
       "      <th></th>\n",
       "      <th>dfb_const</th>\n",
       "      <th>dfb_Area</th>\n",
       "      <th>cooks_d</th>\n",
       "      <th>standard_resid</th>\n",
       "      <th>hat_diag</th>\n",
       "      <th>dffits_internal</th>\n",
       "      <th>student_resid</th>\n",
       "      <th>dffits</th>\n",
       "    </tr>\n",
       "  </thead>\n",
       "  <tbody>\n",
       "    <tr>\n",
       "      <th>1</th>\n",
       "      <td>0.034477</td>\n",
       "      <td>-0.019390</td>\n",
       "      <td>0.000795</td>\n",
       "      <td>1.056435</td>\n",
       "      <td>0.001423</td>\n",
       "      <td>0.039884</td>\n",
       "      <td>1.056502</td>\n",
       "      <td>0.039887</td>\n",
       "    </tr>\n",
       "    <tr>\n",
       "      <th>2</th>\n",
       "      <td>0.015748</td>\n",
       "      <td>-0.009402</td>\n",
       "      <td>0.000157</td>\n",
       "      <td>0.454920</td>\n",
       "      <td>0.001514</td>\n",
       "      <td>0.017714</td>\n",
       "      <td>0.454724</td>\n",
       "      <td>0.017706</td>\n",
       "    </tr>\n",
       "    <tr>\n",
       "      <th>3</th>\n",
       "      <td>0.004179</td>\n",
       "      <td>0.003195</td>\n",
       "      <td>0.000097</td>\n",
       "      <td>0.411131</td>\n",
       "      <td>0.001147</td>\n",
       "      <td>0.013934</td>\n",
       "      <td>0.410945</td>\n",
       "      <td>0.013928</td>\n",
       "    </tr>\n",
       "    <tr>\n",
       "      <th>4</th>\n",
       "      <td>-0.000691</td>\n",
       "      <td>-0.018941</td>\n",
       "      <td>0.000731</td>\n",
       "      <td>-1.007007</td>\n",
       "      <td>0.001440</td>\n",
       "      <td>-0.038244</td>\n",
       "      <td>-1.007015</td>\n",
       "      <td>-0.038244</td>\n",
       "    </tr>\n",
       "    <tr>\n",
       "      <th>5</th>\n",
       "      <td>0.003453</td>\n",
       "      <td>-0.019739</td>\n",
       "      <td>0.000545</td>\n",
       "      <td>-0.801935</td>\n",
       "      <td>0.001692</td>\n",
       "      <td>-0.033015</td>\n",
       "      <td>-0.801779</td>\n",
       "      <td>-0.033009</td>\n",
       "    </tr>\n",
       "    <tr>\n",
       "      <th>6</th>\n",
       "      <td>0.021253</td>\n",
       "      <td>-0.013792</td>\n",
       "      <td>0.000264</td>\n",
       "      <td>0.557597</td>\n",
       "      <td>0.001698</td>\n",
       "      <td>0.022998</td>\n",
       "      <td>0.557387</td>\n",
       "      <td>0.022989</td>\n",
       "    </tr>\n",
       "    <tr>\n",
       "      <th>7</th>\n",
       "      <td>-0.007408</td>\n",
       "      <td>0.001751</td>\n",
       "      <td>0.000068</td>\n",
       "      <td>-0.350465</td>\n",
       "      <td>0.001112</td>\n",
       "      <td>-0.011693</td>\n",
       "      <td>-0.350298</td>\n",
       "      <td>-0.011687</td>\n",
       "    </tr>\n",
       "    <tr>\n",
       "      <th>8</th>\n",
       "      <td>0.007602</td>\n",
       "      <td>-0.002795</td>\n",
       "      <td>0.000056</td>\n",
       "      <td>0.308632</td>\n",
       "      <td>0.001169</td>\n",
       "      <td>0.010558</td>\n",
       "      <td>0.308480</td>\n",
       "      <td>0.010553</td>\n",
       "    </tr>\n",
       "    <tr>\n",
       "      <th>9</th>\n",
       "      <td>0.019752</td>\n",
       "      <td>-0.013323</td>\n",
       "      <td>0.000221</td>\n",
       "      <td>0.492415</td>\n",
       "      <td>0.001818</td>\n",
       "      <td>0.021017</td>\n",
       "      <td>0.492211</td>\n",
       "      <td>0.021008</td>\n",
       "    </tr>\n",
       "    <tr>\n",
       "      <th>10</th>\n",
       "      <td>0.028193</td>\n",
       "      <td>-0.021305</td>\n",
       "      <td>0.000414</td>\n",
       "      <td>0.585976</td>\n",
       "      <td>0.002407</td>\n",
       "      <td>0.028781</td>\n",
       "      <td>0.585766</td>\n",
       "      <td>0.028771</td>\n",
       "    </tr>\n",
       "  </tbody>\n",
       "</table>\n",
       "</div>"
      ],
      "text/plain": [
       "    dfb_const  dfb_Area   cooks_d  standard_resid  hat_diag  dffits_internal  \\\n",
       "1    0.034477 -0.019390  0.000795        1.056435  0.001423         0.039884   \n",
       "2    0.015748 -0.009402  0.000157        0.454920  0.001514         0.017714   \n",
       "3    0.004179  0.003195  0.000097        0.411131  0.001147         0.013934   \n",
       "4   -0.000691 -0.018941  0.000731       -1.007007  0.001440        -0.038244   \n",
       "5    0.003453 -0.019739  0.000545       -0.801935  0.001692        -0.033015   \n",
       "6    0.021253 -0.013792  0.000264        0.557597  0.001698         0.022998   \n",
       "7   -0.007408  0.001751  0.000068       -0.350465  0.001112        -0.011693   \n",
       "8    0.007602 -0.002795  0.000056        0.308632  0.001169         0.010558   \n",
       "9    0.019752 -0.013323  0.000221        0.492415  0.001818         0.021017   \n",
       "10   0.028193 -0.021305  0.000414        0.585976  0.002407         0.028781   \n",
       "\n",
       "    student_resid    dffits  \n",
       "1        1.056502  0.039887  \n",
       "2        0.454724  0.017706  \n",
       "3        0.410945  0.013928  \n",
       "4       -1.007015 -0.038244  \n",
       "5       -0.801779 -0.033009  \n",
       "6        0.557387  0.022989  \n",
       "7       -0.350298 -0.011687  \n",
       "8        0.308480  0.010553  \n",
       "9        0.492211  0.021008  \n",
       "10       0.585766  0.028771  "
      ]
     },
     "execution_count": 118,
     "metadata": {},
     "output_type": "execute_result"
    }
   ],
   "source": [
    "influence_summary.head(10)"
   ]
  },
  {
   "cell_type": "code",
   "execution_count": 119,
   "metadata": {},
   "outputs": [
    {
     "data": {
      "image/png": "[encoded data removed]",
      "text/plain": [
       "<Figure size 640x480 with 1 Axes>"
      ]
     },
     "metadata": {},
     "output_type": "display_data"
    }
   ],
   "source": [
    "plt.scatter(x=df['Area'], y=influence_summary['hat_diag'])\n",
    "plt.xlabel(\"Point area\")\n",
    "plt.ylabel(\"Point influence\")\n",
    "plt.title(\"Influence per datapoint\")\n",
    "plt.show()"
   ]
  },
  {
   "cell_type": "markdown",
   "metadata": {},
   "source": [
    "The vast majority of points on the scatter plot are centered at around 100 m^2 of area, which is also approx. the mean of the area of all houses. This is the 'pivot point' of the graph. The further a datapoint is from this pivot point, the more influence it has on the regression. This is also reflected on the graph above."
   ]
  },
  {
   "cell_type": "code",
   "execution_count": 120,
   "metadata": {},
   "outputs": [
    {
     "data": {
      "image/png": "[encoded data removed]",
      "text/plain": [
       "<Figure size 640x480 with 1 Axes>"
      ]
     },
     "metadata": {},
     "output_type": "display_data"
    }
   ],
   "source": [
    "plt.scatter(x=df['Area'], y=influence_summary['cooks_d'])\n",
    "plt.xlabel(\"Point area\")\n",
    "plt.ylabel(\"Cooks distance\")\n",
    "plt.title(\"Cooks distance per point area\")\n",
    "plt.show()"
   ]
  },
  {
   "cell_type": "markdown",
   "metadata": {},
   "source": [
    "The graph above visualized the cooks distance for all datapoints in the set. You can see that the cooks distance of the points near the pivot point of the graph is not very high, this is because the influence is pretty low in this range. However, when the area increases, there are some seriously large cooks distances in the graph. This makes sense, as these outliers both have large residuals and have a big influence."
   ]
  },
  {
   "cell_type": "markdown",
   "metadata": {},
   "source": [
    "Let's strategize on how to deal with these outliers. Let's first get the mean value of cooks distance."
   ]
  },
  {
   "cell_type": "code",
   "execution_count": 123,
   "metadata": {},
   "outputs": [
    {
     "data": {
      "text/plain": [
       "0.0064795318128061845"
      ]
     },
     "execution_count": 123,
     "metadata": {},
     "output_type": "execute_result"
    }
   ],
   "source": [
    "cooks = influence.cooks_distance[0]\n",
    "cooks_mean = np.mean(cooks)\n",
    "\n",
    "cooks_mean"
   ]
  },
  {
   "cell_type": "markdown",
   "metadata": {},
   "source": [
    "We can say that any cooks distance value higher than 3 times the cooks mean is an outlier, and should be removed. This is just an assumption, and can be altered if not deemed correct."
   ]
  },
  {
   "cell_type": "code",
   "execution_count": 149,
   "metadata": {},
   "outputs": [
    {
     "data": {
      "text/plain": [
       "array([ 33, 102, 155, 178, 183, 194, 242, 275, 286, 291, 300, 307, 319,\n",
       "       326, 332, 833, 881])"
      ]
     },
     "execution_count": 149,
     "metadata": {},
     "output_type": "execute_result"
    }
   ],
   "source": [
    "outliers = np.where(cooks > cooks_mean * 3)\n",
    "\n",
    "outliers[0]"
   ]
  },
  {
   "cell_type": "code",
   "execution_count": 151,
   "metadata": {},
   "outputs": [
    {
     "data": {
      "text/html": [
       "<div>\n",
       "<style scoped>\n",
       "    .dataframe tbody tr th:only-of-type {\n",
       "        vertical-align: middle;\n",
       "    }\n",
       "\n",
       "    .dataframe tbody tr th {\n",
       "        vertical-align: top;\n",
       "    }\n",
       "\n",
       "    .dataframe thead th {\n",
       "        text-align: right;\n",
       "    }\n",
       "</style>\n",
       "<table border=\"1\" class=\"dataframe\">\n",
       "  <thead>\n",
       "    <tr style=\"text-align: right;\">\n",
       "      <th></th>\n",
       "      <th>Address</th>\n",
       "      <th>Zip</th>\n",
       "      <th>Price</th>\n",
       "      <th>Area</th>\n",
       "      <th>Room</th>\n",
       "      <th>Lon</th>\n",
       "      <th>Lat</th>\n",
       "    </tr>\n",
       "  </thead>\n",
       "  <tbody>\n",
       "    <tr>\n",
       "      <th>34</th>\n",
       "      <td>Vondelstraat 51 hs, Amsterdam</td>\n",
       "      <td>1054 GJ</td>\n",
       "      <td>3925000.0</td>\n",
       "      <td>319</td>\n",
       "      <td>7</td>\n",
       "      <td>4.875471</td>\n",
       "      <td>52.361571</td>\n",
       "    </tr>\n",
       "    <tr>\n",
       "      <th>104</th>\n",
       "      <td>Westeinde 16, Amsterdam</td>\n",
       "      <td>1017 ZP</td>\n",
       "      <td>4550000.0</td>\n",
       "      <td>497</td>\n",
       "      <td>13</td>\n",
       "      <td>4.898620</td>\n",
       "      <td>52.358798</td>\n",
       "    </tr>\n",
       "    <tr>\n",
       "      <th>157</th>\n",
       "      <td>IJsselmeerstraat 52, Amsterdam</td>\n",
       "      <td>1024 ML</td>\n",
       "      <td>799000.0</td>\n",
       "      <td>230</td>\n",
       "      <td>8</td>\n",
       "      <td>4.961381</td>\n",
       "      <td>52.389087</td>\n",
       "    </tr>\n",
       "    <tr>\n",
       "      <th>180</th>\n",
       "      <td>Dam 5 V, Amsterdam</td>\n",
       "      <td>1012 JS</td>\n",
       "      <td>4495000.0</td>\n",
       "      <td>178</td>\n",
       "      <td>5</td>\n",
       "      <td>4.894290</td>\n",
       "      <td>52.373106</td>\n",
       "    </tr>\n",
       "    <tr>\n",
       "      <th>185</th>\n",
       "      <td>Huidekoperstraat 24 F, Amsterdam</td>\n",
       "      <td>1017 ZM</td>\n",
       "      <td>2475000.0</td>\n",
       "      <td>183</td>\n",
       "      <td>4</td>\n",
       "      <td>4.897473</td>\n",
       "      <td>52.358943</td>\n",
       "    </tr>\n",
       "    <tr>\n",
       "      <th>196</th>\n",
       "      <td>Keizersgracht 544, Amsterdam</td>\n",
       "      <td>1017 EL</td>\n",
       "      <td>5950000.0</td>\n",
       "      <td>394</td>\n",
       "      <td>10</td>\n",
       "      <td>4.887378</td>\n",
       "      <td>52.365078</td>\n",
       "    </tr>\n",
       "    <tr>\n",
       "      <th>244</th>\n",
       "      <td>Uilengouw 2, Amsterdam</td>\n",
       "      <td>1027 EZ</td>\n",
       "      <td>899000.0</td>\n",
       "      <td>258</td>\n",
       "      <td>1</td>\n",
       "      <td>4.967897</td>\n",
       "      <td>52.410672</td>\n",
       "    </tr>\n",
       "    <tr>\n",
       "      <th>277</th>\n",
       "      <td>Sophialaan 45, Amsterdam</td>\n",
       "      <td>1075 BM</td>\n",
       "      <td>3500000.0</td>\n",
       "      <td>374</td>\n",
       "      <td>7</td>\n",
       "      <td>4.857608</td>\n",
       "      <td>52.352366</td>\n",
       "    </tr>\n",
       "    <tr>\n",
       "      <th>288</th>\n",
       "      <td>Huidekoperstraat 24 F, Amsterdam</td>\n",
       "      <td>1017 ZM</td>\n",
       "      <td>2475000.0</td>\n",
       "      <td>183</td>\n",
       "      <td>3</td>\n",
       "      <td>4.897473</td>\n",
       "      <td>52.358943</td>\n",
       "    </tr>\n",
       "    <tr>\n",
       "      <th>293</th>\n",
       "      <td>Vossiusstraat 71, Amsterdam</td>\n",
       "      <td>1071 AK</td>\n",
       "      <td>2500000.0</td>\n",
       "      <td>202</td>\n",
       "      <td>6</td>\n",
       "      <td>4.876117</td>\n",
       "      <td>52.359763</td>\n",
       "    </tr>\n",
       "    <tr>\n",
       "      <th>302</th>\n",
       "      <td>Badhuiskade 353, Amsterdam</td>\n",
       "      <td>1031 KV</td>\n",
       "      <td>3680000.0</td>\n",
       "      <td>374</td>\n",
       "      <td>4</td>\n",
       "      <td>4.905695</td>\n",
       "      <td>52.385321</td>\n",
       "    </tr>\n",
       "    <tr>\n",
       "      <th>309</th>\n",
       "      <td>Broekergouw 4, Amsterdam</td>\n",
       "      <td>1027 AH</td>\n",
       "      <td>1695000.0</td>\n",
       "      <td>467</td>\n",
       "      <td>14</td>\n",
       "      <td>4.970830</td>\n",
       "      <td>52.412038</td>\n",
       "    </tr>\n",
       "    <tr>\n",
       "      <th>321</th>\n",
       "      <td>Uilengouw 2, Amsterdam</td>\n",
       "      <td>1027 EZ</td>\n",
       "      <td>1249000.0</td>\n",
       "      <td>258</td>\n",
       "      <td>5</td>\n",
       "      <td>4.967897</td>\n",
       "      <td>52.410672</td>\n",
       "    </tr>\n",
       "    <tr>\n",
       "      <th>329</th>\n",
       "      <td>Noorderakerweg 124, Amsterdam</td>\n",
       "      <td>1069 LW</td>\n",
       "      <td>950000.0</td>\n",
       "      <td>226</td>\n",
       "      <td>7</td>\n",
       "      <td>4.776234</td>\n",
       "      <td>52.349215</td>\n",
       "    </tr>\n",
       "    <tr>\n",
       "      <th>335</th>\n",
       "      <td>Singel 146 A, Amsterdam</td>\n",
       "      <td>1015 AG</td>\n",
       "      <td>3500000.0</td>\n",
       "      <td>348</td>\n",
       "      <td>8</td>\n",
       "      <td>4.889816</td>\n",
       "      <td>52.375532</td>\n",
       "    </tr>\n",
       "    <tr>\n",
       "      <th>838</th>\n",
       "      <td>Oranje Nassaulaan 9, Amsterdam</td>\n",
       "      <td>1075 AH</td>\n",
       "      <td>5850000.0</td>\n",
       "      <td>480</td>\n",
       "      <td>14</td>\n",
       "      <td>4.863729</td>\n",
       "      <td>52.354874</td>\n",
       "    </tr>\n",
       "    <tr>\n",
       "      <th>886</th>\n",
       "      <td>Levantplein 9, Amsterdam</td>\n",
       "      <td>1019 MA</td>\n",
       "      <td>1450000.0</td>\n",
       "      <td>273</td>\n",
       "      <td>5</td>\n",
       "      <td>4.942112</td>\n",
       "      <td>52.376819</td>\n",
       "    </tr>\n",
       "  </tbody>\n",
       "</table>\n",
       "</div>"
      ],
      "text/plain": [
       "                              Address      Zip      Price  Area  Room  \\\n",
       "34      Vondelstraat 51 hs, Amsterdam  1054 GJ  3925000.0   319     7   \n",
       "104           Westeinde 16, Amsterdam  1017 ZP  4550000.0   497    13   \n",
       "157    IJsselmeerstraat 52, Amsterdam  1024 ML   799000.0   230     8   \n",
       "180                Dam 5 V, Amsterdam  1012 JS  4495000.0   178     5   \n",
       "185  Huidekoperstraat 24 F, Amsterdam  1017 ZM  2475000.0   183     4   \n",
       "196      Keizersgracht 544, Amsterdam  1017 EL  5950000.0   394    10   \n",
       "244            Uilengouw 2, Amsterdam  1027 EZ   899000.0   258     1   \n",
       "277          Sophialaan 45, Amsterdam  1075 BM  3500000.0   374     7   \n",
       "288  Huidekoperstraat 24 F, Amsterdam  1017 ZM  2475000.0   183     3   \n",
       "293       Vossiusstraat 71, Amsterdam  1071 AK  2500000.0   202     6   \n",
       "302        Badhuiskade 353, Amsterdam  1031 KV  3680000.0   374     4   \n",
       "309          Broekergouw 4, Amsterdam  1027 AH  1695000.0   467    14   \n",
       "321            Uilengouw 2, Amsterdam  1027 EZ  1249000.0   258     5   \n",
       "329     Noorderakerweg 124, Amsterdam  1069 LW   950000.0   226     7   \n",
       "335           Singel 146 A, Amsterdam  1015 AG  3500000.0   348     8   \n",
       "838    Oranje Nassaulaan 9, Amsterdam  1075 AH  5850000.0   480    14   \n",
       "886          Levantplein 9, Amsterdam  1019 MA  1450000.0   273     5   \n",
       "\n",
       "          Lon        Lat  \n",
       "34   4.875471  52.361571  \n",
       "104  4.898620  52.358798  \n",
       "157  4.961381  52.389087  \n",
       "180  4.894290  52.373106  \n",
       "185  4.897473  52.358943  \n",
       "196  4.887378  52.365078  \n",
       "244  4.967897  52.410672  \n",
       "277  4.857608  52.352366  \n",
       "288  4.897473  52.358943  \n",
       "293  4.876117  52.359763  \n",
       "302  4.905695  52.385321  \n",
       "309  4.970830  52.412038  \n",
       "321  4.967897  52.410672  \n",
       "329  4.776234  52.349215  \n",
       "335  4.889816  52.375532  \n",
       "838  4.863729  52.354874  \n",
       "886  4.942112  52.376819  "
      ]
     },
     "execution_count": 151,
     "metadata": {},
     "output_type": "execute_result"
    }
   ],
   "source": [
    "outliers_df = df.iloc[outliers[0], :]\n",
    "outliers_df"
   ]
  },
  {
   "cell_type": "markdown",
   "metadata": {},
   "source": [
    "These are the indices of values where the cooks distance is more than 3 times the mean of the cooks distance. Let's drop them and make a new dataframe"
   ]
  },
  {
   "cell_type": "code",
   "execution_count": 166,
   "metadata": {},
   "outputs": [
    {
     "data": {
      "text/plain": [
       "[<matplotlib.lines.Line2D at 0x7f8b548d8790>]"
      ]
     },
     "execution_count": 166,
     "metadata": {},
     "output_type": "execute_result"
    },
    {
     "data": {
      "image/png": "[encoded data removed]",
      "text/plain": [
       "<Figure size 640x480 with 1 Axes>"
      ]
     },
     "metadata": {},
     "output_type": "display_data"
    }
   ],
   "source": [
    "plt.scatter(x=outliers_df['Area'], y=outliers_df['Price'])\n",
    "\n",
    "reg_x = [0, 500]\n",
    "reg_y = [params.const, params.const + 500 * params.Area]\n",
    "\n",
    "plt.plot(reg_x, reg_y, color='red')"
   ]
  },
  {
   "cell_type": "code",
   "execution_count": 171,
   "metadata": {},
   "outputs": [
    {
     "data": {
      "text/plain": [
       "0.6973756063380991"
      ]
     },
     "execution_count": 171,
     "metadata": {},
     "output_type": "execute_result"
    }
   ],
   "source": [
    "model_1_r = model.rsquared\n",
    "\n",
    "model_1_r"
   ]
  },
  {
   "cell_type": "code",
   "execution_count": 1,
   "metadata": {},
   "outputs": [
    {
     "ename": "NameError",
     "evalue": "name 'df' is not defined",
     "output_type": "error",
     "traceback": [
      "\u001b[0;31m---------------------------------------------------------------------------\u001b[0m",
      "\u001b[0;31mNameError\u001b[0m                                 Traceback (most recent call last)",
      "\u001b[1;32m/home/pstet/code/foe-exercises/statistics/ws2/ws2.ipynb Cell 28\u001b[0m line \u001b[0;36m1\n\u001b[0;32m----> <a href='vscode-notebook-cell:/home/pstet/code/foe-exercises/statistics/ws2/ws2.ipynb#X36sZmlsZQ%3D%3D?line=0'>1</a>\u001b[0m df_filtered \u001b[39m=\u001b[39m df\u001b[39m.\u001b[39mdrop(df\u001b[39m.\u001b[39miloc[outliers[\u001b[39m0\u001b[39m], :]\u001b[39m.\u001b[39mindex, axis\u001b[39m=\u001b[39m\u001b[39m0\u001b[39m)\n\u001b[1;32m      <a href='vscode-notebook-cell:/home/pstet/code/foe-exercises/statistics/ws2/ws2.ipynb#X36sZmlsZQ%3D%3D?line=2'>3</a>\u001b[0m \u001b[39mprint\u001b[39m(\u001b[39mf\u001b[39m\u001b[39m\"\u001b[39m\u001b[39mThe old df has \u001b[39m\u001b[39m{\u001b[39;00mdf\u001b[39m.\u001b[39mshape[\u001b[39m0\u001b[39m]\u001b[39m}\u001b[39;00m\u001b[39m rows, the filtered df has \u001b[39m\u001b[39m{\u001b[39;00mdf_filtered\u001b[39m.\u001b[39mshape[\u001b[39m0\u001b[39m]\u001b[39m}\u001b[39;00m\u001b[39m rows\u001b[39m\u001b[39m\"\u001b[39m)\n",
      "\u001b[0;31mNameError\u001b[0m: name 'df' is not defined"
     ]
    }
   ],
   "source": [
    "df_filtered = df.drop(df.iloc[outliers[0], :].index, axis=0)\n",
    "\n",
    "print(f\"The old df has {df.shape[0]} rows, the filtered df has {df_filtered.shape[0]} rows\")"
   ]
  },
  {
   "cell_type": "code",
   "execution_count": 182,
   "metadata": {},
   "outputs": [
    {
     "data": {
      "text/plain": [
       "<matplotlib.collections.PathCollection at 0x7f8b5468a250>"
      ]
     },
     "execution_count": 182,
     "metadata": {},
     "output_type": "execute_result"
    },
    {
     "data": {
      "image/png": "[encoded data removed]",
      "text/plain": [
       "<Figure size 640x480 with 1 Axes>"
      ]
     },
     "metadata": {},
     "output_type": "display_data"
    }
   ],
   "source": [
    "plt.scatter(df_filtered['Area'], df_filtered['Price'])"
   ]
  },
  {
   "cell_type": "code",
   "execution_count": 183,
   "metadata": {},
   "outputs": [
    {
     "data": {
      "text/html": [
       "<table class=\"simpletable\">\n",
       "<caption>OLS Regression Results</caption>\n",
       "<tr>\n",
       "  <th>Dep. Variable:</th>          <td>Price</td>      <th>  R-squared:         </th> <td>   0.701</td> \n",
       "</tr>\n",
       "<tr>\n",
       "  <th>Model:</th>                   <td>OLS</td>       <th>  Adj. R-squared:    </th> <td>   0.700</td> \n",
       "</tr>\n",
       "<tr>\n",
       "  <th>Method:</th>             <td>Least Squares</td>  <th>  F-statistic:       </th> <td>   2109.</td> \n",
       "</tr>\n",
       "<tr>\n",
       "  <th>Date:</th>             <td>Thu, 19 Oct 2023</td> <th>  Prob (F-statistic):</th> <td>3.18e-238</td>\n",
       "</tr>\n",
       "<tr>\n",
       "  <th>Time:</th>                 <td>22:17:17</td>     <th>  Log-Likelihood:    </th> <td> -12335.</td> \n",
       "</tr>\n",
       "<tr>\n",
       "  <th>No. Observations:</th>      <td>   903</td>      <th>  AIC:               </th> <td>2.467e+04</td>\n",
       "</tr>\n",
       "<tr>\n",
       "  <th>Df Residuals:</th>          <td>   901</td>      <th>  BIC:               </th> <td>2.468e+04</td>\n",
       "</tr>\n",
       "<tr>\n",
       "  <th>Df Model:</th>              <td>     1</td>      <th>                     </th>     <td> </td>    \n",
       "</tr>\n",
       "<tr>\n",
       "  <th>Covariance Type:</th>      <td>nonrobust</td>    <th>                     </th>     <td> </td>    \n",
       "</tr>\n",
       "</table>\n",
       "<table class=\"simpletable\">\n",
       "<tr>\n",
       "    <td></td>       <th>coef</th>     <th>std err</th>      <th>t</th>      <th>P>|t|</th>  <th>[0.025</th>    <th>0.975]</th>  \n",
       "</tr>\n",
       "<tr>\n",
       "  <th>const</th> <td>-3.864e+04</td> <td> 1.51e+04</td> <td>   -2.558</td> <td> 0.011</td> <td>-6.83e+04</td> <td>-8997.716</td>\n",
       "</tr>\n",
       "<tr>\n",
       "  <th>Area</th>  <td> 6737.0410</td> <td>  146.696</td> <td>   45.925</td> <td> 0.000</td> <td> 6449.135</td> <td> 7024.947</td>\n",
       "</tr>\n",
       "</table>\n",
       "<table class=\"simpletable\">\n",
       "<tr>\n",
       "  <th>Omnibus:</th>       <td>170.625</td> <th>  Durbin-Watson:     </th> <td>   1.784</td> \n",
       "</tr>\n",
       "<tr>\n",
       "  <th>Prob(Omnibus):</th> <td> 0.000</td>  <th>  Jarque-Bera (JB):  </th> <td> 659.977</td> \n",
       "</tr>\n",
       "<tr>\n",
       "  <th>Skew:</th>          <td> 0.849</td>  <th>  Prob(JB):          </th> <td>4.87e-144</td>\n",
       "</tr>\n",
       "<tr>\n",
       "  <th>Kurtosis:</th>      <td> 6.828</td>  <th>  Cond. No.          </th> <td>    225.</td> \n",
       "</tr>\n",
       "</table><br/><br/>Notes:<br/>[1] Standard Errors assume that the covariance matrix of the errors is correctly specified."
      ],
      "text/latex": [
       "\\begin{center}\n",
       "\\begin{tabular}{lclc}\n",
       "\\toprule\n",
       "\\textbf{Dep. Variable:}    &      Price       & \\textbf{  R-squared:         } &     0.701   \\\\\n",
       "\\textbf{Model:}            &       OLS        & \\textbf{  Adj. R-squared:    } &     0.700   \\\\\n",
       "\\textbf{Method:}           &  Least Squares   & \\textbf{  F-statistic:       } &     2109.   \\\\\n",
       "\\textbf{Date:}             & Thu, 19 Oct 2023 & \\textbf{  Prob (F-statistic):} & 3.18e-238   \\\\\n",
       "\\textbf{Time:}             &     22:17:17     & \\textbf{  Log-Likelihood:    } &   -12335.   \\\\\n",
       "\\textbf{No. Observations:} &         903      & \\textbf{  AIC:               } & 2.467e+04   \\\\\n",
       "\\textbf{Df Residuals:}     &         901      & \\textbf{  BIC:               } & 2.468e+04   \\\\\n",
       "\\textbf{Df Model:}         &           1      & \\textbf{                     } &             \\\\\n",
       "\\textbf{Covariance Type:}  &    nonrobust     & \\textbf{                     } &             \\\\\n",
       "\\bottomrule\n",
       "\\end{tabular}\n",
       "\\begin{tabular}{lcccccc}\n",
       "               & \\textbf{coef} & \\textbf{std err} & \\textbf{t} & \\textbf{P$> |$t$|$} & \\textbf{[0.025} & \\textbf{0.975]}  \\\\\n",
       "\\midrule\n",
       "\\textbf{const} &   -3.864e+04  &     1.51e+04     &    -2.558  &         0.011        &    -6.83e+04    &    -8997.716     \\\\\n",
       "\\textbf{Area}  &    6737.0410  &      146.696     &    45.925  &         0.000        &     6449.135    &     7024.947     \\\\\n",
       "\\bottomrule\n",
       "\\end{tabular}\n",
       "\\begin{tabular}{lclc}\n",
       "\\textbf{Omnibus:}       & 170.625 & \\textbf{  Durbin-Watson:     } &     1.784  \\\\\n",
       "\\textbf{Prob(Omnibus):} &   0.000 & \\textbf{  Jarque-Bera (JB):  } &   659.977  \\\\\n",
       "\\textbf{Skew:}          &   0.849 & \\textbf{  Prob(JB):          } & 4.87e-144  \\\\\n",
       "\\textbf{Kurtosis:}      &   6.828 & \\textbf{  Cond. No.          } &      225.  \\\\\n",
       "\\bottomrule\n",
       "\\end{tabular}\n",
       "%\\caption{OLS Regression Results}\n",
       "\\end{center}\n",
       "\n",
       "Notes: \\newline\n",
       " [1] Standard Errors assume that the covariance matrix of the errors is correctly specified."
      ],
      "text/plain": [
       "<class 'statsmodels.iolib.summary.Summary'>\n",
       "\"\"\"\n",
       "                            OLS Regression Results                            \n",
       "==============================================================================\n",
       "Dep. Variable:                  Price   R-squared:                       0.701\n",
       "Model:                            OLS   Adj. R-squared:                  0.700\n",
       "Method:                 Least Squares   F-statistic:                     2109.\n",
       "Date:                Thu, 19 Oct 2023   Prob (F-statistic):          3.18e-238\n",
       "Time:                        22:17:17   Log-Likelihood:                -12335.\n",
       "No. Observations:                 903   AIC:                         2.467e+04\n",
       "Df Residuals:                     901   BIC:                         2.468e+04\n",
       "Df Model:                           1                                         \n",
       "Covariance Type:            nonrobust                                         \n",
       "==============================================================================\n",
       "                 coef    std err          t      P>|t|      [0.025      0.975]\n",
       "------------------------------------------------------------------------------\n",
       "const      -3.864e+04   1.51e+04     -2.558      0.011   -6.83e+04   -8997.716\n",
       "Area        6737.0410    146.696     45.925      0.000    6449.135    7024.947\n",
       "==============================================================================\n",
       "Omnibus:                      170.625   Durbin-Watson:                   1.784\n",
       "Prob(Omnibus):                  0.000   Jarque-Bera (JB):              659.977\n",
       "Skew:                           0.849   Prob(JB):                    4.87e-144\n",
       "Kurtosis:                       6.828   Cond. No.                         225.\n",
       "==============================================================================\n",
       "\n",
       "Notes:\n",
       "[1] Standard Errors assume that the covariance matrix of the errors is correctly specified.\n",
       "\"\"\""
      ]
     },
     "execution_count": 183,
     "metadata": {},
     "output_type": "execute_result"
    }
   ],
   "source": [
    "model_filtered = sm.OLS(df_filtered['Price'], sm.add_constant(df_filtered['Area'])).fit()\n",
    "\n",
    "model_filtered.summary()"
   ]
  },
  {
   "cell_type": "code",
   "execution_count": 187,
   "metadata": {},
   "outputs": [
    {
     "data": {
      "text/plain": [
       "const   -38644.691609\n",
       "Area      6737.040954\n",
       "dtype: float64"
      ]
     },
     "execution_count": 187,
     "metadata": {},
     "output_type": "execute_result"
    }
   ],
   "source": [
    "filtered_params = model_filtered.params\n",
    "filtered_params"
   ]
  },
  {
   "cell_type": "markdown",
   "metadata": {},
   "source": [
    "The new $R^2$ value is 0.701. The new equation:\n",
    "\n",
    "$P = -38644.7 + A \\cdot 6737.0$\n",
    "\n",
    "We can see that ${\\beta}_1$ Decreased by about 300, while the value for ${\\beta}_0$ increased greatly, by about 100000."
   ]
  },
  {
   "cell_type": "code",
   "execution_count": 185,
   "metadata": {},
   "outputs": [
    {
     "data": {
      "text/plain": [
       "<seaborn.axisgrid.FacetGrid at 0x7f8b546f9210>"
      ]
     },
     "execution_count": 185,
     "metadata": {},
     "output_type": "execute_result"
    },
    {
     "data": {
      "image/png": "[encoded data removed]",
      "text/plain": [
       "<Figure size 500x500 with 1 Axes>"
      ]
     },
     "metadata": {},
     "output_type": "display_data"
    }
   ],
   "source": [
    "sns.lmplot(data=df_filtered, x=\"Area\", y=\"Price\", line_kws={'color': 'red'}, ci=None, truncate=False)"
   ]
  },
  {
   "cell_type": "code",
   "execution_count": 220,
   "metadata": {},
   "outputs": [],
   "source": [
    "def predict_price(area):\n",
    "    price = params.const + area * params.Area\n",
    "    filtered_price = filtered_params.const + area * filtered_params.Area\n",
    "    \n",
    "    print(f\"Area: {area:03}, Price: {round(price):,}, with filtered model: {round(filtered_price):,}\")"
   ]
  },
  {
   "cell_type": "code",
   "execution_count": 221,
   "metadata": {},
   "outputs": [
    {
     "name": "stdout",
     "output_type": "stream",
     "text": [
      "Area: 044, Price: 213,461, with filtered model: 257,785\n",
      "Area: 100, Price: 656,842, with filtered model: 635,059\n",
      "Area: 250, Price: 1,844,471, with filtered model: 1,645,616\n",
      "Area: 400, Price: 3,032,099, with filtered model: 2,656,172\n",
      "Area: 550, Price: 4,219,727, with filtered model: 3,666,728\n"
     ]
    }
   ],
   "source": [
    "areas = [44, 100, 250, 400, 550]\n",
    "for area in areas:\n",
    "    predict_price(area)"
   ]
  },
  {
   "cell_type": "markdown",
   "metadata": {},
   "source": [
    "So, what's happening with the new model, is that lower values for area have a higher predicted price. Higher values for area, on the contrary, have a lower predicted price."
   ]
  }
 ],
 "metadata": {
  "kernelspec": {
   "display_name": "venv",
   "language": "python",
   "name": "python3"
  },
  "language_info": {
   "codemirror_mode": {
    "name": "ipython",
    "version": 3
   },
   "file_extension": ".py",
   "mimetype": "text/x-python",
   "name": "python",
   "nbconvert_exporter": "python",
   "pygments_lexer": "ipython3",
   "version": "3.11.5"
  }
 },
 "nbformat": 4,
 "nbformat_minor": 2
}
