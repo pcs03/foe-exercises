{
 "cells": [
  {
   "cell_type": "code",
   "execution_count": 24,
   "metadata": {},
   "outputs": [],
   "source": [
    "\"\"\"\n",
    "Created on Thu Sep 22 13:06:00 2022\n",
    "\n",
    "# Explorative Data Analysis Workship 1\n",
    "\n",
    "\n",
    "The instructions in this file assume that you are using Spyder by Anaconda. \n",
    "They might be different if you are using Juypler. For example: Jupyler prints\n",
    "all columns when you use the command df.head(). Syder just prints some columns, \n",
    "and it is desirable to use the Variable Explorer instead. \n",
    "\n",
    "\n",
    "# Objective:\n",
    "    1.- Develop a regression algorithm\n",
    "    2.- Plot residuals and verify distribution.\n",
    "    3.- Obtain the R-Squared values\n",
    "    4.- Analyse Influencial Waypoints\n",
    "    5.- Cook's Distance\n",
    "    6.- Predict Values\n",
    "    \n",
    "@author: Alejandro Murrieta-Mendoza\n",
    "\"\"\"\n",
    "# 0: Import all your required libreries \n",
    "import statsmodels.api as sm\n",
    "from statsmodels.formula.api import ols\n",
    "from statsmodels.sandbox.regression.predstd import wls_prediction_std\n",
    "from sklearn.preprocessing import StandardScaler\n",
    "from scipy import stats\n",
    "\n",
    "import matplotlib.pyplot as plt\n",
    "import seaborn as sns\n",
    "import scipy.stats as st\n",
    "\n",
    "import pandas as pd\n",
    "import numpy as np\n",
    "\n",
    "import math"
   ]
  },
  {
   "cell_type": "markdown",
   "metadata": {},
   "source": [
    "Load the salaries csv"
   ]
  },
  {
   "cell_type": "code",
   "execution_count": 25,
   "metadata": {},
   "outputs": [
    {
     "data": {
      "text/html": [
       "<div>\n",
       "<style scoped>\n",
       "    .dataframe tbody tr th:only-of-type {\n",
       "        vertical-align: middle;\n",
       "    }\n",
       "\n",
       "    .dataframe tbody tr th {\n",
       "        vertical-align: top;\n",
       "    }\n",
       "\n",
       "    .dataframe thead th {\n",
       "        text-align: right;\n",
       "    }\n",
       "</style>\n",
       "<table border=\"1\" class=\"dataframe\">\n",
       "  <thead>\n",
       "    <tr style=\"text-align: right;\">\n",
       "      <th></th>\n",
       "      <th>age</th>\n",
       "      <th>salary</th>\n",
       "      <th>add_comp</th>\n",
       "      <th>overall_exp</th>\n",
       "      <th>job_exp</th>\n",
       "      <th>education</th>\n",
       "      <th>gender</th>\n",
       "    </tr>\n",
       "  </thead>\n",
       "  <tbody>\n",
       "    <tr>\n",
       "      <th>0</th>\n",
       "      <td>25-34</td>\n",
       "      <td>51700.0</td>\n",
       "      <td>0.0</td>\n",
       "      <td>5-7 years</td>\n",
       "      <td>5-7 years</td>\n",
       "      <td>Master's degree</td>\n",
       "      <td>Woman</td>\n",
       "    </tr>\n",
       "    <tr>\n",
       "      <th>1</th>\n",
       "      <td>25-34</td>\n",
       "      <td>62790.0</td>\n",
       "      <td>4600.0</td>\n",
       "      <td>8 - 10 years</td>\n",
       "      <td>5-7 years</td>\n",
       "      <td>College degree</td>\n",
       "      <td>Non-binary</td>\n",
       "    </tr>\n",
       "    <tr>\n",
       "      <th>2</th>\n",
       "      <td>25-34</td>\n",
       "      <td>31960.0</td>\n",
       "      <td>0.0</td>\n",
       "      <td>2 - 4 years</td>\n",
       "      <td>2 - 4 years</td>\n",
       "      <td>College degree</td>\n",
       "      <td>Woman</td>\n",
       "    </tr>\n",
       "    <tr>\n",
       "      <th>3</th>\n",
       "      <td>25-34</td>\n",
       "      <td>58280.0</td>\n",
       "      <td>2820.0</td>\n",
       "      <td>8 - 10 years</td>\n",
       "      <td>5-7 years</td>\n",
       "      <td>College degree</td>\n",
       "      <td>Woman</td>\n",
       "    </tr>\n",
       "    <tr>\n",
       "      <th>4</th>\n",
       "      <td>25-34</td>\n",
       "      <td>56400.0</td>\n",
       "      <td>6580.0</td>\n",
       "      <td>8 - 10 years</td>\n",
       "      <td>5-7 years</td>\n",
       "      <td>College degree</td>\n",
       "      <td>Woman</td>\n",
       "    </tr>\n",
       "  </tbody>\n",
       "</table>\n",
       "</div>"
      ],
      "text/plain": [
       "     age   salary  add_comp   overall_exp      job_exp        education  \\\n",
       "0  25-34  51700.0       0.0     5-7 years    5-7 years  Master's degree   \n",
       "1  25-34  62790.0    4600.0  8 - 10 years    5-7 years   College degree   \n",
       "2  25-34  31960.0       0.0   2 - 4 years  2 - 4 years   College degree   \n",
       "3  25-34  58280.0    2820.0  8 - 10 years    5-7 years   College degree   \n",
       "4  25-34  56400.0    6580.0  8 - 10 years    5-7 years   College degree   \n",
       "\n",
       "       gender  \n",
       "0       Woman  \n",
       "1  Non-binary  \n",
       "2       Woman  \n",
       "3       Woman  \n",
       "4       Woman  "
      ]
     },
     "execution_count": 25,
     "metadata": {},
     "output_type": "execute_result"
    }
   ],
   "source": [
    "df = pd.read_csv('./../ws1/salaries_clean.csv', index_col=0)\n",
    "\n",
    "df.head()"
   ]
  },
  {
   "cell_type": "markdown",
   "metadata": {},
   "source": [
    "Let's make a model of overall work experience vs salary. Firstly, let's make a mapping for experience groups to integers."
   ]
  },
  {
   "cell_type": "code",
   "execution_count": 26,
   "metadata": {},
   "outputs": [
    {
     "data": {
      "text/plain": [
       "array(['5-7 years', '8 - 10 years', '2 - 4 years', '21 - 30 years',\n",
       "       '11 - 20 years', '1 year or less', '41 years or more',\n",
       "       '31 - 40 years'], dtype=object)"
      ]
     },
     "execution_count": 26,
     "metadata": {},
     "output_type": "execute_result"
    }
   ],
   "source": [
    "df['overall_exp'].unique()"
   ]
  },
  {
   "cell_type": "code",
   "execution_count": 27,
   "metadata": {},
   "outputs": [
    {
     "data": {
      "text/plain": [
       "array([2, 3, 1, 5, 4, 0, 7, 6])"
      ]
     },
     "execution_count": 27,
     "metadata": {},
     "output_type": "execute_result"
    }
   ],
   "source": [
    "mapping = {\n",
    "    \"1 year or less\": 0,\n",
    "    \"2 - 4 years\": 1,\n",
    "    \"5-7 years\": 2,\n",
    "    \"8 - 10 years\": 3,\n",
    "    \"11 - 20 years\": 4,\n",
    "    \"21 - 30 years\": 5,\n",
    "    \"31 - 40 years\": 6,\n",
    "    \"41 years or more\": 7 \n",
    "}\n",
    "\n",
    "df['overall_exp'] = df['overall_exp'].apply(lambda x: mapping[x])\n",
    "\n",
    "df['overall_exp'].unique()"
   ]
  },
  {
   "cell_type": "markdown",
   "metadata": {},
   "source": [
    "Every experience group is now tied to an integer value, in increasing order."
   ]
  },
  {
   "cell_type": "code",
   "execution_count": 28,
   "metadata": {},
   "outputs": [
    {
     "data": {
      "text/html": [
       "<table class=\"simpletable\">\n",
       "<caption>OLS Regression Results</caption>\n",
       "<tr>\n",
       "  <th>Dep. Variable:</th>         <td>salary</td>      <th>  R-squared:         </th>  <td>   0.000</td>  \n",
       "</tr>\n",
       "<tr>\n",
       "  <th>Model:</th>                   <td>OLS</td>       <th>  Adj. R-squared:    </th>  <td>   0.000</td>  \n",
       "</tr>\n",
       "<tr>\n",
       "  <th>Method:</th>             <td>Least Squares</td>  <th>  F-statistic:       </th>  <td>   8.317</td>  \n",
       "</tr>\n",
       "<tr>\n",
       "  <th>Date:</th>             <td>Thu, 19 Oct 2023</td> <th>  Prob (F-statistic):</th>   <td>0.00393</td>  \n",
       "</tr>\n",
       "<tr>\n",
       "  <th>Time:</th>                 <td>22:54:41</td>     <th>  Log-Likelihood:    </th> <td>-4.0382e+05</td>\n",
       "</tr>\n",
       "<tr>\n",
       "  <th>No. Observations:</th>      <td> 27485</td>      <th>  AIC:               </th>  <td>8.076e+05</td> \n",
       "</tr>\n",
       "<tr>\n",
       "  <th>Df Residuals:</th>          <td> 27483</td>      <th>  BIC:               </th>  <td>8.077e+05</td> \n",
       "</tr>\n",
       "<tr>\n",
       "  <th>Df Model:</th>              <td>     1</td>      <th>                     </th>      <td> </td>     \n",
       "</tr>\n",
       "<tr>\n",
       "  <th>Covariance Type:</th>      <td>nonrobust</td>    <th>                     </th>      <td> </td>     \n",
       "</tr>\n",
       "</table>\n",
       "<table class=\"simpletable\">\n",
       "<tr>\n",
       "       <td></td>          <th>coef</th>     <th>std err</th>      <th>t</th>      <th>P>|t|</th>  <th>[0.025</th>    <th>0.975]</th>  \n",
       "</tr>\n",
       "<tr>\n",
       "  <th>const</th>       <td> 6.144e+04</td> <td> 9027.961</td> <td>    6.806</td> <td> 0.000</td> <td> 4.37e+04</td> <td> 7.91e+04</td>\n",
       "</tr>\n",
       "<tr>\n",
       "  <th>overall_exp</th> <td> 7332.0618</td> <td> 2542.323</td> <td>    2.884</td> <td> 0.004</td> <td> 2348.980</td> <td> 1.23e+04</td>\n",
       "</tr>\n",
       "</table>\n",
       "<table class=\"simpletable\">\n",
       "<tr>\n",
       "  <th>Omnibus:</th>       <td>126683.350</td> <th>  Durbin-Watson:     </th>     <td>   2.000</td>    \n",
       "</tr>\n",
       "<tr>\n",
       "  <th>Prob(Omnibus):</th>   <td> 0.000</td>   <th>  Jarque-Bera (JB):  </th> <td>822768072946.215</td>\n",
       "</tr>\n",
       "<tr>\n",
       "  <th>Skew:</th>            <td>162.727</td>  <th>  Prob(JB):          </th>     <td>    0.00</td>    \n",
       "</tr>\n",
       "<tr>\n",
       "  <th>Kurtosis:</th>       <td>26804.830</td> <th>  Cond. No.          </th>     <td>    9.76</td>    \n",
       "</tr>\n",
       "</table><br/><br/>Notes:<br/>[1] Standard Errors assume that the covariance matrix of the errors is correctly specified."
      ],
      "text/latex": [
       "\\begin{center}\n",
       "\\begin{tabular}{lclc}\n",
       "\\toprule\n",
       "\\textbf{Dep. Variable:}    &      salary      & \\textbf{  R-squared:         } &        0.000      \\\\\n",
       "\\textbf{Model:}            &       OLS        & \\textbf{  Adj. R-squared:    } &        0.000      \\\\\n",
       "\\textbf{Method:}           &  Least Squares   & \\textbf{  F-statistic:       } &        8.317      \\\\\n",
       "\\textbf{Date:}             & Thu, 19 Oct 2023 & \\textbf{  Prob (F-statistic):} &     0.00393       \\\\\n",
       "\\textbf{Time:}             &     22:54:41     & \\textbf{  Log-Likelihood:    } &   -4.0382e+05     \\\\\n",
       "\\textbf{No. Observations:} &       27485      & \\textbf{  AIC:               } &    8.076e+05      \\\\\n",
       "\\textbf{Df Residuals:}     &       27483      & \\textbf{  BIC:               } &    8.077e+05      \\\\\n",
       "\\textbf{Df Model:}         &           1      & \\textbf{                     } &                   \\\\\n",
       "\\textbf{Covariance Type:}  &    nonrobust     & \\textbf{                     } &                   \\\\\n",
       "\\bottomrule\n",
       "\\end{tabular}\n",
       "\\begin{tabular}{lcccccc}\n",
       "                      & \\textbf{coef} & \\textbf{std err} & \\textbf{t} & \\textbf{P$> |$t$|$} & \\textbf{[0.025} & \\textbf{0.975]}  \\\\\n",
       "\\midrule\n",
       "\\textbf{const}        &    6.144e+04  &     9027.961     &     6.806  &         0.000        &     4.37e+04    &     7.91e+04     \\\\\n",
       "\\textbf{overall\\_exp} &    7332.0618  &     2542.323     &     2.884  &         0.004        &     2348.980    &     1.23e+04     \\\\\n",
       "\\bottomrule\n",
       "\\end{tabular}\n",
       "\\begin{tabular}{lclc}\n",
       "\\textbf{Omnibus:}       & 126683.350 & \\textbf{  Durbin-Watson:     } &        2.000      \\\\\n",
       "\\textbf{Prob(Omnibus):} &    0.000   & \\textbf{  Jarque-Bera (JB):  } & 822768072946.215  \\\\\n",
       "\\textbf{Skew:}          &  162.727   & \\textbf{  Prob(JB):          } &         0.00      \\\\\n",
       "\\textbf{Kurtosis:}      & 26804.830  & \\textbf{  Cond. No.          } &         9.76      \\\\\n",
       "\\bottomrule\n",
       "\\end{tabular}\n",
       "%\\caption{OLS Regression Results}\n",
       "\\end{center}\n",
       "\n",
       "Notes: \\newline\n",
       " [1] Standard Errors assume that the covariance matrix of the errors is correctly specified."
      ],
      "text/plain": [
       "<class 'statsmodels.iolib.summary.Summary'>\n",
       "\"\"\"\n",
       "                            OLS Regression Results                            \n",
       "==============================================================================\n",
       "Dep. Variable:                 salary   R-squared:                       0.000\n",
       "Model:                            OLS   Adj. R-squared:                  0.000\n",
       "Method:                 Least Squares   F-statistic:                     8.317\n",
       "Date:                Thu, 19 Oct 2023   Prob (F-statistic):            0.00393\n",
       "Time:                        22:54:41   Log-Likelihood:            -4.0382e+05\n",
       "No. Observations:               27485   AIC:                         8.076e+05\n",
       "Df Residuals:                   27483   BIC:                         8.077e+05\n",
       "Df Model:                           1                                         \n",
       "Covariance Type:            nonrobust                                         \n",
       "===============================================================================\n",
       "                  coef    std err          t      P>|t|      [0.025      0.975]\n",
       "-------------------------------------------------------------------------------\n",
       "const        6.144e+04   9027.961      6.806      0.000    4.37e+04    7.91e+04\n",
       "overall_exp  7332.0618   2542.323      2.884      0.004    2348.980    1.23e+04\n",
       "==============================================================================\n",
       "Omnibus:                   126683.350   Durbin-Watson:                   2.000\n",
       "Prob(Omnibus):                  0.000   Jarque-Bera (JB):     822768072946.215\n",
       "Skew:                         162.727   Prob(JB):                         0.00\n",
       "Kurtosis:                   26804.830   Cond. No.                         9.76\n",
       "==============================================================================\n",
       "\n",
       "Notes:\n",
       "[1] Standard Errors assume that the covariance matrix of the errors is correctly specified.\n",
       "\"\"\""
      ]
     },
     "execution_count": 28,
     "metadata": {},
     "output_type": "execute_result"
    }
   ],
   "source": [
    "model = sm.OLS(df['salary'], sm.add_constant(df['overall_exp'])).fit()\n",
    "model.summary()"
   ]
  },
  {
   "cell_type": "code",
   "execution_count": 29,
   "metadata": {},
   "outputs": [
    {
     "data": {
      "text/plain": [
       "<seaborn.axisgrid.FacetGrid at 0x7fb97c12b710>"
      ]
     },
     "execution_count": 29,
     "metadata": {},
     "output_type": "execute_result"
    },
    {
     "data": {
      "image/png": "[encoded data removed]",
      "text/plain": [
       "<Figure size 500x500 with 1 Axes>"
      ]
     },
     "metadata": {},
     "output_type": "display_data"
    }
   ],
   "source": [
    "sns.lmplot(data=df, x='overall_exp', y='salary')"
   ]
  },
  {
   "cell_type": "markdown",
   "metadata": {},
   "source": [
    "Okay, that looks pretty ridiculous... You don't have to be a genius to recognize this is a garbage value, let's cut it out before doing any further analysis."
   ]
  },
  {
   "cell_type": "code",
   "execution_count": 30,
   "metadata": {},
   "outputs": [],
   "source": [
    "df = df.drop(df['salary'].nlargest(1).index, axis=0)"
   ]
  },
  {
   "cell_type": "code",
   "execution_count": 32,
   "metadata": {},
   "outputs": [
    {
     "data": {
      "text/html": [
       "<table class=\"simpletable\">\n",
       "<caption>OLS Regression Results</caption>\n",
       "<tr>\n",
       "  <th>Dep. Variable:</th>         <td>salary</td>      <th>  R-squared:         </th>  <td>   0.027</td>  \n",
       "</tr>\n",
       "<tr>\n",
       "  <th>Model:</th>                   <td>OLS</td>       <th>  Adj. R-squared:    </th>  <td>   0.027</td>  \n",
       "</tr>\n",
       "<tr>\n",
       "  <th>Method:</th>             <td>Least Squares</td>  <th>  F-statistic:       </th>  <td>   764.0</td>  \n",
       "</tr>\n",
       "<tr>\n",
       "  <th>Date:</th>             <td>Thu, 19 Oct 2023</td> <th>  Prob (F-statistic):</th>  <td>6.86e-166</td> \n",
       "</tr>\n",
       "<tr>\n",
       "  <th>Time:</th>                 <td>22:54:54</td>     <th>  Log-Likelihood:    </th> <td>-3.4349e+05</td>\n",
       "</tr>\n",
       "<tr>\n",
       "  <th>No. Observations:</th>      <td> 27484</td>      <th>  AIC:               </th>  <td>6.870e+05</td> \n",
       "</tr>\n",
       "<tr>\n",
       "  <th>Df Residuals:</th>          <td> 27482</td>      <th>  BIC:               </th>  <td>6.870e+05</td> \n",
       "</tr>\n",
       "<tr>\n",
       "  <th>Df Model:</th>              <td>     1</td>      <th>                     </th>      <td> </td>     \n",
       "</tr>\n",
       "<tr>\n",
       "  <th>Covariance Type:</th>      <td>nonrobust</td>    <th>                     </th>      <td> </td>     \n",
       "</tr>\n",
       "</table>\n",
       "<table class=\"simpletable\">\n",
       "<tr>\n",
       "       <td></td>          <th>coef</th>     <th>std err</th>      <th>t</th>      <th>P>|t|</th>  <th>[0.025</th>    <th>0.975]</th>  \n",
       "</tr>\n",
       "<tr>\n",
       "  <th>const</th>       <td> 5.633e+04</td> <td> 1006.018</td> <td>   55.991</td> <td> 0.000</td> <td> 5.44e+04</td> <td> 5.83e+04</td>\n",
       "</tr>\n",
       "<tr>\n",
       "  <th>overall_exp</th> <td> 7830.3690</td> <td>  283.299</td> <td>   27.640</td> <td> 0.000</td> <td> 7275.089</td> <td> 8385.649</td>\n",
       "</tr>\n",
       "</table>\n",
       "<table class=\"simpletable\">\n",
       "<tr>\n",
       "  <th>Omnibus:</th>       <td>61994.984</td> <th>  Durbin-Watson:     </th>    <td>   1.956</td>   \n",
       "</tr>\n",
       "<tr>\n",
       "  <th>Prob(Omnibus):</th>  <td> 0.000</td>   <th>  Jarque-Bera (JB):  </th> <td>1445679093.838</td>\n",
       "</tr>\n",
       "<tr>\n",
       "  <th>Skew:</th>           <td>20.847</td>   <th>  Prob(JB):          </th>    <td>    0.00</td>   \n",
       "</tr>\n",
       "<tr>\n",
       "  <th>Kurtosis:</th>      <td>1125.800</td>  <th>  Cond. No.          </th>    <td>    9.76</td>   \n",
       "</tr>\n",
       "</table><br/><br/>Notes:<br/>[1] Standard Errors assume that the covariance matrix of the errors is correctly specified."
      ],
      "text/latex": [
       "\\begin{center}\n",
       "\\begin{tabular}{lclc}\n",
       "\\toprule\n",
       "\\textbf{Dep. Variable:}    &      salary      & \\textbf{  R-squared:         } &       0.027     \\\\\n",
       "\\textbf{Model:}            &       OLS        & \\textbf{  Adj. R-squared:    } &       0.027     \\\\\n",
       "\\textbf{Method:}           &  Least Squares   & \\textbf{  F-statistic:       } &       764.0     \\\\\n",
       "\\textbf{Date:}             & Thu, 19 Oct 2023 & \\textbf{  Prob (F-statistic):} &   6.86e-166     \\\\\n",
       "\\textbf{Time:}             &     22:54:54     & \\textbf{  Log-Likelihood:    } &  -3.4349e+05    \\\\\n",
       "\\textbf{No. Observations:} &       27484      & \\textbf{  AIC:               } &   6.870e+05     \\\\\n",
       "\\textbf{Df Residuals:}     &       27482      & \\textbf{  BIC:               } &   6.870e+05     \\\\\n",
       "\\textbf{Df Model:}         &           1      & \\textbf{                     } &                 \\\\\n",
       "\\textbf{Covariance Type:}  &    nonrobust     & \\textbf{                     } &                 \\\\\n",
       "\\bottomrule\n",
       "\\end{tabular}\n",
       "\\begin{tabular}{lcccccc}\n",
       "                      & \\textbf{coef} & \\textbf{std err} & \\textbf{t} & \\textbf{P$> |$t$|$} & \\textbf{[0.025} & \\textbf{0.975]}  \\\\\n",
       "\\midrule\n",
       "\\textbf{const}        &    5.633e+04  &     1006.018     &    55.991  &         0.000        &     5.44e+04    &     5.83e+04     \\\\\n",
       "\\textbf{overall\\_exp} &    7830.3690  &      283.299     &    27.640  &         0.000        &     7275.089    &     8385.649     \\\\\n",
       "\\bottomrule\n",
       "\\end{tabular}\n",
       "\\begin{tabular}{lclc}\n",
       "\\textbf{Omnibus:}       & 61994.984 & \\textbf{  Durbin-Watson:     } &       1.956     \\\\\n",
       "\\textbf{Prob(Omnibus):} &    0.000  & \\textbf{  Jarque-Bera (JB):  } & 1445679093.838  \\\\\n",
       "\\textbf{Skew:}          &   20.847  & \\textbf{  Prob(JB):          } &        0.00     \\\\\n",
       "\\textbf{Kurtosis:}      &  1125.800 & \\textbf{  Cond. No.          } &        9.76     \\\\\n",
       "\\bottomrule\n",
       "\\end{tabular}\n",
       "%\\caption{OLS Regression Results}\n",
       "\\end{center}\n",
       "\n",
       "Notes: \\newline\n",
       " [1] Standard Errors assume that the covariance matrix of the errors is correctly specified."
      ],
      "text/plain": [
       "<class 'statsmodels.iolib.summary.Summary'>\n",
       "\"\"\"\n",
       "                            OLS Regression Results                            \n",
       "==============================================================================\n",
       "Dep. Variable:                 salary   R-squared:                       0.027\n",
       "Model:                            OLS   Adj. R-squared:                  0.027\n",
       "Method:                 Least Squares   F-statistic:                     764.0\n",
       "Date:                Thu, 19 Oct 2023   Prob (F-statistic):          6.86e-166\n",
       "Time:                        22:54:54   Log-Likelihood:            -3.4349e+05\n",
       "No. Observations:               27484   AIC:                         6.870e+05\n",
       "Df Residuals:                   27482   BIC:                         6.870e+05\n",
       "Df Model:                           1                                         \n",
       "Covariance Type:            nonrobust                                         \n",
       "===============================================================================\n",
       "                  coef    std err          t      P>|t|      [0.025      0.975]\n",
       "-------------------------------------------------------------------------------\n",
       "const        5.633e+04   1006.018     55.991      0.000    5.44e+04    5.83e+04\n",
       "overall_exp  7830.3690    283.299     27.640      0.000    7275.089    8385.649\n",
       "==============================================================================\n",
       "Omnibus:                    61994.984   Durbin-Watson:                   1.956\n",
       "Prob(Omnibus):                  0.000   Jarque-Bera (JB):       1445679093.838\n",
       "Skew:                          20.847   Prob(JB):                         0.00\n",
       "Kurtosis:                    1125.800   Cond. No.                         9.76\n",
       "==============================================================================\n",
       "\n",
       "Notes:\n",
       "[1] Standard Errors assume that the covariance matrix of the errors is correctly specified.\n",
       "\"\"\""
      ]
     },
     "execution_count": 32,
     "metadata": {},
     "output_type": "execute_result"
    }
   ],
   "source": [
    "model = sm.OLS(df['salary'], sm.add_constant(df['overall_exp'])).fit()\n",
    "model.summary()"
   ]
  },
  {
   "cell_type": "code",
   "execution_count": 33,
   "metadata": {},
   "outputs": [
    {
     "data": {
      "text/plain": [
       "<seaborn.axisgrid.FacetGrid at 0x7fb979df73d0>"
      ]
     },
     "execution_count": 33,
     "metadata": {},
     "output_type": "execute_result"
    },
    {
     "data": {
      "image/png": "[encoded data removed]",
      "text/plain": [
       "<Figure size 500x500 with 1 Axes>"
      ]
     },
     "metadata": {},
     "output_type": "display_data"
    }
   ],
   "source": [
    "sns.lmplot(data=df, x='overall_exp', y='salary')"
   ]
  }
 ],
 "metadata": {
  "kernelspec": {
   "display_name": "venv",
   "language": "python",
   "name": "python3"
  },
  "language_info": {
   "codemirror_mode": {
    "name": "ipython",
    "version": 3
   },
   "file_extension": ".py",
   "mimetype": "text/x-python",
   "name": "python",
   "nbconvert_exporter": "python",
   "pygments_lexer": "ipython3",
   "version": "3.11.5"
  }
 },
 "nbformat": 4,
 "nbformat_minor": 2
}
