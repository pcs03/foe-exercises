{
 "cells": [
  {
   "cell_type": "code",
   "execution_count": 499,
   "metadata": {},
   "outputs": [],
   "source": [
    "\"\"\"\n",
    "Created on Thu Sep 22 13:06:00 2022\n",
    "\n",
    "# Explorative Data Analysis Workshop 1  (Statistics for DS)\n",
    "\n",
    "\n",
    "The instructions in this file assume that you are using Spyder by Anaconda. \n",
    "They might be different if you are using Jupyler. For example: Jupyler prints\n",
    "all columns when you use the command df.head(). Spyder just prints some columns, \n",
    "it is desirable to use the Variable Explorer instead. \n",
    "\n",
    "\n",
    "# Objective:\n",
    "    1.- Execute a simple EDA.\n",
    "    2.- Clean DATA\n",
    "    3.- Plot Distributions and Box Plots\n",
    "    4.- Proof that there is a relationship between area and house cost.\n",
    "    5.- Plot a Categorial Data\n",
    "    6.- Plot a Correlation Matrix\n",
    " \n",
    "    \n",
    "@author: Alejandro Murrieta-Mendoza\n",
    "\"\"\"\n",
    "# 0: Import all your required libreries \n",
    "from scipy import stats\n",
    "\n",
    "import matplotlib.pyplot as plt\n",
    "import seaborn as sns\n",
    "import scipy.stats as st\n",
    "\n",
    "import pandas as pd\n",
    "import numpy as np\n",
    "\n",
    "import math"
   ]
  },
  {
   "cell_type": "code",
   "execution_count": 500,
   "metadata": {},
   "outputs": [],
   "source": [
    "df = pd.read_csv('./salaries.csv')\n",
    "df.head()\n",
    "\n",
    "original_shape = df.shape"
   ]
  },
  {
   "cell_type": "markdown",
   "metadata": {},
   "source": [
    "Rename columns"
   ]
  },
  {
   "cell_type": "code",
   "execution_count": 501,
   "metadata": {},
   "outputs": [
    {
     "data": {
      "text/plain": [
       "Index(['timestamp', 'age', 'industry', 'job_title', 'job_title_info', 'salary',\n",
       "       'add_comp', 'currency', 'other_curr', 'additional_context', 'country',\n",
       "       'us_state', 'city', 'overall_exp', 'job_exp', 'education', 'gender',\n",
       "       'race'],\n",
       "      dtype='object')"
      ]
     },
     "execution_count": 501,
     "metadata": {},
     "output_type": "execute_result"
    }
   ],
   "source": [
    "columns = [\"timestamp\", \"age\", \"industry\", \"job_title\", \"job_title_info\", \"salary\", \"add_comp\", \"currency\", \"other_curr\", \"additional_context\", \"country\", \"us_state\", \"city\", \"overall_exp\", \"job_exp\", \"education\", \"gender\", \"race\"]\n",
    "df.columns = columns\n",
    "\n",
    "df.columns"
   ]
  },
  {
   "cell_type": "markdown",
   "metadata": {},
   "source": [
    "Remove unwanted columns\n",
    "\n",
    "### Explanation\n",
    "* industry: Too many possible values\n",
    "* Job Title: Too many possible values\n",
    "* other_curr: Will only take account of currencies selected in the previous column, other values will be dropped\n",
    "* Additional_context: Unwanted information\n",
    "* city: Too many possible values\n",
    "* us_state: Will only look at countries here\n",
    "* race: Messy column, according to some answers, don't have to explain my reasoning here, see an answer from the survey below:\n",
    "* Country: Shame, this would have been interesting information. Yet, the survey creator decided that this field should be an open answer, instead of multiple choice. Result, there are multiple values in found in the survey for each country. For example USA: values found: [USA, UNITED STATES, America, US, United States, U.S., usa, USA -- Virgin Islands]... and many more. This makes this column virtually useless, shame on the survey creators.\n",
    "\n",
    "\"Hispanic, Latino, or Spanish origin, Native American or Alaska Native, Another option not listed here or prefer not to answer\"\n",
    "\n",
    "So, this person is: Hispanic, Latino, Spanish, Native American, and at the same time prefers NOT TO ANSWER THE QUESTION?\n",
    "The values in this column are obviously bogus, so it will be dropped. Shame, would be interesting data if the survey was conducted in a more intelligent manner.\n"
   ]
  },
  {
   "cell_type": "code",
   "execution_count": 502,
   "metadata": {},
   "outputs": [
    {
     "data": {
      "text/html": [
       "<div>\n",
       "<style scoped>\n",
       "    .dataframe tbody tr th:only-of-type {\n",
       "        vertical-align: middle;\n",
       "    }\n",
       "\n",
       "    .dataframe tbody tr th {\n",
       "        vertical-align: top;\n",
       "    }\n",
       "\n",
       "    .dataframe thead th {\n",
       "        text-align: right;\n",
       "    }\n",
       "</style>\n",
       "<table border=\"1\" class=\"dataframe\">\n",
       "  <thead>\n",
       "    <tr style=\"text-align: right;\">\n",
       "      <th></th>\n",
       "      <th>age</th>\n",
       "      <th>salary</th>\n",
       "      <th>add_comp</th>\n",
       "      <th>currency</th>\n",
       "      <th>overall_exp</th>\n",
       "      <th>job_exp</th>\n",
       "      <th>education</th>\n",
       "      <th>gender</th>\n",
       "    </tr>\n",
       "  </thead>\n",
       "  <tbody>\n",
       "    <tr>\n",
       "      <th>0</th>\n",
       "      <td>25-34</td>\n",
       "      <td>55,000</td>\n",
       "      <td>0.0</td>\n",
       "      <td>USD</td>\n",
       "      <td>5-7 years</td>\n",
       "      <td>5-7 years</td>\n",
       "      <td>Master's degree</td>\n",
       "      <td>Woman</td>\n",
       "    </tr>\n",
       "    <tr>\n",
       "      <th>1</th>\n",
       "      <td>25-34</td>\n",
       "      <td>54,600</td>\n",
       "      <td>4000.0</td>\n",
       "      <td>GBP</td>\n",
       "      <td>8 - 10 years</td>\n",
       "      <td>5-7 years</td>\n",
       "      <td>College degree</td>\n",
       "      <td>Non-binary</td>\n",
       "    </tr>\n",
       "    <tr>\n",
       "      <th>2</th>\n",
       "      <td>25-34</td>\n",
       "      <td>34,000</td>\n",
       "      <td>NaN</td>\n",
       "      <td>USD</td>\n",
       "      <td>2 - 4 years</td>\n",
       "      <td>2 - 4 years</td>\n",
       "      <td>College degree</td>\n",
       "      <td>Woman</td>\n",
       "    </tr>\n",
       "    <tr>\n",
       "      <th>3</th>\n",
       "      <td>25-34</td>\n",
       "      <td>62,000</td>\n",
       "      <td>3000.0</td>\n",
       "      <td>USD</td>\n",
       "      <td>8 - 10 years</td>\n",
       "      <td>5-7 years</td>\n",
       "      <td>College degree</td>\n",
       "      <td>Woman</td>\n",
       "    </tr>\n",
       "    <tr>\n",
       "      <th>4</th>\n",
       "      <td>25-34</td>\n",
       "      <td>60,000</td>\n",
       "      <td>7000.0</td>\n",
       "      <td>USD</td>\n",
       "      <td>8 - 10 years</td>\n",
       "      <td>5-7 years</td>\n",
       "      <td>College degree</td>\n",
       "      <td>Woman</td>\n",
       "    </tr>\n",
       "  </tbody>\n",
       "</table>\n",
       "</div>"
      ],
      "text/plain": [
       "     age  salary  add_comp currency   overall_exp      job_exp  \\\n",
       "0  25-34  55,000       0.0      USD     5-7 years    5-7 years   \n",
       "1  25-34  54,600    4000.0      GBP  8 - 10 years    5-7 years   \n",
       "2  25-34  34,000       NaN      USD   2 - 4 years  2 - 4 years   \n",
       "3  25-34  62,000    3000.0      USD  8 - 10 years    5-7 years   \n",
       "4  25-34  60,000    7000.0      USD  8 - 10 years    5-7 years   \n",
       "\n",
       "         education      gender  \n",
       "0  Master's degree       Woman  \n",
       "1   College degree  Non-binary  \n",
       "2   College degree       Woman  \n",
       "3   College degree       Woman  \n",
       "4   College degree       Woman  "
      ]
     },
     "execution_count": 502,
     "metadata": {},
     "output_type": "execute_result"
    }
   ],
   "source": [
    "df = df.drop(['industry', 'job_title', 'job_title_info', 'other_curr', 'additional_context', 'us_state', 'city', 'race', 'timestamp', 'country'], axis=1)\n",
    "df.head()"
   ]
  },
  {
   "cell_type": "markdown",
   "metadata": {},
   "source": [
    "The values for additional compensation and salary need cleaning. The salary is stored as a string with a comma in the number. This needs to be converted to an integer. The additional compensation as many NaN values, this needs to be change to a zero."
   ]
  },
  {
   "cell_type": "code",
   "execution_count": 503,
   "metadata": {},
   "outputs": [
    {
     "data": {
      "text/html": [
       "<div>\n",
       "<style scoped>\n",
       "    .dataframe tbody tr th:only-of-type {\n",
       "        vertical-align: middle;\n",
       "    }\n",
       "\n",
       "    .dataframe tbody tr th {\n",
       "        vertical-align: top;\n",
       "    }\n",
       "\n",
       "    .dataframe thead th {\n",
       "        text-align: right;\n",
       "    }\n",
       "</style>\n",
       "<table border=\"1\" class=\"dataframe\">\n",
       "  <thead>\n",
       "    <tr style=\"text-align: right;\">\n",
       "      <th></th>\n",
       "      <th>age</th>\n",
       "      <th>salary</th>\n",
       "      <th>add_comp</th>\n",
       "      <th>currency</th>\n",
       "      <th>overall_exp</th>\n",
       "      <th>job_exp</th>\n",
       "      <th>education</th>\n",
       "      <th>gender</th>\n",
       "    </tr>\n",
       "  </thead>\n",
       "  <tbody>\n",
       "    <tr>\n",
       "      <th>0</th>\n",
       "      <td>25-34</td>\n",
       "      <td>55000</td>\n",
       "      <td>0.0</td>\n",
       "      <td>USD</td>\n",
       "      <td>5-7 years</td>\n",
       "      <td>5-7 years</td>\n",
       "      <td>Master's degree</td>\n",
       "      <td>Woman</td>\n",
       "    </tr>\n",
       "    <tr>\n",
       "      <th>1</th>\n",
       "      <td>25-34</td>\n",
       "      <td>54600</td>\n",
       "      <td>4000.0</td>\n",
       "      <td>GBP</td>\n",
       "      <td>8 - 10 years</td>\n",
       "      <td>5-7 years</td>\n",
       "      <td>College degree</td>\n",
       "      <td>Non-binary</td>\n",
       "    </tr>\n",
       "    <tr>\n",
       "      <th>2</th>\n",
       "      <td>25-34</td>\n",
       "      <td>34000</td>\n",
       "      <td>0.0</td>\n",
       "      <td>USD</td>\n",
       "      <td>2 - 4 years</td>\n",
       "      <td>2 - 4 years</td>\n",
       "      <td>College degree</td>\n",
       "      <td>Woman</td>\n",
       "    </tr>\n",
       "    <tr>\n",
       "      <th>3</th>\n",
       "      <td>25-34</td>\n",
       "      <td>62000</td>\n",
       "      <td>3000.0</td>\n",
       "      <td>USD</td>\n",
       "      <td>8 - 10 years</td>\n",
       "      <td>5-7 years</td>\n",
       "      <td>College degree</td>\n",
       "      <td>Woman</td>\n",
       "    </tr>\n",
       "    <tr>\n",
       "      <th>4</th>\n",
       "      <td>25-34</td>\n",
       "      <td>60000</td>\n",
       "      <td>7000.0</td>\n",
       "      <td>USD</td>\n",
       "      <td>8 - 10 years</td>\n",
       "      <td>5-7 years</td>\n",
       "      <td>College degree</td>\n",
       "      <td>Woman</td>\n",
       "    </tr>\n",
       "  </tbody>\n",
       "</table>\n",
       "</div>"
      ],
      "text/plain": [
       "     age  salary  add_comp currency   overall_exp      job_exp  \\\n",
       "0  25-34   55000       0.0      USD     5-7 years    5-7 years   \n",
       "1  25-34   54600    4000.0      GBP  8 - 10 years    5-7 years   \n",
       "2  25-34   34000       0.0      USD   2 - 4 years  2 - 4 years   \n",
       "3  25-34   62000    3000.0      USD  8 - 10 years    5-7 years   \n",
       "4  25-34   60000    7000.0      USD  8 - 10 years    5-7 years   \n",
       "\n",
       "         education      gender  \n",
       "0  Master's degree       Woman  \n",
       "1   College degree  Non-binary  \n",
       "2   College degree       Woman  \n",
       "3   College degree       Woman  \n",
       "4   College degree       Woman  "
      ]
     },
     "execution_count": 503,
     "metadata": {},
     "output_type": "execute_result"
    }
   ],
   "source": [
    "df['salary'] = df['salary'].apply(lambda x: int(x.replace(',', '')))\n",
    "df['add_comp'] = df['add_comp'].fillna(0)\n",
    "\n",
    "df.head()"
   ]
  },
  {
   "cell_type": "markdown",
   "metadata": {},
   "source": [
    "The values for salary and additional compensation are given in local currency, these need to be converted to one common currency for comparison. First, any rows with a \"Other\" value for currency need to be removed."
   ]
  },
  {
   "cell_type": "code",
   "execution_count": 504,
   "metadata": {},
   "outputs": [],
   "source": [
    "df = df.drop(df[df['currency'] == \"Other\"].index)"
   ]
  },
  {
   "cell_type": "code",
   "execution_count": 505,
   "metadata": {},
   "outputs": [
    {
     "data": {
      "text/plain": [
       "age              0\n",
       "salary           0\n",
       "add_comp         0\n",
       "currency         0\n",
       "overall_exp      0\n",
       "job_exp          0\n",
       "education      210\n",
       "gender         167\n",
       "dtype: int64"
      ]
     },
     "execution_count": 505,
     "metadata": {},
     "output_type": "execute_result"
    }
   ],
   "source": [
    "df.isna().sum()"
   ]
  },
  {
   "cell_type": "markdown",
   "metadata": {},
   "source": [
    "As seen above, there are still null values for the education and gender columns. Let's remove these rows"
   ]
  },
  {
   "cell_type": "code",
   "execution_count": 506,
   "metadata": {},
   "outputs": [
    {
     "data": {
      "text/plain": [
       "age            0\n",
       "salary         0\n",
       "add_comp       0\n",
       "currency       0\n",
       "overall_exp    0\n",
       "job_exp        0\n",
       "education      0\n",
       "gender         0\n",
       "dtype: int64"
      ]
     },
     "execution_count": 506,
     "metadata": {},
     "output_type": "execute_result"
    }
   ],
   "source": [
    "df = df.drop(df[df['education'].isnull()].index, axis=0)\n",
    "df = df.drop(df[df['gender'].isnull()].index, axis=0)\n",
    "\n",
    "df.isna().sum()"
   ]
  },
  {
   "cell_type": "markdown",
   "metadata": {},
   "source": [
    "Now, the dataframe has the desired columns and rows. Let's compare the original shape with the current shape."
   ]
  },
  {
   "cell_type": "code",
   "execution_count": 507,
   "metadata": {},
   "outputs": [
    {
     "name": "stdout",
     "output_type": "stream",
     "text": [
      "Old:  (27981, 18)\n",
      "New:  (27485, 8)\n"
     ]
    }
   ],
   "source": [
    "print(\"Old: \", original_shape)\n",
    "print(\"New: \", df.shape)"
   ]
  },
  {
   "cell_type": "markdown",
   "metadata": {},
   "source": [
    "Let's check if the columns have the desired datatypes"
   ]
  },
  {
   "cell_type": "code",
   "execution_count": 508,
   "metadata": {},
   "outputs": [
    {
     "data": {
      "text/plain": [
       "age             object\n",
       "salary           int64\n",
       "add_comp       float64\n",
       "currency        object\n",
       "overall_exp     object\n",
       "job_exp         object\n",
       "education       object\n",
       "gender          object\n",
       "dtype: object"
      ]
     },
     "execution_count": 508,
     "metadata": {},
     "output_type": "execute_result"
    }
   ],
   "source": [
    "df.dtypes"
   ]
  },
  {
   "cell_type": "markdown",
   "metadata": {},
   "source": [
    "Only salary and add_comp are numberic datatypes. But they are still in different currencies, these need to be converted to one common currency for comparison. Below is a dict of conversion rates as of 2023-10-08. "
   ]
  },
  {
   "cell_type": "code",
   "execution_count": 509,
   "metadata": {},
   "outputs": [],
   "source": [
    "curr = {\n",
    "    \"EUR\": 1,\n",
    "    \"USD\": 0.94,\n",
    "    \"CAD\": 0.69,\n",
    "    \"GBP\": 1.15,\n",
    "    \"AUD/NZD\": 0.60,\n",
    "    \"CHF\": 1.04,\n",
    "    \"ZAR\": 0.049,\n",
    "    \"SEK\": 0.086,\n",
    "    \"HKD\": 0.12,\n",
    "    \"JPY\": 0.0063\n",
    "}"
   ]
  },
  {
   "cell_type": "markdown",
   "metadata": {},
   "source": [
    "This can be applied to the values of salary and additional compensation."
   ]
  },
  {
   "cell_type": "code",
   "execution_count": 510,
   "metadata": {},
   "outputs": [],
   "source": [
    "df['salary'] = df.apply(lambda row: row['salary'] * curr[row['currency']], axis=1)\n",
    "df['add_comp'] = df.apply(lambda row: row['add_comp'] * curr[row['currency']], axis=1)"
   ]
  },
  {
   "cell_type": "markdown",
   "metadata": {},
   "source": [
    "The currency column can now be removed, as all values are now in euro."
   ]
  },
  {
   "cell_type": "code",
   "execution_count": 511,
   "metadata": {},
   "outputs": [
    {
     "data": {
      "text/html": [
       "<div>\n",
       "<style scoped>\n",
       "    .dataframe tbody tr th:only-of-type {\n",
       "        vertical-align: middle;\n",
       "    }\n",
       "\n",
       "    .dataframe tbody tr th {\n",
       "        vertical-align: top;\n",
       "    }\n",
       "\n",
       "    .dataframe thead th {\n",
       "        text-align: right;\n",
       "    }\n",
       "</style>\n",
       "<table border=\"1\" class=\"dataframe\">\n",
       "  <thead>\n",
       "    <tr style=\"text-align: right;\">\n",
       "      <th></th>\n",
       "      <th>age</th>\n",
       "      <th>salary</th>\n",
       "      <th>add_comp</th>\n",
       "      <th>overall_exp</th>\n",
       "      <th>job_exp</th>\n",
       "      <th>education</th>\n",
       "      <th>gender</th>\n",
       "    </tr>\n",
       "  </thead>\n",
       "  <tbody>\n",
       "    <tr>\n",
       "      <th>0</th>\n",
       "      <td>25-34</td>\n",
       "      <td>51700.0</td>\n",
       "      <td>0.0</td>\n",
       "      <td>5-7 years</td>\n",
       "      <td>5-7 years</td>\n",
       "      <td>Master's degree</td>\n",
       "      <td>Woman</td>\n",
       "    </tr>\n",
       "    <tr>\n",
       "      <th>1</th>\n",
       "      <td>25-34</td>\n",
       "      <td>62790.0</td>\n",
       "      <td>4600.0</td>\n",
       "      <td>8 - 10 years</td>\n",
       "      <td>5-7 years</td>\n",
       "      <td>College degree</td>\n",
       "      <td>Non-binary</td>\n",
       "    </tr>\n",
       "    <tr>\n",
       "      <th>2</th>\n",
       "      <td>25-34</td>\n",
       "      <td>31960.0</td>\n",
       "      <td>0.0</td>\n",
       "      <td>2 - 4 years</td>\n",
       "      <td>2 - 4 years</td>\n",
       "      <td>College degree</td>\n",
       "      <td>Woman</td>\n",
       "    </tr>\n",
       "    <tr>\n",
       "      <th>3</th>\n",
       "      <td>25-34</td>\n",
       "      <td>58280.0</td>\n",
       "      <td>2820.0</td>\n",
       "      <td>8 - 10 years</td>\n",
       "      <td>5-7 years</td>\n",
       "      <td>College degree</td>\n",
       "      <td>Woman</td>\n",
       "    </tr>\n",
       "    <tr>\n",
       "      <th>4</th>\n",
       "      <td>25-34</td>\n",
       "      <td>56400.0</td>\n",
       "      <td>6580.0</td>\n",
       "      <td>8 - 10 years</td>\n",
       "      <td>5-7 years</td>\n",
       "      <td>College degree</td>\n",
       "      <td>Woman</td>\n",
       "    </tr>\n",
       "  </tbody>\n",
       "</table>\n",
       "</div>"
      ],
      "text/plain": [
       "     age   salary  add_comp   overall_exp      job_exp        education  \\\n",
       "0  25-34  51700.0       0.0     5-7 years    5-7 years  Master's degree   \n",
       "1  25-34  62790.0    4600.0  8 - 10 years    5-7 years   College degree   \n",
       "2  25-34  31960.0       0.0   2 - 4 years  2 - 4 years   College degree   \n",
       "3  25-34  58280.0    2820.0  8 - 10 years    5-7 years   College degree   \n",
       "4  25-34  56400.0    6580.0  8 - 10 years    5-7 years   College degree   \n",
       "\n",
       "       gender  \n",
       "0       Woman  \n",
       "1  Non-binary  \n",
       "2       Woman  \n",
       "3       Woman  \n",
       "4       Woman  "
      ]
     },
     "execution_count": 511,
     "metadata": {},
     "output_type": "execute_result"
    }
   ],
   "source": [
    "df = df.drop('currency', axis=1)\n",
    "\n",
    "df.head()"
   ]
  },
  {
   "cell_type": "markdown",
   "metadata": {},
   "source": [
    "Now that the values are comparable, let's have a look at the statistics of the dataframe"
   ]
  },
  {
   "cell_type": "code",
   "execution_count": 512,
   "metadata": {},
   "outputs": [
    {
     "data": {
      "text/html": [
       "<div>\n",
       "<style scoped>\n",
       "    .dataframe tbody tr th:only-of-type {\n",
       "        vertical-align: middle;\n",
       "    }\n",
       "\n",
       "    .dataframe tbody tr th {\n",
       "        vertical-align: top;\n",
       "    }\n",
       "\n",
       "    .dataframe thead th {\n",
       "        text-align: right;\n",
       "    }\n",
       "</style>\n",
       "<table border=\"1\" class=\"dataframe\">\n",
       "  <thead>\n",
       "    <tr style=\"text-align: right;\">\n",
       "      <th></th>\n",
       "      <th>salary</th>\n",
       "      <th>add_comp</th>\n",
       "    </tr>\n",
       "  </thead>\n",
       "  <tbody>\n",
       "    <tr>\n",
       "      <th>count</th>\n",
       "      <td>27485.00000</td>\n",
       "      <td>27485.00000</td>\n",
       "    </tr>\n",
       "    <tr>\n",
       "      <th>mean</th>\n",
       "      <td>85435.50884</td>\n",
       "      <td>8223.56074</td>\n",
       "    </tr>\n",
       "    <tr>\n",
       "      <th>std</th>\n",
       "      <td>581563.33972</td>\n",
       "      <td>36028.64439</td>\n",
       "    </tr>\n",
       "    <tr>\n",
       "      <th>min</th>\n",
       "      <td>0.00000</td>\n",
       "      <td>0.00000</td>\n",
       "    </tr>\n",
       "    <tr>\n",
       "      <th>25%</th>\n",
       "      <td>49680.00000</td>\n",
       "      <td>0.00000</td>\n",
       "    </tr>\n",
       "    <tr>\n",
       "      <th>50%</th>\n",
       "      <td>69426.52000</td>\n",
       "      <td>0.00000</td>\n",
       "    </tr>\n",
       "    <tr>\n",
       "      <th>75%</th>\n",
       "      <td>98700.00000</td>\n",
       "      <td>4700.00000</td>\n",
       "    </tr>\n",
       "    <tr>\n",
       "      <th>max</th>\n",
       "      <td>95880000.00000</td>\n",
       "      <td>1410000.00000</td>\n",
       "    </tr>\n",
       "  </tbody>\n",
       "</table>\n",
       "</div>"
      ],
      "text/plain": [
       "               salary       add_comp\n",
       "count     27485.00000    27485.00000\n",
       "mean      85435.50884     8223.56074\n",
       "std      581563.33972    36028.64439\n",
       "min           0.00000        0.00000\n",
       "25%       49680.00000        0.00000\n",
       "50%       69426.52000        0.00000\n",
       "75%       98700.00000     4700.00000\n",
       "max    95880000.00000  1410000.00000"
      ]
     },
     "execution_count": 512,
     "metadata": {},
     "output_type": "execute_result"
    }
   ],
   "source": [
    "df.describe().apply(lambda s: s.apply('{0:.5f}'.format))"
   ]
  },
  {
   "cell_type": "code",
   "execution_count": 513,
   "metadata": {},
   "outputs": [
    {
     "data": {
      "text/html": [
       "<div>\n",
       "<style scoped>\n",
       "    .dataframe tbody tr th:only-of-type {\n",
       "        vertical-align: middle;\n",
       "    }\n",
       "\n",
       "    .dataframe tbody tr th {\n",
       "        vertical-align: top;\n",
       "    }\n",
       "\n",
       "    .dataframe thead th {\n",
       "        text-align: right;\n",
       "    }\n",
       "</style>\n",
       "<table border=\"1\" class=\"dataframe\">\n",
       "  <thead>\n",
       "    <tr style=\"text-align: right;\">\n",
       "      <th></th>\n",
       "      <th>salary</th>\n",
       "      <th>add_comp</th>\n",
       "    </tr>\n",
       "    <tr>\n",
       "      <th>gender</th>\n",
       "      <th></th>\n",
       "      <th></th>\n",
       "    </tr>\n",
       "  </thead>\n",
       "  <tbody>\n",
       "    <tr>\n",
       "      <th>Man</th>\n",
       "      <td>118660.091617</td>\n",
       "      <td>17811.342190</td>\n",
       "    </tr>\n",
       "    <tr>\n",
       "      <th>Non-binary</th>\n",
       "      <td>66969.449892</td>\n",
       "      <td>5237.624824</td>\n",
       "    </tr>\n",
       "    <tr>\n",
       "      <th>Other or prefer not to answer</th>\n",
       "      <td>83727.172120</td>\n",
       "      <td>10246.590106</td>\n",
       "    </tr>\n",
       "    <tr>\n",
       "      <th>Prefer not to answer</th>\n",
       "      <td>82720.000000</td>\n",
       "      <td>9.400000</td>\n",
       "    </tr>\n",
       "    <tr>\n",
       "      <th>Woman</th>\n",
       "      <td>77673.309610</td>\n",
       "      <td>5868.283343</td>\n",
       "    </tr>\n",
       "  </tbody>\n",
       "</table>\n",
       "</div>"
      ],
      "text/plain": [
       "                                      salary      add_comp\n",
       "gender                                                    \n",
       "Man                            118660.091617  17811.342190\n",
       "Non-binary                      66969.449892   5237.624824\n",
       "Other or prefer not to answer   83727.172120  10246.590106\n",
       "Prefer not to answer            82720.000000      9.400000\n",
       "Woman                           77673.309610   5868.283343"
      ]
     },
     "execution_count": 513,
     "metadata": {},
     "output_type": "execute_result"
    }
   ],
   "source": [
    "df.groupby('gender')[['salary', 'add_comp']].mean()"
   ]
  },
  {
   "cell_type": "code",
   "execution_count": 514,
   "metadata": {},
   "outputs": [
    {
     "data": {
      "text/html": [
       "<div>\n",
       "<style scoped>\n",
       "    .dataframe tbody tr th:only-of-type {\n",
       "        vertical-align: middle;\n",
       "    }\n",
       "\n",
       "    .dataframe tbody tr th {\n",
       "        vertical-align: top;\n",
       "    }\n",
       "\n",
       "    .dataframe thead th {\n",
       "        text-align: right;\n",
       "    }\n",
       "</style>\n",
       "<table border=\"1\" class=\"dataframe\">\n",
       "  <thead>\n",
       "    <tr style=\"text-align: right;\">\n",
       "      <th></th>\n",
       "      <th>salary</th>\n",
       "      <th>add_comp</th>\n",
       "    </tr>\n",
       "    <tr>\n",
       "      <th>gender</th>\n",
       "      <th></th>\n",
       "      <th></th>\n",
       "    </tr>\n",
       "  </thead>\n",
       "  <tbody>\n",
       "    <tr>\n",
       "      <th>Man</th>\n",
       "      <td>118660.091617</td>\n",
       "      <td>17811.342190</td>\n",
       "    </tr>\n",
       "    <tr>\n",
       "      <th>Woman</th>\n",
       "      <td>77673.309610</td>\n",
       "      <td>5868.283343</td>\n",
       "    </tr>\n",
       "    <tr>\n",
       "      <th>Non-binary</th>\n",
       "      <td>66969.449892</td>\n",
       "      <td>5237.624824</td>\n",
       "    </tr>\n",
       "    <tr>\n",
       "      <th>Other</th>\n",
       "      <td>83223.586060</td>\n",
       "      <td>5127.995053</td>\n",
       "    </tr>\n",
       "  </tbody>\n",
       "</table>\n",
       "</div>"
      ],
      "text/plain": [
       "                   salary      add_comp\n",
       "gender                                 \n",
       "Man         118660.091617  17811.342190\n",
       "Woman        77673.309610   5868.283343\n",
       "Non-binary   66969.449892   5237.624824\n",
       "Other        83223.586060   5127.995053"
      ]
     },
     "execution_count": 514,
     "metadata": {},
     "output_type": "execute_result"
    }
   ],
   "source": [
    "gender_income = df.groupby('gender')[['salary', 'add_comp']].mean()\n",
    "other = gender_income.iloc[2:4, :].mean()\n",
    "\n",
    "gender_income.loc['Other'] = other\n",
    "gender_income = gender_income.drop(gender_income.iloc[2:4, :].index)\n",
    "\n",
    "# Swap values of woman and non-binary\n",
    "a, b = gender_income.iloc[1, :].copy(), gender_income.iloc[2, :].copy()\n",
    "gender_income.iloc[2, :], gender_income.iloc[1, :] = a, b\n",
    "\n",
    "# Swap indices of the rows\n",
    "index_names = gender_income.index.values\n",
    "index_names[1], index_names[2] = index_names[2], index_names[1]\n",
    "\n",
    "\n",
    "gender_income"
   ]
  },
  {
   "cell_type": "code",
   "execution_count": 515,
   "metadata": {},
   "outputs": [
    {
     "data": {
      "text/plain": [
       "<matplotlib.legend.Legend at 0x7fb85a547410>"
      ]
     },
     "execution_count": 515,
     "metadata": {},
     "output_type": "execute_result"
    },
    {
     "data": {
      "image/png": "[encoded data removed]",
      "text/plain": [
       "<Figure size 640x480 with 1 Axes>"
      ]
     },
     "metadata": {},
     "output_type": "display_data"
    }
   ],
   "source": [
    "labels = gender_income.index\n",
    "x = np.arange(len(labels))\n",
    "\n",
    "width = 0.35\n",
    "\n",
    "fig, ax = plt.subplots()\n",
    "\n",
    "rects1 = ax.bar(x - width/2, gender_income['salary'], width, label='Salary', align=\"edge\")\n",
    "rects2 = ax.bar(x + width/2, gender_income['add_comp'], width, label='Additional Compensation', align=\"edge\")\n",
    "\n",
    "ax.set_ylabel('Salary in EUR')\n",
    "ax.set_title('Income by gender')\n",
    "ax.set_xticks(x)\n",
    "ax.set_xticklabels(labels)\n",
    "ax.legend()"
   ]
  },
  {
   "cell_type": "markdown",
   "metadata": {},
   "source": [
    "Despite the poor dataset, pretty nice graph huh? Let's do the same for the other categories"
   ]
  },
  {
   "cell_type": "code",
   "execution_count": 516,
   "metadata": {},
   "outputs": [
    {
     "data": {
      "text/html": [
       "<div>\n",
       "<style scoped>\n",
       "    .dataframe tbody tr th:only-of-type {\n",
       "        vertical-align: middle;\n",
       "    }\n",
       "\n",
       "    .dataframe tbody tr th {\n",
       "        vertical-align: top;\n",
       "    }\n",
       "\n",
       "    .dataframe thead th {\n",
       "        text-align: right;\n",
       "    }\n",
       "</style>\n",
       "<table border=\"1\" class=\"dataframe\">\n",
       "  <thead>\n",
       "    <tr style=\"text-align: right;\">\n",
       "      <th></th>\n",
       "      <th>salary</th>\n",
       "      <th>add_comp</th>\n",
       "    </tr>\n",
       "    <tr>\n",
       "      <th>overall_exp</th>\n",
       "      <th></th>\n",
       "      <th></th>\n",
       "    </tr>\n",
       "  </thead>\n",
       "  <tbody>\n",
       "    <tr>\n",
       "      <th>1 year or less</th>\n",
       "      <td>59165.795792</td>\n",
       "      <td>3625.894649</td>\n",
       "    </tr>\n",
       "    <tr>\n",
       "      <th>2 - 4 years</th>\n",
       "      <td>62586.126185</td>\n",
       "      <td>4475.112432</td>\n",
       "    </tr>\n",
       "    <tr>\n",
       "      <th>5-7 years</th>\n",
       "      <td>71408.421516</td>\n",
       "      <td>6115.480291</td>\n",
       "    </tr>\n",
       "    <tr>\n",
       "      <th>8 - 10 years</th>\n",
       "      <td>97467.152257</td>\n",
       "      <td>6952.330263</td>\n",
       "    </tr>\n",
       "    <tr>\n",
       "      <th>11 - 20 years</th>\n",
       "      <td>89169.127747</td>\n",
       "      <td>10375.154568</td>\n",
       "    </tr>\n",
       "    <tr>\n",
       "      <th>21 - 30 years</th>\n",
       "      <td>96135.072388</td>\n",
       "      <td>11039.754978</td>\n",
       "    </tr>\n",
       "    <tr>\n",
       "      <th>31 - 40 years</th>\n",
       "      <td>97073.279565</td>\n",
       "      <td>7624.980400</td>\n",
       "    </tr>\n",
       "    <tr>\n",
       "      <th>41 years or more</th>\n",
       "      <td>88446.704333</td>\n",
       "      <td>9917.401167</td>\n",
       "    </tr>\n",
       "  </tbody>\n",
       "</table>\n",
       "</div>"
      ],
      "text/plain": [
       "                        salary      add_comp\n",
       "overall_exp                                 \n",
       "1 year or less    59165.795792   3625.894649\n",
       "2 - 4 years       62586.126185   4475.112432\n",
       "5-7 years         71408.421516   6115.480291\n",
       "8 - 10 years      97467.152257   6952.330263\n",
       "11 - 20 years     89169.127747  10375.154568\n",
       "21 - 30 years     96135.072388  11039.754978\n",
       "31 - 40 years     97073.279565   7624.980400\n",
       "41 years or more  88446.704333   9917.401167"
      ]
     },
     "execution_count": 516,
     "metadata": {},
     "output_type": "execute_result"
    }
   ],
   "source": [
    "overall_exp_mean = df.groupby('overall_exp')[['salary', 'add_comp']].mean()\n",
    "\n",
    "new_indices = [0, 2, 6, 7, 1, 3, 4, 5]\n",
    "overall_exp_mean = overall_exp_mean.iloc[new_indices]\n",
    "\n",
    "overall_exp_mean"
   ]
  },
  {
   "cell_type": "code",
   "execution_count": 517,
   "metadata": {},
   "outputs": [
    {
     "data": {
      "text/plain": [
       "<matplotlib.legend.Legend at 0x7fb85a332110>"
      ]
     },
     "execution_count": 517,
     "metadata": {},
     "output_type": "execute_result"
    },
    {
     "data": {
      "image/png": "[encoded data removed]",
      "text/plain": [
       "<Figure size 640x480 with 1 Axes>"
      ]
     },
     "metadata": {},
     "output_type": "display_data"
    }
   ],
   "source": [
    "labels = [\"<= 1\", \"2-4\", \"5-7\", \"8-10\", \"11-20\", \"21-30\", \"31-40\", \">= 41\"]\n",
    "x = np.arange(len(labels))\n",
    "\n",
    "width = 0.35\n",
    "\n",
    "fig, ax = plt.subplots()\n",
    "\n",
    "rects1 = ax.bar(x - width/2, overall_exp_mean['salary'], width, label='Salary', align=\"edge\")\n",
    "rects2 = ax.bar(x + width/2, overall_exp_mean['add_comp'], width, label='Additional Compensation', align=\"edge\")\n",
    "\n",
    "ax.set_ylabel('Salary in EUR')\n",
    "ax.set_title('Income by overall work experience in years')\n",
    "ax.set_xticks(x)\n",
    "ax.set_xticklabels(labels)\n",
    "ax.legend()"
   ]
  },
  {
   "cell_type": "code",
   "execution_count": 518,
   "metadata": {},
   "outputs": [
    {
     "data": {
      "text/html": [
       "<div>\n",
       "<style scoped>\n",
       "    .dataframe tbody tr th:only-of-type {\n",
       "        vertical-align: middle;\n",
       "    }\n",
       "\n",
       "    .dataframe tbody tr th {\n",
       "        vertical-align: top;\n",
       "    }\n",
       "\n",
       "    .dataframe thead th {\n",
       "        text-align: right;\n",
       "    }\n",
       "</style>\n",
       "<table border=\"1\" class=\"dataframe\">\n",
       "  <thead>\n",
       "    <tr style=\"text-align: right;\">\n",
       "      <th></th>\n",
       "      <th>salary</th>\n",
       "      <th>add_comp</th>\n",
       "    </tr>\n",
       "    <tr>\n",
       "      <th>job_exp</th>\n",
       "      <th></th>\n",
       "      <th></th>\n",
       "    </tr>\n",
       "  </thead>\n",
       "  <tbody>\n",
       "    <tr>\n",
       "      <th>1 year or less</th>\n",
       "      <td>122580.229048</td>\n",
       "      <td>2788.461522</td>\n",
       "    </tr>\n",
       "    <tr>\n",
       "      <th>2 - 4 years</th>\n",
       "      <td>65003.598872</td>\n",
       "      <td>4687.311987</td>\n",
       "    </tr>\n",
       "    <tr>\n",
       "      <th>5-7 years</th>\n",
       "      <td>76522.421656</td>\n",
       "      <td>6791.633487</td>\n",
       "    </tr>\n",
       "    <tr>\n",
       "      <th>8 - 10 years</th>\n",
       "      <td>86169.224927</td>\n",
       "      <td>8312.151717</td>\n",
       "    </tr>\n",
       "    <tr>\n",
       "      <th>11 - 20 years</th>\n",
       "      <td>96204.714695</td>\n",
       "      <td>12198.359201</td>\n",
       "    </tr>\n",
       "    <tr>\n",
       "      <th>21 - 30 years</th>\n",
       "      <td>111914.504033</td>\n",
       "      <td>14849.268000</td>\n",
       "    </tr>\n",
       "    <tr>\n",
       "      <th>31 - 40 years</th>\n",
       "      <td>103155.157754</td>\n",
       "      <td>9734.924973</td>\n",
       "    </tr>\n",
       "    <tr>\n",
       "      <th>41 years or more</th>\n",
       "      <td>94871.280000</td>\n",
       "      <td>5264.736842</td>\n",
       "    </tr>\n",
       "  </tbody>\n",
       "</table>\n",
       "</div>"
      ],
      "text/plain": [
       "                         salary      add_comp\n",
       "job_exp                                      \n",
       "1 year or less    122580.229048   2788.461522\n",
       "2 - 4 years        65003.598872   4687.311987\n",
       "5-7 years          76522.421656   6791.633487\n",
       "8 - 10 years       86169.224927   8312.151717\n",
       "11 - 20 years      96204.714695  12198.359201\n",
       "21 - 30 years     111914.504033  14849.268000\n",
       "31 - 40 years     103155.157754   9734.924973\n",
       "41 years or more   94871.280000   5264.736842"
      ]
     },
     "execution_count": 518,
     "metadata": {},
     "output_type": "execute_result"
    }
   ],
   "source": [
    "job_exp_mean = df.groupby('job_exp')[['salary', 'add_comp']].mean()\n",
    "\n",
    "new_indices = [0, 2, 6, 7, 1, 3, 4, 5]\n",
    "job_exp_mean = job_exp_mean.iloc[new_indices]\n",
    "\n",
    "job_exp_mean"
   ]
  },
  {
   "cell_type": "code",
   "execution_count": 519,
   "metadata": {},
   "outputs": [
    {
     "data": {
      "text/plain": [
       "<matplotlib.legend.Legend at 0x7fb859fd2990>"
      ]
     },
     "execution_count": 519,
     "metadata": {},
     "output_type": "execute_result"
    },
    {
     "data": {
      "image/png": "[encoded data removed]",
      "text/plain": [
       "<Figure size 640x480 with 1 Axes>"
      ]
     },
     "metadata": {},
     "output_type": "display_data"
    }
   ],
   "source": [
    "labels = [\"<= 1\", \"2-4\", \"5-7\", \"8-10\", \"11-20\", \"21-30\", \"31-40\", \">= 41\"]\n",
    "x = np.arange(len(labels))\n",
    "\n",
    "width = 0.35\n",
    "\n",
    "fig, ax = plt.subplots()\n",
    "\n",
    "rects1 = ax.bar(x - width/2, job_exp_mean['salary'], width, label='Salary', align=\"edge\")\n",
    "rects2 = ax.bar(x + width/2, job_exp_mean['add_comp'], width, label='Additional Compensation', align=\"edge\")\n",
    "\n",
    "ax.set_ylabel('Salary in EUR')\n",
    "ax.set_title('Income by overall job experience in years')\n",
    "ax.set_xticks(x)\n",
    "ax.set_xticklabels(labels)\n",
    "ax.legend()"
   ]
  },
  {
   "cell_type": "code",
   "execution_count": 523,
   "metadata": {},
   "outputs": [
    {
     "data": {
      "text/html": [
       "<div>\n",
       "<style scoped>\n",
       "    .dataframe tbody tr th:only-of-type {\n",
       "        vertical-align: middle;\n",
       "    }\n",
       "\n",
       "    .dataframe tbody tr th {\n",
       "        vertical-align: top;\n",
       "    }\n",
       "\n",
       "    .dataframe thead th {\n",
       "        text-align: right;\n",
       "    }\n",
       "</style>\n",
       "<table border=\"1\" class=\"dataframe\">\n",
       "  <thead>\n",
       "    <tr style=\"text-align: right;\">\n",
       "      <th></th>\n",
       "      <th>salary</th>\n",
       "      <th>add_comp</th>\n",
       "    </tr>\n",
       "    <tr>\n",
       "      <th>age</th>\n",
       "      <th></th>\n",
       "      <th></th>\n",
       "    </tr>\n",
       "  </thead>\n",
       "  <tbody>\n",
       "    <tr>\n",
       "      <th>under 18</th>\n",
       "      <td>62417.243636</td>\n",
       "      <td>1828.727273</td>\n",
       "    </tr>\n",
       "    <tr>\n",
       "      <th>18-24</th>\n",
       "      <td>53506.743861</td>\n",
       "      <td>4464.746483</td>\n",
       "    </tr>\n",
       "    <tr>\n",
       "      <th>25-34</th>\n",
       "      <td>82311.979208</td>\n",
       "      <td>6514.267022</td>\n",
       "    </tr>\n",
       "    <tr>\n",
       "      <th>35-44</th>\n",
       "      <td>89837.758651</td>\n",
       "      <td>10663.348541</td>\n",
       "    </tr>\n",
       "    <tr>\n",
       "      <th>45-54</th>\n",
       "      <td>92664.272482</td>\n",
       "      <td>9289.609770</td>\n",
       "    </tr>\n",
       "    <tr>\n",
       "      <th>55-64</th>\n",
       "      <td>96148.117102</td>\n",
       "      <td>7259.949126</td>\n",
       "    </tr>\n",
       "    <tr>\n",
       "      <th>65 or over</th>\n",
       "      <td>88944.447174</td>\n",
       "      <td>3177.600870</td>\n",
       "    </tr>\n",
       "  </tbody>\n",
       "</table>\n",
       "</div>"
      ],
      "text/plain": [
       "                  salary      add_comp\n",
       "age                                   \n",
       "under 18    62417.243636   1828.727273\n",
       "18-24       53506.743861   4464.746483\n",
       "25-34       82311.979208   6514.267022\n",
       "35-44       89837.758651  10663.348541\n",
       "45-54       92664.272482   9289.609770\n",
       "55-64       96148.117102   7259.949126\n",
       "65 or over  88944.447174   3177.600870"
      ]
     },
     "execution_count": 523,
     "metadata": {},
     "output_type": "execute_result"
    }
   ],
   "source": [
    "age_mean = df.groupby('age')[['salary', 'add_comp']].mean()\n",
    "\n",
    "new_indices = [6, 0, 1, 2, 3, 4, 5]\n",
    "age_mean = age_mean.iloc[new_indices]\n",
    "\n",
    "age_mean"
   ]
  },
  {
   "cell_type": "code",
   "execution_count": 525,
   "metadata": {},
   "outputs": [
    {
     "data": {
      "text/plain": [
       "<matplotlib.legend.Legend at 0x7fb85a645f90>"
      ]
     },
     "execution_count": 525,
     "metadata": {},
     "output_type": "execute_result"
    },
    {
     "data": {
      "image/png": "[encoded data removed]",
      "text/plain": [
       "<Figure size 640x480 with 1 Axes>"
      ]
     },
     "metadata": {},
     "output_type": "display_data"
    }
   ],
   "source": [
    "labels = [\"< 18\", \"18-24\", \"25-34\", \"35-44\", \"45-54\", \"55-64\", \">= 65\"]\n",
    "x = np.arange(len(labels))\n",
    "\n",
    "width = 0.35\n",
    "\n",
    "fig, ax = plt.subplots()\n",
    "\n",
    "rects1 = ax.bar(x - width/2, age_mean['salary'], width, label='Salary', align=\"edge\")\n",
    "rects2 = ax.bar(x + width/2, age_mean['add_comp'], width, label='Additional Compensation', align=\"edge\")\n",
    "\n",
    "ax.set_ylabel('Salary in EUR')\n",
    "ax.set_title('Income by overall job experience in years')\n",
    "ax.set_xticks(x)\n",
    "ax.set_xticklabels(labels)\n",
    "ax.legend()"
   ]
  },
  {
   "cell_type": "code",
   "execution_count": 528,
   "metadata": {},
   "outputs": [
    {
     "data": {
      "text/html": [
       "<div>\n",
       "<style scoped>\n",
       "    .dataframe tbody tr th:only-of-type {\n",
       "        vertical-align: middle;\n",
       "    }\n",
       "\n",
       "    .dataframe tbody tr th {\n",
       "        vertical-align: top;\n",
       "    }\n",
       "\n",
       "    .dataframe thead th {\n",
       "        text-align: right;\n",
       "    }\n",
       "</style>\n",
       "<table border=\"1\" class=\"dataframe\">\n",
       "  <thead>\n",
       "    <tr style=\"text-align: right;\">\n",
       "      <th></th>\n",
       "      <th>salary</th>\n",
       "      <th>add_comp</th>\n",
       "    </tr>\n",
       "    <tr>\n",
       "      <th>education</th>\n",
       "      <th></th>\n",
       "      <th></th>\n",
       "    </tr>\n",
       "  </thead>\n",
       "  <tbody>\n",
       "    <tr>\n",
       "      <th>High School</th>\n",
       "      <td>65517.685978</td>\n",
       "      <td>9997.756314</td>\n",
       "    </tr>\n",
       "    <tr>\n",
       "      <th>College degree</th>\n",
       "      <td>77972.816034</td>\n",
       "      <td>8084.624126</td>\n",
       "    </tr>\n",
       "    <tr>\n",
       "      <th>Master's degree</th>\n",
       "      <td>83480.335072</td>\n",
       "      <td>7215.756673</td>\n",
       "    </tr>\n",
       "    <tr>\n",
       "      <th>PhD</th>\n",
       "      <td>97076.543300</td>\n",
       "      <td>8667.904097</td>\n",
       "    </tr>\n",
       "    <tr>\n",
       "      <th>Professional degree (MD, JD, etc.)</th>\n",
       "      <td>124657.270953</td>\n",
       "      <td>14697.196264</td>\n",
       "    </tr>\n",
       "    <tr>\n",
       "      <th>Some college</th>\n",
       "      <td>115786.338970</td>\n",
       "      <td>8481.892841</td>\n",
       "    </tr>\n",
       "  </tbody>\n",
       "</table>\n",
       "</div>"
      ],
      "text/plain": [
       "                                           salary      add_comp\n",
       "education                                                      \n",
       "High School                          65517.685978   9997.756314\n",
       "College degree                       77972.816034   8084.624126\n",
       "Master's degree                      83480.335072   7215.756673\n",
       "PhD                                  97076.543300   8667.904097\n",
       "Professional degree (MD, JD, etc.)  124657.270953  14697.196264\n",
       "Some college                        115786.338970   8481.892841"
      ]
     },
     "execution_count": 528,
     "metadata": {},
     "output_type": "execute_result"
    }
   ],
   "source": [
    "education_mean = df.groupby('education')[['salary', 'add_comp']].mean()\n",
    "\n",
    "new_indices = [1, 0, 2, 3, 4, 5]\n",
    "education_mean = education_mean.iloc[new_indices]\n",
    "\n",
    "education_mean"
   ]
  },
  {
   "cell_type": "code",
   "execution_count": 530,
   "metadata": {},
   "outputs": [
    {
     "data": {
      "text/plain": [
       "<matplotlib.legend.Legend at 0x7fb85c7f8f10>"
      ]
     },
     "execution_count": 530,
     "metadata": {},
     "output_type": "execute_result"
    },
    {
     "data": {
      "image/png": "[encoded data removed]",
      "text/plain": [
       "<Figure size 640x480 with 1 Axes>"
      ]
     },
     "metadata": {},
     "output_type": "display_data"
    }
   ],
   "source": [
    "labels = education_mean.index\n",
    "x = np.arange(len(labels))\n",
    "\n",
    "width = 0.35\n",
    "\n",
    "fig, ax = plt.subplots()\n",
    "\n",
    "rects1 = ax.bar(x - width/2, education_mean['salary'], width, label='Salary', align=\"edge\")\n",
    "rects2 = ax.bar(x + width/2, education_mean['add_comp'], width, label='Additional Compensation', align=\"edge\")\n",
    "\n",
    "ax.set_ylabel('Salary in EUR')\n",
    "ax.set_title('Income by overall job experience in years')\n",
    "ax.set_xticks(x)\n",
    "ax.set_xticklabels(labels, rotation=\"vertical\")\n",
    "ax.legend()"
   ]
  }
 ],
 "metadata": {
  "kernelspec": {
   "display_name": "venv",
   "language": "python",
   "name": "python3"
  },
  "language_info": {
   "codemirror_mode": {
    "name": "ipython",
    "version": 3
   },
   "file_extension": ".py",
   "mimetype": "text/x-python",
   "name": "python",
   "nbconvert_exporter": "python",
   "pygments_lexer": "ipython3",
   "version": "3.11.5"
  }
 },
 "nbformat": 4,
 "nbformat_minor": 2
}
