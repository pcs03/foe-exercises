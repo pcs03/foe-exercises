{
 "cells": [
  {
   "cell_type": "code",
   "execution_count": 1,
   "metadata": {},
   "outputs": [],
   "source": [
    "import numpy as np\n",
    "import pandas as pd\n",
    "from avipy import qty, geo\n",
    "from vinc import v_direct\n",
    "import math\n",
    "import time\n",
    "import matplotlib.pyplot as plt"
   ]
  },
  {
   "cell_type": "markdown",
   "metadata": {},
   "source": [
    "#### 2. Test v_direct function"
   ]
  },
  {
   "cell_type": "code",
   "execution_count": 2,
   "metadata": {},
   "outputs": [
    {
     "name": "stdout",
     "output_type": "stream",
     "text": [
      "Using `vinc.py`:\n",
      "Distance between Boston and New York: 298396.06 m\n",
      "Initial azimuth between Boston and New York: 235.08 degrees\n",
      "\n",
      "Using AviPy - Haversine:\n",
      "Distance between Boston and New York: 298342.83 meters m\n",
      "Initial azimuth between Boston and New York: 234.981396 degrees\n",
      "\n",
      "Using AviPy - Vincenty:\n",
      "Distance between Boston and New York: 298396.06 meters m\n",
      "Initial azimuth between Boston and New York: 235.08 degrees\n"
     ]
    }
   ],
   "source": [
    "boston = geo.Coord(42.3541165, -71.0693514)\n",
    "newyork = geo.Coord(40.7791472, -73.9680804)\n",
    "\n",
    "distance1, azimuth1 = v_direct(boston.get_latlon(), newyork.get_latlon())\n",
    "distance2, azimuth2 = boston.get_distance_bearing(newyork, \"haversine\")\n",
    "distance3, azimuth3 = boston.get_distance_bearing(newyork, \"vincenty\")\n",
    "\n",
    "print(f\"Using `vinc.py`:\")\n",
    "print(f\"Distance between Boston and New York: {distance1:.2f} m\")\n",
    "print(f\"Initial azimuth between Boston and New York: {azimuth1:.2f} degrees\")\n",
    "\n",
    "print(f\"\\nUsing AviPy - Haversine:\")\n",
    "print(f\"Distance between Boston and New York: {distance2} m\")\n",
    "print(f\"Initial azimuth between Boston and New York: {azimuth2:2f} degrees\")\n",
    "\n",
    "print(f\"\\nUsing AviPy - Vincenty:\")\n",
    "print(f\"Distance between Boston and New York: {distance3} m\")\n",
    "print(f\"Initial azimuth between Boston and New York: {azimuth3:.2f} degrees\")"
   ]
  },
  {
   "cell_type": "markdown",
   "metadata": {},
   "source": [
    "Observations:\n",
    "- The method in `vinc.py` is accurate, but cumbersome to use.\n",
    "- The Haversine equation in the AviPy library is less accurate, as its calculations are based on a sphere.\n",
    "- The Vincenty equation in the AviPy libary provides a \"wrapper\" for the equations in `vinc.py`. This makes it easy to use, and accurate. One thing to note: the Vincenty equation uses iteration for the computation of the output. This makes it slower than the Haversine equation, which runs in constant time."
   ]
  },
  {
   "cell_type": "markdown",
   "metadata": {},
   "source": [
    "#### 3. Find coordinates of AMS, LAX, NRT"
   ]
  },
  {
   "cell_type": "code",
   "execution_count": 3,
   "metadata": {},
   "outputs": [],
   "source": [
    "AMS = geo.Coord(52.309041, 4.761799)\n",
    "LAX = geo.Coord(33.944582, -118.408955)\n",
    "NRT = geo.Coord(35.769395, 140.384192)"
   ]
  },
  {
   "cell_type": "markdown",
   "metadata": {},
   "source": [
    "#### 4. Find distances between AMS-LAX, AMS-NRT, LAX-NRT in meters, kilometers and nautical miles.\n",
    "\n",
    "In addition, I want to test the extra time it takes to run the Vincenty equation instead of the Haversine equation. Haversine is slower in theory, but does that difference really matter?"
   ]
  },
  {
   "cell_type": "markdown",
   "metadata": {},
   "source": [
    "First, using the Haversine equation:"
   ]
  },
  {
   "cell_type": "code",
   "execution_count": 4,
   "metadata": {},
   "outputs": [
    {
     "name": "stdout",
     "output_type": "stream",
     "text": [
      "0.000186920166015625\n"
     ]
    }
   ],
   "source": [
    "start = time.time()\n",
    "dist_ams_lax, azimuth_ams_lax = AMS.get_distance_bearing(LAX)\n",
    "dist_ams_nrt, azimuth_ams_nrt = AMS.get_distance_bearing(NRT)\n",
    "dist_lax_nrt, azimuth_lax_nrt = LAX.get_distance_bearing(NRT)\n",
    "print(time.time() - start)"
   ]
  },
  {
   "cell_type": "markdown",
   "metadata": {},
   "source": [
    "Alright, that's pretty quick. Aproximately 0.1 ms. Let's see how the Vincenty equation performs."
   ]
  },
  {
   "cell_type": "code",
   "execution_count": 5,
   "metadata": {},
   "outputs": [
    {
     "name": "stdout",
     "output_type": "stream",
     "text": [
      "0.00025463104248046875\n"
     ]
    }
   ],
   "source": [
    "start = time.time()\n",
    "dist_ams_lax, azimuth_ams_lax = AMS.get_distance_bearing(LAX, \"vincenty\")\n",
    "dist_ams_nrt, azimuth_ams_nrt = AMS.get_distance_bearing(NRT, \"vincenty\")\n",
    "dist_lax_nrt, azimuth_lax_nrt = LAX.get_distance_bearing(NRT, \"vincenty\")\n",
    "print(time.time() - start)"
   ]
  },
  {
   "cell_type": "markdown",
   "metadata": {},
   "source": [
    "Okay, not as good but still very acceptable, this is approximately 0.2 ms, double the time of the haversine equation. \n",
    "\n",
    "Still, considering the gained precision and the sheer amount of computational power in modern computers, I think it's a no-brainer to use the Vincenty equation.\n",
    "\n",
    "Now let's have a look at the results from the function."
   ]
  },
  {
   "cell_type": "code",
   "execution_count": 6,
   "metadata": {},
   "outputs": [
    {
     "name": "stdout",
     "output_type": "stream",
     "text": [
      "AMS - LAX\n",
      "8977181.11 meters, 8977.18 km, 4847.29 NM\n",
      "Initial Azimuth: 315.30 degrees\n",
      "\n",
      "AMS - NRT\n",
      "9341468.26 meters, 9341.47 km, 5043.99 NM\n",
      "Initial Azimuth: 34.77 degrees\n",
      "\n",
      "LAX - NRT\n",
      "8772395.35 meters, 8772.40 km, 4736.71 NM\n",
      "Initial Azimuth: 305.77 degrees\n",
      "\n"
     ]
    }
   ],
   "source": [
    "print(f\"AMS - LAX\")\n",
    "print(f\"{dist_ams_lax}, {dist_ams_lax.km:.2f} km, {dist_ams_lax.n_mile:.2f} NM\")\n",
    "print(f\"Initial Azimuth: {azimuth_ams_lax:.2f} degrees\\n\")\n",
    "\n",
    "print(f\"AMS - NRT\")\n",
    "print(f\"{dist_ams_nrt}, {dist_ams_nrt.km:.2f} km, {dist_ams_nrt.n_mile:.2f} NM\")\n",
    "print(f\"Initial Azimuth: {azimuth_ams_nrt:.2f} degrees\\n\")\n",
    "\n",
    "print(f\"LAX - NRT\")\n",
    "print(f\"{dist_lax_nrt}, {dist_lax_nrt.km:.2f} km, {dist_lax_nrt.n_mile:.2f} NM\")\n",
    "print(f\"Initial Azimuth: {azimuth_lax_nrt:.2f} degrees\\n\")"
   ]
  },
  {
   "cell_type": "code",
   "execution_count": 7,
   "metadata": {},
   "outputs": [],
   "source": [
    "coordinates = {\n",
    "    \"name\": [],\n",
    "    \"lat\": [],\n",
    "    \"lon\": [],\n",
    "}\n",
    "\n",
    "coordinates['name'].extend([\"AMS\", \"LAX\", \"NRT\"])\n",
    "coordinates['lat'].extend([AMS.get_lat(), LAX.get_lat(), NRT.get_lat()])\n",
    "coordinates['lon'].extend([AMS.get_lon(), LAX.get_lon(), NRT.get_lon()])\n",
    "\n",
    "df = pd.DataFrame(coordinates)"
   ]
  },
  {
   "cell_type": "markdown",
   "metadata": {},
   "source": [
    "#### 5. Plot the waypoints in a scatter plot"
   ]
  },
  {
   "cell_type": "code",
   "execution_count": 8,
   "metadata": {},
   "outputs": [
    {
     "data": {
      "text/plain": [
       "<matplotlib.collections.PathCollection at 0x7f1eb627c850>"
      ]
     },
     "execution_count": 8,
     "metadata": {},
     "output_type": "execute_result"
    },
    {
     "data": {
      "image/png": "[encoded data removed]",
      "text/plain": [
       "<Figure size 640x480 with 1 Axes>"
      ]
     },
     "metadata": {},
     "output_type": "display_data"
    }
   ],
   "source": [
    "plt.scatter(df['lon'], df['lat'])"
   ]
  },
  {
   "cell_type": "markdown",
   "metadata": {},
   "source": [
    "#### 6. Find the coordinates 200 km north, north-east, ... etc. around Schiphol and plot them."
   ]
  },
  {
   "cell_type": "code",
   "execution_count": 9,
   "metadata": {},
   "outputs": [],
   "source": [
    "distance = qty.Distance.N_mile(200)\n",
    "\n",
    "for direction in [0, 45, 90, 135, 180, 225, 270, 315]:\n",
    "    new_coord = AMS.get_next_coord(distance, direction, \"vincenty\")\n",
    "\n",
    "    coordinates['name'].append(f\"AMS-{direction}\")\n",
    "    coordinates['lat'].append(new_coord.get_lat())\n",
    "    coordinates['lon'].append(new_coord.get_lon())\n",
    "\n",
    "df = pd.DataFrame(coordinates)"
   ]
  },
  {
   "cell_type": "code",
   "execution_count": 10,
   "metadata": {},
   "outputs": [
    {
     "data": {
      "text/html": [
       "<div>\n",
       "<style scoped>\n",
       "    .dataframe tbody tr th:only-of-type {\n",
       "        vertical-align: middle;\n",
       "    }\n",
       "\n",
       "    .dataframe tbody tr th {\n",
       "        vertical-align: top;\n",
       "    }\n",
       "\n",
       "    .dataframe thead th {\n",
       "        text-align: right;\n",
       "    }\n",
       "</style>\n",
       "<table border=\"1\" class=\"dataframe\">\n",
       "  <thead>\n",
       "    <tr style=\"text-align: right;\">\n",
       "      <th></th>\n",
       "      <th>name</th>\n",
       "      <th>lat</th>\n",
       "      <th>lon</th>\n",
       "    </tr>\n",
       "  </thead>\n",
       "  <tbody>\n",
       "    <tr>\n",
       "      <th>0</th>\n",
       "      <td>AMS</td>\n",
       "      <td>52.309041</td>\n",
       "      <td>4.761799</td>\n",
       "    </tr>\n",
       "    <tr>\n",
       "      <th>1</th>\n",
       "      <td>LAX</td>\n",
       "      <td>33.944582</td>\n",
       "      <td>-118.408955</td>\n",
       "    </tr>\n",
       "    <tr>\n",
       "      <th>2</th>\n",
       "      <td>NRT</td>\n",
       "      <td>35.769395</td>\n",
       "      <td>140.384192</td>\n",
       "    </tr>\n",
       "    <tr>\n",
       "      <th>3</th>\n",
       "      <td>AMS-0</td>\n",
       "      <td>55.636852</td>\n",
       "      <td>4.761799</td>\n",
       "    </tr>\n",
       "    <tr>\n",
       "      <th>4</th>\n",
       "      <td>AMS-45</td>\n",
       "      <td>54.595789</td>\n",
       "      <td>8.815031</td>\n",
       "    </tr>\n",
       "    <tr>\n",
       "      <th>5</th>\n",
       "      <td>AMS-90</td>\n",
       "      <td>52.184413</td>\n",
       "      <td>10.182416</td>\n",
       "    </tr>\n",
       "    <tr>\n",
       "      <th>6</th>\n",
       "      <td>AMS-135</td>\n",
       "      <td>49.896130</td>\n",
       "      <td>8.407476</td>\n",
       "    </tr>\n",
       "    <tr>\n",
       "      <th>7</th>\n",
       "      <td>AMS-180</td>\n",
       "      <td>48.979345</td>\n",
       "      <td>4.761799</td>\n",
       "    </tr>\n",
       "    <tr>\n",
       "      <th>8</th>\n",
       "      <td>AMS-225</td>\n",
       "      <td>49.896130</td>\n",
       "      <td>1.116122</td>\n",
       "    </tr>\n",
       "    <tr>\n",
       "      <th>9</th>\n",
       "      <td>AMS-270</td>\n",
       "      <td>52.184413</td>\n",
       "      <td>-0.658818</td>\n",
       "    </tr>\n",
       "    <tr>\n",
       "      <th>10</th>\n",
       "      <td>AMS-315</td>\n",
       "      <td>54.595789</td>\n",
       "      <td>0.708567</td>\n",
       "    </tr>\n",
       "  </tbody>\n",
       "</table>\n",
       "</div>"
      ],
      "text/plain": [
       "       name        lat         lon\n",
       "0       AMS  52.309041    4.761799\n",
       "1       LAX  33.944582 -118.408955\n",
       "2       NRT  35.769395  140.384192\n",
       "3     AMS-0  55.636852    4.761799\n",
       "4    AMS-45  54.595789    8.815031\n",
       "5    AMS-90  52.184413   10.182416\n",
       "6   AMS-135  49.896130    8.407476\n",
       "7   AMS-180  48.979345    4.761799\n",
       "8   AMS-225  49.896130    1.116122\n",
       "9   AMS-270  52.184413   -0.658818\n",
       "10  AMS-315  54.595789    0.708567"
      ]
     },
     "execution_count": 10,
     "metadata": {},
     "output_type": "execute_result"
    }
   ],
   "source": [
    "df"
   ]
  },
  {
   "cell_type": "code",
   "execution_count": 11,
   "metadata": {},
   "outputs": [
    {
     "data": {
      "image/png": "[encoded data removed]",
      "text/plain": [
       "<Figure size 1200x300 with 1 Axes>"
      ]
     },
     "metadata": {},
     "output_type": "display_data"
    }
   ],
   "source": [
    "fig = plt.figure(figsize=(12, 3))\n",
    "plt.scatter(df['lon'], df['lat'], )\n",
    "ax = plt.gca()\n"
   ]
  },
  {
   "cell_type": "markdown",
   "metadata": {},
   "source": [
    "#### 7 .- Assign random distance values to trajectories 1 to three and use an embedded IF statement to find the longest one. Try different combinations to test your logic."
   ]
  },
  {
   "cell_type": "markdown",
   "metadata": {},
   "source": [
    "Yeah we can do that:"
   ]
  },
  {
   "cell_type": "code",
   "execution_count": 12,
   "metadata": {},
   "outputs": [
    {
     "name": "stdout",
     "output_type": "stream",
     "text": [
      "1830\n"
     ]
    }
   ],
   "source": [
    "traj1 = 1500\n",
    "traj2 = 1830\n",
    "traj3 = 1000\n",
    "\n",
    "if traj1 > traj2 and traj1 > traj3:\n",
    "    print(traj1)\n",
    "elif traj2 > traj1 and traj2 > traj3:\n",
    "    print(traj2)\n",
    "else:\n",
    "    print(traj3)\n"
   ]
  },
  {
   "cell_type": "markdown",
   "metadata": {},
   "source": [
    "Or we can just:"
   ]
  },
  {
   "cell_type": "code",
   "execution_count": 13,
   "metadata": {},
   "outputs": [
    {
     "name": "stdout",
     "output_type": "stream",
     "text": [
      "1830\n"
     ]
    }
   ],
   "source": [
    "print(max(traj1, traj2, traj3))"
   ]
  },
  {
   "cell_type": "markdown",
   "metadata": {},
   "source": [
    "Or better:"
   ]
  },
  {
   "cell_type": "code",
   "execution_count": 14,
   "metadata": {},
   "outputs": [
    {
     "name": "stdout",
     "output_type": "stream",
     "text": [
      "2\n"
     ]
    }
   ],
   "source": [
    "trajectories = {\n",
    "    \"1\": traj1,\n",
    "    \"2\": traj2,\n",
    "    \"3\": traj3,\n",
    "}\n",
    "\n",
    "longest = max(trajectories, key=lambda traj: trajectories[traj])\n",
    "print(longest)"
   ]
  },
  {
   "cell_type": "markdown",
   "metadata": {},
   "source": [
    "#### 8. Get the longest distance from exercise 4"
   ]
  },
  {
   "cell_type": "code",
   "execution_count": 15,
   "metadata": {},
   "outputs": [
    {
     "name": "stdout",
     "output_type": "stream",
     "text": [
      "The longest trajectory is 'AMSNRT', with a distance of 5043.99 NM\n"
     ]
    }
   ],
   "source": [
    "distances = {\n",
    "    \"AMSLAX\": dist_ams_lax,\n",
    "    \"AMSNRT\": dist_ams_nrt,\n",
    "    \"LAXNRT\": dist_lax_nrt,\n",
    "}\n",
    "\n",
    "longest = max(distances, key=lambda distance: distances[distance])\n",
    "\n",
    "print(f\"The longest trajectory is '{longest}', with a distance of {distances[longest].n_mile:.2f} NM\")"
   ]
  }
 ],
 "metadata": {
  "kernelspec": {
   "display_name": "venv",
   "language": "python",
   "name": "python3"
  },
  "language_info": {
   "codemirror_mode": {
    "name": "ipython",
    "version": 3
   },
   "file_extension": ".py",
   "mimetype": "text/x-python",
   "name": "python",
   "nbconvert_exporter": "python",
   "pygments_lexer": "ipython3",
   "version": "3.11.6"
  }
 },
 "nbformat": 4,
 "nbformat_minor": 2
}
