{
 "cells": [
  {
   "cell_type": "code",
   "execution_count": 5,
   "metadata": {},
   "outputs": [],
   "source": [
    "import numpy as np\n",
    "from avipy import geo"
   ]
  },
  {
   "cell_type": "code",
   "execution_count": 6,
   "metadata": {},
   "outputs": [],
   "source": [
    "def load_weather():\n",
    "    TMP = np.genfromtxt(\"TMP_date_1_alt_1.csv\", delimiter=\",\")\n",
    "    WIND = np.genfromtxt(\"WIND_date_1_alt_1.csv\", delimiter=\",\")\n",
    "    WDIR = np.genfromtxt(\"WDIR_date_1_alt_1.csv\", delimiter=\",\")\n",
    "    return TMP, WIND, WDIR\n",
    "\n",
    "tmp, wind, wdir = load_weather()"
   ]
  },
  {
   "cell_type": "code",
   "execution_count": 11,
   "metadata": {},
   "outputs": [],
   "source": [
    "lat = 90\n",
    "lon = 180\n",
    "\n",
    "def get_grib_idx(coord: geo.Coord):\n",
    "    lat, lon = coord.get_latlon()\n",
    "    \n",
    "    lat = lat + 90\n",
    "    lon = lon + 180\n",
    "    \n",
    "    lat_idx = round((lat / 180) * 301)\n",
    "    lon_idx = round((lon / 360) * 601)\n",
    "    \n",
    "    print(lat_idx, lon_idx)\n",
    "    \n",
    "    row = (lat_idx - 1) * 601 + lon_idx - 1\n",
    "    return row\n",
    " "
   ]
  },
  {
   "cell_type": "code",
   "execution_count": 14,
   "metadata": {},
   "outputs": [
    {
     "name": "stdout",
     "output_type": "stream",
     "text": [
      "301 601\n",
      "301 601\n",
      "180900\n",
      "[601.    301.    227.325]\n"
     ]
    }
   ],
   "source": [
    "row_idx = get_grib_idx(geo.Coord(90, 180))\n",
    "print(get_grib_idx(geo.Coord(90, 180)))\n",
    "print(tmp[row_idx])\n"
   ]
  },
  {
   "cell_type": "code",
   "execution_count": 17,
   "metadata": {},
   "outputs": [
    {
     "name": "stdout",
     "output_type": "stream",
     "text": [
      "237 300\n",
      "[300.    237.    227.738]\n"
     ]
    }
   ],
   "source": [
    "row_idx = get_grib_idx(geo.Coord(51.5083, -0.12574))\n",
    "print(tmp[row_idx])"
   ]
  }
 ],
 "metadata": {
  "kernelspec": {
   "display_name": "venv",
   "language": "python",
   "name": "python3"
  },
  "language_info": {
   "codemirror_mode": {
    "name": "ipython",
    "version": 3
   },
   "file_extension": ".py",
   "mimetype": "text/x-python",
   "name": "python",
   "nbconvert_exporter": "python",
   "pygments_lexer": "ipython3",
   "version": "3.11.6"
  }
 },
 "nbformat": 4,
 "nbformat_minor": 2
}
